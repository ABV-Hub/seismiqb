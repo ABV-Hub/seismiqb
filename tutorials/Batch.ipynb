{
 "cells": [
  {
   "cell_type": "markdown",
   "metadata": {},
   "source": [
    "# Seismic CropBatch tutorial\n",
    "\n",
    "Welcome! This notebook shows how to use `SeismicCropBatch` to load data from cubes, create segmentation masks from labels, and more!"
   ]
  },
  {
   "cell_type": "code",
   "execution_count": null,
   "metadata": {},
   "outputs": [],
   "source": [
    "import os\n",
    "import sys\n",
    "import warnings\n",
    "\n",
    "import numpy as np\n",
    "import matplotlib.pyplot as plt\n",
    "\n",
    "sys.path.append('..')\n",
    "from seismiqb.batchflow import FilesIndex\n",
    "from seismiqb.batchflow import B, V, C, L, F, D, P, R\n",
    "from seismiqb import SeismicCropBatch, SeismicGeometry, SeismicCubeset\n",
    "\n",
    "from glob import glob"
   ]
  },
  {
   "cell_type": "markdown",
   "metadata": {},
   "source": [
    "#### First of all, we create `SeismicCubeset`"
   ]
  },
  {
   "cell_type": "code",
   "execution_count": null,
   "metadata": {},
   "outputs": [],
   "source": [
    "path_data_0 = '/notebooks/SEISMIC_DATA/CUBE_1/E_anon.hdf5'\n",
    "path_data_1 = '/notebooks/SEISMIC_DATA/CUBE_3/P_cube.hdf5'\n",
    "path_data_2 = '/notebooks/SEISMIC_DATA/CUBE_VUONGMK/Repaired_cube.hdf5'\n",
    "\n",
    "dsi = FilesIndex(path=[path_data_0, path_data_1, path_data_2], no_ext=True)\n",
    "ds = SeismicCubeset(dsi)\n",
    "\n",
    "ds = (ds.load_geometries()\n",
    "        .load_point_clouds(path = path_pc_saved)\n",
    "        .load_labels()\n",
    "        .load_samplers(p=[0.4, 0.2, 0.4])\n",
    "      )\n",
    "\n",
    "# ~80 seconds"
   ]
  },
  {
   "cell_type": "code",
   "execution_count": null,
   "metadata": {},
   "outputs": [],
   "source": []
  },
  {
   "cell_type": "markdown",
   "metadata": {},
   "source": [
    "#### Create batch\n",
    "\n",
    "* First action, `load_component`, creates references to geometries and labels in instance of `SeismicCropBatch`. That is done for convinience and ease of access of these entities.\n",
    "\n",
    "* Then we use `crop`. It creates positions to cut crops of desired shape from cubes. Note that it does not load anything from disk: only positions are created.\n",
    "\n",
    "* Heavy lifting of disk I/O is performed by `load_cubes`, that takes positions (created by `crop`) and actually gets data from cube.\n",
    "\n",
    "* `load_masks` creates segmentation mask of the same size as cutted crop from `labels` dictionary."
   ]
  },
  {
   "cell_type": "code",
   "execution_count": null,
   "metadata": {},
   "outputs": [],
   "source": [
    "demo_batch = (ds.p.load_component(src=[D('geometries'), D('labels')],\n",
    "                                  dst=['geometries', 'labels'])\n",
    "                  .crop(points=L(ds.sampler.sample, 16), shape=[3, 512, 512])\n",
    "                  .load_cubes(dst='data_crops')\n",
    "                  .load_masks(dst='mask_crops')\n",
    "              )"
   ]
  },
  {
   "cell_type": "markdown",
   "metadata": {},
   "source": [
    "#### Check contents of `data_crops` and `mask_crops` components of batch:"
   ]
  },
  {
   "cell_type": "code",
   "execution_count": null,
   "metadata": {},
   "outputs": [],
   "source": [
    "for cube in np.random.choice(16, 2):\n",
    "    print(demo_batch.indices[cube][:-10])\n",
    "    iline = 0\n",
    "    \n",
    "    img = demo_batch.data_crops[cube][iline, :, :].T\n",
    "    mask = demo_batch.mask_crops[cube][iline, :, :].T\n",
    "    \n",
    "    fig, ax = plt.subplots(1, 2, figsize=(25, 10))\n",
    "\n",
    "    ax[0].imshow(img, cmap='gray')\n",
    "    ax[0].set_title('Cube slice')\n",
    "    \n",
    "    ax[1].imshow(masks, cmap=\"Blues\")\n",
    "    ax[1].imshow(img, cmap=\"gray\", alpha=0.5)\n",
    "    ax[1].imshow(masks, cmap=\"Blues\", alpha=0.1)\n",
    "    ax[1].set_title('Mask')\n",
    "   \n",
    "    plt.show()"
   ]
  },
  {
   "cell_type": "markdown",
   "metadata": {},
   "source": [
    "#### Lets add some data augmentations:\n",
    "* `rotate_axis`. "
   ]
  },
  {
   "cell_type": "code",
   "execution_count": null,
   "metadata": {},
   "outputs": [],
   "source": []
  },
  {
   "cell_type": "code",
   "execution_count": null,
   "metadata": {},
   "outputs": [],
   "source": []
  }
 ],
 "metadata": {
  "kernelspec": {
   "display_name": "Python 3",
   "language": "python",
   "name": "python3"
  },
  "language_info": {
   "codemirror_mode": {
    "name": "ipython",
    "version": 3
   },
   "file_extension": ".py",
   "mimetype": "text/x-python",
   "name": "python",
   "nbconvert_exporter": "python",
   "pygments_lexer": "ipython3",
   "version": "3.5.2"
  }
 },
 "nbformat": 4,
 "nbformat_minor": 2
}
