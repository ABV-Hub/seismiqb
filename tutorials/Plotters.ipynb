{
 "cells": [
  {
   "cell_type": "markdown",
   "metadata": {},
   "source": [
    "## Loading geometries, cubes and horizons"
   ]
  },
  {
   "cell_type": "code",
   "execution_count": 1,
   "metadata": {},
   "outputs": [],
   "source": [
    "# Necessary imports\n",
    "%load_ext autoreload\n",
    "%autoreload 2\n",
    "\n",
    "import sys\n",
    "import warnings\n",
    "\n",
    "import numpy as np\n",
    "\n",
    "sys.path.append('..')\n",
    "from seismiqb.batchflow import Pipeline, FilesIndex\n",
    "from seismiqb import SeismicCropBatch, SeismicGeometry, SeismicCubeset, Horizon\n",
    "from seismiqb import plot_image, HorizonMetrics\n",
    "\n",
    "warnings.filterwarnings(\"ignore\")"
   ]
  },
  {
   "cell_type": "code",
   "execution_count": 6,
   "metadata": {},
   "outputs": [],
   "source": [
    "geometry = SeismicGeometry('/data/seismic/CUBE_2/M_cube.hdf5')\n",
    "horizon = Horizon('/data/seismic/CUBE_2/RAW/t0_BV8_anon', geometry=geometry)\n",
    "\n",
    "# geometry = SeismicGeometry('/data/seismic/CUBE_12/A_cube.hdf5')\n",
    "# horizon = Horizon('/data/seismic/CUBE_12/FULL_CONVERTED/V-3', geometry=geometry)"
   ]
  },
  {
   "cell_type": "code",
   "execution_count": null,
   "metadata": {},
   "outputs": [],
   "source": [
    "hm = HorizonMetrics(horizon)\n",
    "\n",
    "metric = hm.evaluate('support_corrs', zmin=None, zmax=None, supports=25, plot=True)"
   ]
  },
  {
   "cell_type": "code",
   "execution_count": null,
   "metadata": {},
   "outputs": [],
   "source": []
  },
  {
   "cell_type": "code",
   "execution_count": null,
   "metadata": {},
   "outputs": [],
   "source": []
  },
  {
   "cell_type": "code",
   "execution_count": null,
   "metadata": {},
   "outputs": [],
   "source": [
    "hm = HorizonMetrics(horizon)\n",
    "\n",
    "metric = hm.evaluate('support_corrs', zmin=None, zmax=None, plot=True)"
   ]
  },
  {
   "cell_type": "code",
   "execution_count": null,
   "metadata": {},
   "outputs": [],
   "source": [
    "plot_dict = {\n",
    "    'title': f'Corrs for {hm.name} on cube {hm.cube_name}',\n",
    "    'cmap': 'seismic',\n",
    "    'zmin': -1., 'zmax': 1.,\n",
    "    'ignore_value': 0.0,\n",
    "    'xlabel': 'ilines', 'ylabel': 'xlines',\n",
    "    'bad_color': 'black',\n",
    "    # **kwargs\n",
    "}\n",
    "\n",
    "plot_image(metric, **plot_dict)"
   ]
  },
  {
   "cell_type": "code",
   "execution_count": null,
   "metadata": {},
   "outputs": [],
   "source": [
    "plot_image(metric, mode='histogram', bins=100, log=False)"
   ]
  },
  {
   "cell_type": "code",
   "execution_count": null,
   "metadata": {},
   "outputs": [],
   "source": [
    "import numpy as np\n",
    "import matplotlib.pyplot as plt\n",
    "import matplotlib.colors as mcolors\n",
    "\n",
    "\n",
    "def make_colormap(seq):\n",
    "    \"\"\"Return a LinearSegmentedColormap\n",
    "    seq: a sequence of floats and RGB-tuples. The floats should be increasing\n",
    "    and in the interval (0,1).\n",
    "    \"\"\"\n",
    "    seq = [(None,) * 3, 0.0] + list(seq) + [1.0, (None,) * 3]\n",
    "    cdict = {'red': [], 'green': [], 'blue': []}\n",
    "    for i, item in enumerate(seq):\n",
    "        if isinstance(item, float):\n",
    "            r1, g1, b1 = seq[i - 1]\n",
    "            r2, g2, b2 = seq[i + 1]\n",
    "            cdict['red'].append([item, r1, r2])\n",
    "            cdict['green'].append([item, g1, g2])\n",
    "            cdict['blue'].append([item, b1, b2])\n",
    "    print(cdict)\n",
    "    return mcolors.LinearSegmentedColormap('CustomMap', cdict)\n",
    "\n",
    "\n",
    "c = mcolors.ColorConverter().to_rgb\n",
    "cmp = make_colormap(\n",
    "    [c('red'), c('red'), 0.33, c('red'), c('yellow'), 0.66, c('yellow'), c('green')])"
   ]
  },
  {
   "cell_type": "code",
   "execution_count": null,
   "metadata": {},
   "outputs": [],
   "source": [
    "cdict = {\n",
    "    'red': [\n",
    "        [0.0, None, 1.0],\n",
    "        [0.33, 1.0, 1.0],\n",
    "        [0.66, 1.0, 1.0],\n",
    "        [1.0, 0.0, None]\n",
    "    ],\n",
    "    'green': [\n",
    "        [0.0, None, 0.0],\n",
    "        [0.33, 0.0, 0.0],\n",
    "        [0.66, 1.0, 1.0],\n",
    "        [1.0, 0.5019607843137255, None]\n",
    "    ],\n",
    "    'blue': [\n",
    "        [0.0, None, 0.0],\n",
    "        [0.33, 0.0, 0.0],\n",
    "        [0.66, 0.0, 0.0],\n",
    "        [1.0, 0.0, None]\n",
    "    ]\n",
    "}\n",
    "\n",
    "cmp = mcolors.LinearSegmentedColormap('CustomMap', cdict)"
   ]
  },
  {
   "cell_type": "code",
   "execution_count": null,
   "metadata": {},
   "outputs": [],
   "source": [
    "plot_dict = {\n",
    "    'title': f'Corrs for {hm.name} on cube {hm.cube_name}',\n",
    "    'cmap': cmp,\n",
    "    'zmin': -1., 'zmax': 1.,\n",
    "    'ignore_value': 0.0,\n",
    "    'xlabel': 'ilines', 'ylabel': 'xlines',\n",
    "    'bad_color': 'black',\n",
    "    'figsize': (12, 12),\n",
    "    'color': 'blue',\n",
    "    # **kwargs\n",
    "}\n",
    "\n",
    "plot_image(metric, **plot_dict)"
   ]
  },
  {
   "cell_type": "code",
   "execution_count": null,
   "metadata": {},
   "outputs": [],
   "source": [
    "hm = HorizonMetrics((horizon, horizon))\n",
    "\n",
    "metric = hm.evaluate('compare', agg=None, zmin=None, zmax=None, plot=True, hist=False, bad_color='black')"
   ]
  },
  {
   "cell_type": "code",
   "execution_count": null,
   "metadata": {},
   "outputs": [],
   "source": []
  },
  {
   "cell_type": "code",
   "execution_count": null,
   "metadata": {},
   "outputs": [],
   "source": []
  },
  {
   "cell_type": "code",
   "execution_count": null,
   "metadata": {},
   "outputs": [],
   "source": []
  },
  {
   "cell_type": "code",
   "execution_count": null,
   "metadata": {},
   "outputs": [],
   "source": [
    "paths_cubes = ['/data/seismic/CUBE_3/P_cube.hdf5']\n",
    "\n",
    "dsi = FilesIndex(path=paths_cubes, no_ext=True)\n",
    "ds = SeismicCubeset(dsi)"
   ]
  },
  {
   "cell_type": "code",
   "execution_count": null,
   "metadata": {},
   "outputs": [],
   "source": [
    "ds = ds.load(collect_stats=True)"
   ]
  },
  {
   "cell_type": "markdown",
   "metadata": {},
   "source": [
    "##  Testing `plot`-methods of `cubeset`"
   ]
  },
  {
   "cell_type": "markdown",
   "metadata": {},
   "source": [
    "* `show_slide`"
   ]
  },
  {
   "cell_type": "code",
   "execution_count": null,
   "metadata": {},
   "outputs": [],
   "source": [
    "ds.show_slide(idx=0, n_line=1700, axis='iline', backend='matplotlib')"
   ]
  },
  {
   "cell_type": "markdown",
   "metadata": {},
   "source": [
    "* we can also change orientation, make the pic larger and save it"
   ]
  },
  {
   "cell_type": "code",
   "execution_count": null,
   "metadata": {},
   "outputs": [],
   "source": [
    "ds.show_slide(idx=0, n_line=1700, axis='xline', backend='matplotlib', figsize=(20, 12), order_axes=(0, 1),\n",
    "              savepath='test_xline.png')"
   ]
  },
  {
   "cell_type": "markdown",
   "metadata": {},
   "source": [
    "##  Testing `plot`-methods of `Horizon`"
   ]
  },
  {
   "cell_type": "code",
   "execution_count": null,
   "metadata": {},
   "outputs": [],
   "source": [
    "hor = Horizon('/notebooks/making_dvc/seismic_data/seismiqb/CUBE_3/BEST_HORIZONS/prb_B_anon',\n",
    "              ds.geometries['P_cube_working'])"
   ]
  },
  {
   "cell_type": "markdown",
   "metadata": {},
   "source": [
    "* let's first look at a slice of the cube containing the horizon"
   ]
  },
  {
   "cell_type": "code",
   "execution_count": null,
   "metadata": {},
   "outputs": [],
   "source": [
    "hor.show_slide(width=10, loc=1700)"
   ]
  },
  {
   "cell_type": "markdown",
   "metadata": {},
   "source": [
    "* check out also the depth-map of the horizon controlling the font of the labels"
   ]
  },
  {
   "cell_type": "code",
   "execution_count": null,
   "metadata": {},
   "outputs": [],
   "source": [
    "hor.show(backend='matplotlib', family='serif', fontsize=17)"
   ]
  },
  {
   "cell_type": "markdown",
   "metadata": {},
   "source": [
    "* change backend and render small part of the same horizon"
   ]
  },
  {
   "cell_type": "code",
   "execution_count": null,
   "metadata": {},
   "outputs": [],
   "source": [
    "# hor.show(backend='plotly', slice=(slice(500, 1000), slice(500, 1000)),\n",
    "#          max_size=700)"
   ]
  },
  {
   "cell_type": "markdown",
   "metadata": {},
   "source": [
    "* let's also look at RGB-view of three adjacent horizon-levels"
   ]
  },
  {
   "cell_type": "code",
   "execution_count": null,
   "metadata": {},
   "outputs": [],
   "source": [
    "hor.show_amplitudes_rgb(backend='matplotlib')"
   ]
  },
  {
   "cell_type": "markdown",
   "metadata": {},
   "source": [
    "## Other: `Geometry`, `Batch` and loss-plotting"
   ]
  },
  {
   "cell_type": "markdown",
   "metadata": {},
   "source": [
    "* fetch `geometry` and check out the distribution of values"
   ]
  },
  {
   "cell_type": "code",
   "execution_count": null,
   "metadata": {},
   "outputs": [],
   "source": [
    "geom = ds.geometries[ds.indices[0]]"
   ]
  },
  {
   "cell_type": "code",
   "execution_count": null,
   "metadata": {},
   "outputs": [],
   "source": [
    "geom.show_amplitude_hist(fontsize=14)"
   ]
  },
  {
   "cell_type": "markdown",
   "metadata": {},
   "source": [
    "* another way to plot cube-slice"
   ]
  },
  {
   "cell_type": "code",
   "execution_count": null,
   "metadata": {},
   "outputs": [],
   "source": [
    "geom.show_slide(loc=1700, cmap='gray')"
   ]
  },
  {
   "cell_type": "markdown",
   "metadata": {},
   "source": [
    "* let's make a small crop and check out its components"
   ]
  },
  {
   "cell_type": "code",
   "execution_count": null,
   "metadata": {},
   "outputs": [],
   "source": [
    "batch = (ds >> (Pipeline()\n",
    "               .crop(points=D('sampler').sample(4), shape=(1, 256, 256))\n",
    "               .load_cubes(dst='images')\n",
    "               .create_masks(dst='masks'))\n",
    "               .apply_transform(np.squeeze, src='images', dst='images')\n",
    "               .apply_transform(np.squeeze, src='masks', dst='masks')).next_batch(1)"
   ]
  },
  {
   "cell_type": "code",
   "execution_count": null,
   "metadata": {},
   "outputs": [],
   "source": [
    "batch.plot_components('images', 'masks', mode='overlap', backend='matplotlib', y=1)"
   ]
  },
  {
   "cell_type": "code",
   "execution_count": null,
   "metadata": {},
   "outputs": [],
   "source": [
    "batch.plot_components('images', 'masks', mode='separate', backend='matplotlib', y=0.9)"
   ]
  },
  {
   "cell_type": "code",
   "execution_count": null,
   "metadata": {},
   "outputs": [],
   "source": [
    "# batch.plot_components('images', 'masks', plot_mode='separate', backend='plotly')"
   ]
  },
  {
   "cell_type": "markdown",
   "metadata": {},
   "source": [
    "* check out also how curve-plotting mode of `matplotlib`-backend can be used to plot loss-curves"
   ]
  },
  {
   "cell_type": "code",
   "execution_count": null,
   "metadata": {},
   "outputs": [],
   "source": [
    "n_points = 20\n",
    "data = 5 * np.linspace(0, 2, n_points) + 2 + 0.5 * np.random.rand(n_points)"
   ]
  },
  {
   "cell_type": "code",
   "execution_count": null,
   "metadata": {},
   "outputs": [],
   "source": [
    "plot_image(data, mode='curve', fontsize=15, figsize=(8, 5))"
   ]
  }
 ],
 "metadata": {
  "kernelspec": {
   "display_name": "Python 3",
   "language": "python",
   "name": "python3"
  },
  "language_info": {
   "codemirror_mode": {
    "name": "ipython",
    "version": 3
   },
   "file_extension": ".py",
   "mimetype": "text/x-python",
   "name": "python",
   "nbconvert_exporter": "python",
   "pygments_lexer": "ipython3",
   "version": "3.6.6+"
  },
  "varInspector": {
   "cols": {
    "lenName": 16,
    "lenType": 16,
    "lenVar": 40
   },
   "kernels_config": {
    "python": {
     "delete_cmd_postfix": "",
     "delete_cmd_prefix": "del ",
     "library": "var_list.py",
     "varRefreshCmd": "print(var_dic_list())"
    },
    "r": {
     "delete_cmd_postfix": ") ",
     "delete_cmd_prefix": "rm(",
     "library": "var_list.r",
     "varRefreshCmd": "cat(var_dic_list()) "
    }
   },
   "types_to_exclude": [
    "module",
    "function",
    "builtin_function_or_method",
    "instance",
    "_Feature"
   ],
   "window_display": false
  }
 },
 "nbformat": 4,
 "nbformat_minor": 4
}
