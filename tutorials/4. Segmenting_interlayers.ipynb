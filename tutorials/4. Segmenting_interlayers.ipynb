{
 "cells": [
  {
   "cell_type": "markdown",
   "metadata": {},
   "source": [
    "## Segmenting interlayers"
   ]
  },
  {
   "cell_type": "markdown",
   "metadata": {},
   "source": [
    "Welcome! \n",
    "In this tutorial we train a neural network to segment interlayers on seismic cube `P_cube`"
   ]
  },
  {
   "cell_type": "code",
   "execution_count": 1,
   "metadata": {},
   "outputs": [],
   "source": [
    "import sys\n",
    "import os"
   ]
  },
  {
   "cell_type": "code",
   "execution_count": 2,
   "metadata": {},
   "outputs": [],
   "source": [
    "sys.path.append('../repos/seismiqb/')"
   ]
  },
  {
   "cell_type": "code",
   "execution_count": 3,
   "metadata": {},
   "outputs": [
    {
     "name": "stdout",
     "output_type": "stream",
     "text": [
      "env: CUDA_VISIBLE_DEVICES=2\n"
     ]
    }
   ],
   "source": [
    "from seismiqb import SeismicCropBatch, SeismicCubeset\n",
    "from seismiqb.batchflow import FilesIndex, D, L, F, Pipeline, B, V\n",
    "from seismiqb.batchflow.models.tf import UNet\n",
    "import numpy as np\n",
    "from tqdm import tqdm_notebook, tqdm\n",
    "import matplotlib.pyplot as plt\n",
    "%env CUDA_VISIBLE_DEVICES=2"
   ]
  },
  {
   "cell_type": "markdown",
   "metadata": {},
   "source": [
    "* Indexing seismic cubes: setting up `SeismicCubeset`"
   ]
  },
  {
   "cell_type": "code",
   "execution_count": 4,
   "metadata": {},
   "outputs": [],
   "source": [
    "DATA_DIR = '/notebooks/data/cubes/CUBE_3/'"
   ]
  },
  {
   "cell_type": "code",
   "execution_count": 5,
   "metadata": {},
   "outputs": [],
   "source": [
    "qbix = FilesIndex(path=os.path.join(DATA_DIR, 'P_cube.sgy'), no_ext=True)\n",
    "qbset = SeismicCubeset(qbix)"
   ]
  },
  {
   "cell_type": "code",
   "execution_count": 6,
   "metadata": {},
   "outputs": [
    {
     "name": "stderr",
     "output_type": "stream",
     "text": [
      "Working with CUBE_3/P_cube.sgy: 100%|██████████| 7113463/7113463 [01:23<00:00, 85277.79it/s]\n"
     ]
    },
    {
     "data": {
      "text/plain": [
       "<seismiqb.src.cubeset.SeismicCubeset at 0x7f70dcfaebe0>"
      ]
     },
     "execution_count": 6,
     "metadata": {},
     "output_type": "execute_result"
    }
   ],
   "source": [
    "qbset.load_geometries()"
   ]
  },
  {
   "cell_type": "markdown",
   "metadata": {},
   "source": [
    "* load horizon-labels"
   ]
  },
  {
   "cell_type": "code",
   "execution_count": 7,
   "metadata": {},
   "outputs": [],
   "source": [
    "pref = os.path.join(DATA_DIR, 'HORIZONTS')\n",
    "horizons_paths = [os.path.join(pref, p) for p in ['prb_B_anon.txt',\n",
    "                                                  'prb_T_ALL_anon.txt',\n",
    "                                                  'prb_G_anon.txt',\n",
    "                                                  'prb_M_anon.txt']]"
   ]
  },
  {
   "cell_type": "code",
   "execution_count": 8,
   "metadata": {},
   "outputs": [
    {
     "data": {
      "text/plain": [
       "<seismiqb.src.cubeset.SeismicCubeset at 0x7f70dcfaebe0>"
      ]
     },
     "execution_count": 8,
     "metadata": {},
     "output_type": "execute_result"
    }
   ],
   "source": [
    "qbset.load_point_clouds(paths={qbset.indices[0]: horizons_paths})"
   ]
  },
  {
   "cell_type": "code",
   "execution_count": 9,
   "metadata": {},
   "outputs": [
    {
     "data": {
      "text/plain": [
       "<seismiqb.src.cubeset.SeismicCubeset at 0x7f70dcfaebe0>"
      ]
     },
     "execution_count": 9,
     "metadata": {},
     "output_type": "execute_result"
    }
   ],
   "source": [
    "qbset.load_labels()"
   ]
  },
  {
   "cell_type": "markdown",
   "metadata": {},
   "source": [
    "* make train/test samplers"
   ]
  },
  {
   "cell_type": "code",
   "execution_count": 10,
   "metadata": {},
   "outputs": [
    {
     "data": {
      "text/plain": [
       "<seismiqb.src.cubeset.SeismicCubeset at 0x7f70dcfaebe0>"
      ]
     },
     "execution_count": 10,
     "metadata": {},
     "output_type": "execute_result"
    }
   ],
   "source": [
    "qbset.load_samplers()"
   ]
  },
  {
   "cell_type": "code",
   "execution_count": 54,
   "metadata": {},
   "outputs": [],
   "source": [
    "qbset.train_sample = qbset.sampler.truncate(expr=lambda x: x[:, 1:],\n",
    "                                            high=[1, 0.3, 1]).sample\n",
    "qbset.test_sample = qbset.sampler.truncate(expr=lambda x: x[:, 1:],\n",
    "                                           low=[0, 0.65, 0]).sample"
   ]
  }
 ],
 "metadata": {
  "kernelspec": {
   "display_name": "Python 3",
   "language": "python",
   "name": "python3"
  },
  "language_info": {
   "codemirror_mode": {
    "name": "ipython",
    "version": 3
   },
   "file_extension": ".py",
   "mimetype": "text/x-python",
   "name": "python",
   "nbconvert_exporter": "python",
   "pygments_lexer": "ipython3",
   "version": "3.5.2"
  }
 },
 "nbformat": 4,
 "nbformat_minor": 2
}
