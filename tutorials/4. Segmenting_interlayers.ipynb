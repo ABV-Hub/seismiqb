{
 "cells": [
  {
   "cell_type": "markdown",
   "metadata": {},
   "source": [
    "# Segmenting interlayers"
   ]
  },
  {
   "cell_type": "markdown",
   "metadata": {},
   "source": [
    "Welcome! \n",
    "In this tutorial we train a neural network to segment interlayers on seismic cube `P_cube`"
   ]
  },
  {
   "cell_type": "code",
   "execution_count": 1,
   "metadata": {},
   "outputs": [],
   "source": [
    "import sys\n",
    "import os"
   ]
  },
  {
   "cell_type": "code",
   "execution_count": 2,
   "metadata": {},
   "outputs": [],
   "source": [
    "sys.path.append('../repos/seismiqb/')"
   ]
  },
  {
   "cell_type": "code",
   "execution_count": 3,
   "metadata": {},
   "outputs": [
    {
     "name": "stdout",
     "output_type": "stream",
     "text": [
      "env: CUDA_VISIBLE_DEVICES=4\n"
     ]
    }
   ],
   "source": [
    "import numpy as np\n",
    "%env CUDA_VISIBLE_DEVICES=4"
   ]
  },
  {
   "cell_type": "markdown",
   "metadata": {},
   "source": [
    "## Preparations: working with `Dataset` of cubes and horizon-labels"
   ]
  },
  {
   "cell_type": "markdown",
   "metadata": {},
   "source": [
    "* Indexing seismic cubes: setting up `SeismicCubeset`"
   ]
  },
  {
   "cell_type": "code",
   "execution_count": 4,
   "metadata": {},
   "outputs": [],
   "source": [
    "from seismiqb import SeismicCropBatch, SeismicCubeset\n",
    "from seismiqb.batchflow import FilesIndex, D, L, F, Pipeline, B, V"
   ]
  },
  {
   "cell_type": "code",
   "execution_count": 5,
   "metadata": {},
   "outputs": [],
   "source": [
    "DATA_DIR = '/notebooks/data/cubes/CUBE_3/'"
   ]
  },
  {
   "cell_type": "code",
   "execution_count": 6,
   "metadata": {},
   "outputs": [],
   "source": [
    "qbix = FilesIndex(path=os.path.join(DATA_DIR, 'P_cube.sgy'), no_ext=True)\n",
    "qbset = SeismicCubeset(qbix)"
   ]
  },
  {
   "cell_type": "markdown",
   "metadata": {},
   "source": [
    "* load info about seismic cubes into `SeismicCubeset`"
   ]
  },
  {
   "cell_type": "code",
   "execution_count": 7,
   "metadata": {},
   "outputs": [
    {
     "name": "stderr",
     "output_type": "stream",
     "text": [
      "Working with CUBE_3/P_cube.sgy: 100%|██████████| 7113463/7113463 [01:18<00:00, 90898.76it/s]\n"
     ]
    },
    {
     "data": {
      "text/plain": [
       "<seismiqb.src.cubeset.SeismicCubeset at 0x7fc5d88a67f0>"
      ]
     },
     "execution_count": 7,
     "metadata": {},
     "output_type": "execute_result"
    }
   ],
   "source": [
    "qbset.load_geometries()"
   ]
  },
  {
   "cell_type": "markdown",
   "metadata": {},
   "source": [
    "* load horizon-labels"
   ]
  },
  {
   "cell_type": "code",
   "execution_count": 8,
   "metadata": {},
   "outputs": [],
   "source": [
    "pref = os.path.join(DATA_DIR, 'HORIZONTS')\n",
    "horizons_paths = [os.path.join(pref, p) for p in ['prb_B_anon.txt',\n",
    "                                                  'prb_T_ALL_anon.txt',\n",
    "                                                  'prb_G_anon.txt',\n",
    "                                                  'prb_M_anon.txt']]"
   ]
  },
  {
   "cell_type": "code",
   "execution_count": 9,
   "metadata": {},
   "outputs": [
    {
     "data": {
      "text/plain": [
       "<seismiqb.src.cubeset.SeismicCubeset at 0x7fc5d88a67f0>"
      ]
     },
     "execution_count": 9,
     "metadata": {},
     "output_type": "execute_result"
    }
   ],
   "source": [
    "qbset.load_point_clouds(paths={qbset.indices[0]: horizons_paths})"
   ]
  },
  {
   "cell_type": "code",
   "execution_count": 10,
   "metadata": {},
   "outputs": [
    {
     "data": {
      "text/plain": [
       "<seismiqb.src.cubeset.SeismicCubeset at 0x7fc5d88a67f0>"
      ]
     },
     "execution_count": 10,
     "metadata": {},
     "output_type": "execute_result"
    }
   ],
   "source": [
    "qbset.load_labels()"
   ]
  },
  {
   "cell_type": "markdown",
   "metadata": {},
   "source": [
    "* make train/test samplers"
   ]
  },
  {
   "cell_type": "code",
   "execution_count": 11,
   "metadata": {},
   "outputs": [
    {
     "data": {
      "text/plain": [
       "<seismiqb.src.cubeset.SeismicCubeset at 0x7fc5d88a67f0>"
      ]
     },
     "execution_count": 11,
     "metadata": {},
     "output_type": "execute_result"
    }
   ],
   "source": [
    "qbset.load_samplers()"
   ]
  },
  {
   "cell_type": "code",
   "execution_count": 12,
   "metadata": {},
   "outputs": [],
   "source": [
    "qbset.train_sample = qbset.sampler.truncate(expr=lambda x: x[:, 1:],\n",
    "                                            high=[1, 0.3, 1]).sample\n",
    "qbset.test_sample = qbset.sampler.truncate(expr=lambda x: x[:, 1:],\n",
    "                                           low=[0, 0.65, 0]).sample"
   ]
  },
  {
   "cell_type": "markdown",
   "metadata": {},
   "source": [
    "* `pipeline` for loading cube crops and building segmentation-masks"
   ]
  },
  {
   "cell_type": "code",
   "execution_count": 13,
   "metadata": {},
   "outputs": [],
   "source": [
    "wflow = (Pipeline()\n",
    "         .load_component([D('labels'), D('geometries')],\n",
    "                         ['labels', 'geometries'])\n",
    "         .crop(points=L(D('train_sample'), size=32),\n",
    "               shape=(128, 1, 128),\n",
    "               passdown=['geometries', 'labels'])\n",
    "         .load_cubes(dst='cubes')\n",
    "         .create_masks(dst='masks', mode='stratum')\n",
    "         .apply_transform(lambda a: a.astype(np.int32).squeeze(), src='masks', dst='masks')\n",
    "         .apply_transform(lambda a: a.swapaxes(1, 2), src='cubes', dst='cubes'))"
   ]
  },
  {
   "cell_type": "code",
   "execution_count": 14,
   "metadata": {},
   "outputs": [],
   "source": [
    "pset = (qbset >> wflow)"
   ]
  },
  {
   "cell_type": "markdown",
   "metadata": {},
   "source": [
    "* example of a crop and its mask"
   ]
  },
  {
   "cell_type": "code",
   "execution_count": 15,
   "metadata": {},
   "outputs": [
    {
     "data": {
      "text/plain": [
       "Text(0.5, 1.0, 'Interlayers')"
      ]
     },
     "execution_count": 15,
     "metadata": {},
     "output_type": "execute_result"
    },
    {
     "data": {
      "image/png": "[encoded data removed]",
      "text/plain": [
       "<Figure size 720x360 with 2 Axes>"
      ]
     },
     "metadata": {
      "needs_background": "light"
     },
     "output_type": "display_data"
    }
   ],
   "source": [
    "import matplotlib.pyplot as plt\n",
    "b = pset.next_batch(1, n_epochs=None)\n",
    "figs, axes = plt.subplots(1, 2, figsize=(2 * 5, 5))\n",
    "axes[0].imshow(b.cubes[0, :, :, 0], cmap=plt.cm.gray)\n",
    "axes[1].imshow(b.masks[0, :, :])\n",
    "axes[0].set_title('Seismic crop')\n",
    "axes[1].set_title('Interlayers')"
   ]
  },
  {
   "cell_type": "markdown",
   "metadata": {},
   "source": [
    "## Training `UNet` for segmenting interlayers"
   ]
  },
  {
   "cell_type": "code",
   "execution_count": 25,
   "metadata": {},
   "outputs": [],
   "source": [
    "from seismiqb.batchflow.models.tf import UNet\n",
    "from tqdm import trange\n",
    "from IPython.display import clear_output"
   ]
  },
  {
   "cell_type": "markdown",
   "metadata": {},
   "source": [
    "* configuring `unet`"
   ]
  },
  {
   "cell_type": "code",
   "execution_count": 26,
   "metadata": {},
   "outputs": [],
   "source": [
    "config = {'inputs': dict(cubes={'shape': (128, 128, 1)},\n",
    "                         masks={'name': 'targets', 'shape': (128, 128),\n",
    "                                'classes': 10, 'transform': 'ohe'}),\n",
    "          'initial_block/inputs': 'cubes',\n",
    "          'loss': 'dice',\n",
    "          'head': dict(num_classes=10),\n",
    "          'optimizer': 'Adam'}"
   ]
  },
  {
   "cell_type": "markdown",
   "metadata": {},
   "source": [
    "* add model-training actions to preprocessing pipeline:"
   ]
  },
  {
   "cell_type": "code",
   "execution_count": 27,
   "metadata": {},
   "outputs": [],
   "source": [
    "trainflow = wflow + (Pipeline()\n",
    "                     .init_variable('loss', default=list())\n",
    "                     .init_model('static', UNet, 'model', config)\n",
    "                     .train_model('model', feed_dict={'cubes': B('cubes'),\n",
    "                                  'masks': B('masks')},\n",
    "                                  fetches='loss', save_to=V('loss'), mode='a'))"
   ]
  },
  {
   "cell_type": "markdown",
   "metadata": {},
   "source": [
    "* train the model"
   ]
  },
  {
   "cell_type": "code",
   "execution_count": 28,
   "metadata": {},
   "outputs": [],
   "source": [
    "pset = (qbset >> trainflow)"
   ]
  },
  {
   "cell_type": "code",
   "execution_count": null,
   "metadata": {},
   "outputs": [
    {
     "name": "stderr",
     "output_type": "stream",
     "text": [
      "  0%|          | 0/300 [00:00<?, ?it/s]"
     ]
    }
   ],
   "source": [
    "N_ITERS = 300\n",
    "tr = trange(N_ITERS, leave=True)\n",
    "for i in tr:\n",
    "    pset.next_batch(1, n_epochs=None)\n",
    "    tr.set_description(\"current loss is {}\".format(pset.get_variable('loss')[-1]))\n",
    "    clear_output()"
   ]
  },
  {
   "cell_type": "markdown",
   "metadata": {},
   "source": [
    "* check out the results"
   ]
  },
  {
   "cell_type": "code",
   "execution_count": null,
   "metadata": {},
   "outputs": [],
   "source": []
  },
  {
   "cell_type": "code",
   "execution_count": null,
   "metadata": {},
   "outputs": [],
   "source": []
  }
 ],
 "metadata": {
  "kernelspec": {
   "display_name": "Python 3",
   "language": "python",
   "name": "python3"
  },
  "language_info": {
   "codemirror_mode": {
    "name": "ipython",
    "version": 3
   },
   "file_extension": ".py",
   "mimetype": "text/x-python",
   "name": "python",
   "nbconvert_exporter": "python",
   "pygments_lexer": "ipython3",
   "version": "3.5.2"
  }
 },
 "nbformat": 4,
 "nbformat_minor": 2
}
