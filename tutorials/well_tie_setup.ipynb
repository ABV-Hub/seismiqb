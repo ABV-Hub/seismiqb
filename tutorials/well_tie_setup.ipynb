{
 "cells": [
  {
   "cell_type": "markdown",
   "metadata": {},
   "source": [
    "# Inputs: $\\rho(h)$, $v(h)$ well-logs, $s(t)$-trace\n",
    "\n",
    "# mexican hat source signal $\\psi_0(t)$ represented by a [math formula](https://en.wikipedia.org/wiki/Mexican_hat_wavelet)"
   ]
  },
  {
   "cell_type": "markdown",
   "metadata": {},
   "source": [
    "## 1. Calculate impedance $I(h)$ "
   ]
  },
  {
   "cell_type": "markdown",
   "metadata": {},
   "source": [
    "$$\n",
    "    I(h) = \\rho(h) / v(h)\n",
    "$$"
   ]
  },
  {
   "cell_type": "markdown",
   "metadata": {},
   "source": [
    "## 2. Calculate resistance-series $ \\{R(h)\\}_i,\\ {i = 1 \\dots..n}. $"
   ]
  },
  {
   "cell_type": "markdown",
   "metadata": {},
   "source": [
    "$$\n",
    "    {R(h_i)} = \\frac{I(h_{i + 1}) - I(h_i)}{I(h_{i + 1}) + I(h_i)}\n",
    "$$"
   ]
  },
  {
   "cell_type": "markdown",
   "metadata": {},
   "source": [
    "## 3. Use $v(h)$-log to obtain first version of time-depth tie"
   ]
  },
  {
   "cell_type": "markdown",
   "metadata": {},
   "source": [
    "$$ \\hat{t_0}(h) = \\int\\limits_{0}^h \\frac{\\,d h'}{v(h')} $$"
   ]
  },
  {
   "cell_type": "markdown",
   "metadata": {},
   "source": [
    "## 4. Perform change of coordinate in $R(h)$ using $\\hat{t_0}(h)$:"
   ]
  },
  {
   "cell_type": "markdown",
   "metadata": {},
   "source": [
    "$$\n",
    "R(t) = R(\\hat{h_0}(t))\n",
    "$$"
   ]
  },
  {
   "cell_type": "markdown",
   "metadata": {},
   "source": [
    "## 5. Obtain synthetic seismic trace in $t$:  convolve resistance-series and well-hat signal"
   ]
  },
  {
   "cell_type": "markdown",
   "metadata": {},
   "source": [
    "$$\n",
    "synt(t) = R(t) \\circledast \\psi_0(t)\n",
    "$$"
   ]
  },
  {
   "cell_type": "markdown",
   "metadata": {},
   "source": [
    "## 6. Improve iteration of time-depth tie using matching\n",
    "make $\\hat{h_1(t)}$ from $\\hat{h_0(t)}$ so that\n",
    "$$\n",
    "synt(t) \\sim s(t)\n",
    "$$"
   ]
  },
  {
   "cell_type": "markdown",
   "metadata": {},
   "source": [
    "## 7. Improve well-hat source signal using current iteration of time-depth law"
   ]
  },
  {
   "cell_type": "markdown",
   "metadata": {},
   "source": [
    "$$\n",
    "R(t) = R(\\hat{h_1(t)})\n",
    "$$\n",
    "make $\\psi_1(t)$ from $\\psi_0(t)$ so that\n",
    "\n",
    "$$\n",
    "MSE[synt(t) = R(t) \\circledast \\psi_1(t); s(t)] \\rightarrow{min}\n",
    "$$"
   ]
  },
  {
   "cell_type": "markdown",
   "metadata": {},
   "source": [
    "## 8. Repeat steps (4)-(7) until reaching reasonable quality of tie"
   ]
  }
 ],
 "metadata": {
  "kernelspec": {
   "display_name": "Python 3",
   "language": "python",
   "name": "python3"
  },
  "language_info": {
   "codemirror_mode": {
    "name": "ipython",
    "version": 3
   },
   "file_extension": ".py",
   "mimetype": "text/x-python",
   "name": "python",
   "nbconvert_exporter": "python",
   "pygments_lexer": "ipython3",
   "version": "3.6.6+"
  }
 },
 "nbformat": 4,
 "nbformat_minor": 2
}
