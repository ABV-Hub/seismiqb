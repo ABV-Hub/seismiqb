{
 "cells": [
  {
   "cell_type": "markdown",
   "metadata": {},
   "source": [
    "# Benchmarks\n",
    "\n",
    "In this notebook, we show timings of different parts of **seismiQB**: data generation, segmentation mask creation, model training. We perform each of them in multiple ways, showing different approaches and interfaces provided by our framework (and by **BatchFlow**).\n",
    "\n",
    "Note that this is advanced notebook that requires you to read our other [tutorials and notebooks](./Carcass%20interpolation/01_M_cube.ipynb) to understand what is going on: we don't pay too much time explaining what exactly cells are doing and what is achieved by their code, we merely time it.\n",
    "\n",
    "* [Data loading](data)\n",
    "* [Model architecture](architecture)\n",
    "* [Pipelines: loading, augmentation and training](pipelines)\n",
    "* [Load + augmentation profile](profile1)\n",
    "* [Model training profile](profile2)\n",
    "* [Inference profile](inference)\n",
    "* [Conclusion](conclusion)"
   ]
  },
  {
   "cell_type": "code",
   "execution_count": 1,
   "metadata": {},
   "outputs": [
    {
     "name": "stdout",
     "output_type": "stream",
     "text": [
      "env: CUDA_VISIBLE_DEVICES=1\n"
     ]
    }
   ],
   "source": [
    "# Necessary imports\n",
    "import os\n",
    "import sys\n",
    "import warnings\n",
    "warnings.filterwarnings(\"ignore\")\n",
    "\n",
    "from tqdm import tqdm\n",
    "\n",
    "import numpy as np\n",
    "import pandas as pd\n",
    "pd.set_option('display.max_rows', 2000)\n",
    "\n",
    "import torch\n",
    "import torch.nn as nn\n",
    "from torch.utils.data import DataLoader, IterableDataset\n",
    "from pytorch_lightning import LightningModule, Trainer\n",
    "\n",
    "sys.path.append('../seismiqb')\n",
    "from seismiqb.batchflow import Pipeline, FilesIndex\n",
    "from seismiqb.batchflow import B, V, C, F, D, P, R, W\n",
    "from seismiqb.batchflow.batchflow.models.torch import EncoderDecoder, ResBlock # Note the import!\n",
    "\n",
    "from seismiqb import SeismicCubeset, Horizon, plot_image\n",
    "\n",
    "# Set GPU\n",
    "%env CUDA_VISIBLE_DEVICES=1"
   ]
  },
  {
   "cell_type": "code",
   "execution_count": 2,
   "metadata": {},
   "outputs": [],
   "source": [
    "# Global parameters\n",
    "FREQUENCIES = [50]               # carcass frequency at `hard` and `easy` locations\n",
    "CROP_SHAPE = (1, 256, 256)       # shape of sampled 3D crops\n",
    "ITERS = 100                      # number of train iterations\n",
    "BATCH_SIZE = 64                  # number of crops inside one batch"
   ]
  },
  {
   "cell_type": "markdown",
   "metadata": {},
   "source": [
    "<a id='data'></a>\n",
    "# Load everything\n",
    "\n",
    "First of all, we load dataset with seismic cube and a horizon. This operation is performed once per dataset and does not take more that one minute even for all of our cubes (10 total) and horizons (50+ total)."
   ]
  },
  {
   "cell_type": "code",
   "execution_count": 3,
   "metadata": {},
   "outputs": [
    {
     "name": "stdout",
     "output_type": "stream",
     "text": [
      "CPU times: user 2.04 s, sys: 237 ms, total: 2.28 s\n",
      "Wall time: 2.28 s\n"
     ]
    }
   ],
   "source": [
    "%%time\n",
    "cube_path = '/data/seismic/CUBE_2/M_cube.hdf5'\n",
    "horizon_path = '/data/seismic/CUBE_2/RAW/t0_B_anon'\n",
    "\n",
    "dsi = FilesIndex(path=[cube_path], no_ext=True)\n",
    "dataset = SeismicCubeset(dsi)\n",
    "\n",
    "dataset.load_geometries()\n",
    "dataset.create_labels({dataset.indices[0]: [horizon_path]})\n",
    "\n",
    "geometry = dataset.geometries[0]\n",
    "horizon = dataset.labels[0][0]"
   ]
  },
  {
   "cell_type": "code",
   "execution_count": 4,
   "metadata": {},
   "outputs": [],
   "source": [
    "# Create carcass to train on\n",
    "quality_grid = geometry.make_quality_grid(FREQUENCIES)\n",
    "grid_coverage = (np.nansum(geometry.quality_grid) /\n",
    "                 (np.prod(geometry.cube_shape[:2]) - np.nansum(geometry.zero_traces)))\n",
    "\n",
    "# Create sampler, according to carcass\n",
    "dataset.create_sampler(quality_grid=True)\n",
    "dataset.modify_sampler('train_sampler', finish=True)"
   ]
  },
  {
   "cell_type": "markdown",
   "metadata": {},
   "source": [
    "<a id='architecture'></a>\n",
    "# Model architecture"
   ]
  },
  {
   "cell_type": "code",
   "execution_count": 5,
   "metadata": {},
   "outputs": [],
   "source": [
    "class Dice(nn.Module):\n",
    "    def forward(self, input, target):\n",
    "        input = torch.sigmoid(input)\n",
    "        dice_coeff = 2. * (input * target).sum() / (input.sum() + target.sum() + 1e-7)\n",
    "        return 1 - dice_coeff\n",
    "\n",
    "MODEL_CONFIG = {\n",
    "    # Defining input shapes here allows to build model at initialization\n",
    "    'inputs': {\n",
    "        'images/shape': CROP_SHAPE,\n",
    "        'masks/shape': CROP_SHAPE,\n",
    "    },\n",
    "    \n",
    "    # Model layout\n",
    "    'initial_block': {\n",
    "        'inputs': 'images',\n",
    "        'base_block': ResBlock,\n",
    "        'filters': 16,\n",
    "        'kernel_size': 5,\n",
    "        'downsample': False,\n",
    "    },\n",
    "\n",
    "    'body/encoder': {\n",
    "        'num_stages': 4,\n",
    "        'order': 'sbd',\n",
    "        'blocks': {\n",
    "            'base': ResBlock,\n",
    "            'n_reps': 1,\n",
    "            'filters': [16, 32, 64, 128],\n",
    "        },\n",
    "    },\n",
    "    'body/embedding': {\n",
    "        'base': ResBlock,\n",
    "        'n_reps': 1,\n",
    "        'filters': 256,\n",
    "    },\n",
    "    'body/decoder': {\n",
    "        'num_stages': 4,\n",
    "        'upsample': {\n",
    "            'layout': 'bna',\n",
    "            'scale_factor': 2,\n",
    "            'kernel_size': 2,\n",
    "        },\n",
    "        'blocks': {\n",
    "            'base': ResBlock,\n",
    "            'filters': [128, 64, 32, 16],\n",
    "        },\n",
    "    },\n",
    "    'head': {\n",
    "        'base_block': ResBlock,\n",
    "        'filters': [16, 8],\n",
    "    },\n",
    "    'output': 'sigmoid',\n",
    "    # Train configuration\n",
    "    'loss': Dice(),\n",
    "    'optimizer': {'name': 'Adam', 'lr': 0.01,},\n",
    "    \"decay\": {'name': 'exp', 'gamma': 0.1},\n",
    "    \"n_iters\": 150,\n",
    "    'microbatch': 4,\n",
    "    'common/activation': 'relu6',\n",
    "}"
   ]
  },
  {
   "cell_type": "markdown",
   "metadata": {},
   "source": [
    "The first call to a GPU takes some time in order to initialize CUDA states; to eliminate this time from actual model initialization time, we manually put some data to the GPU of choice:"
   ]
  },
  {
   "cell_type": "code",
   "execution_count": 6,
   "metadata": {},
   "outputs": [
    {
     "name": "stdout",
     "output_type": "stream",
     "text": [
      "CPU times: user 2.73 s, sys: 8.18 s, total: 10.9 s\n",
      "Wall time: 11.5 s\n",
      "CPU times: user 37 µs, sys: 36 µs, total: 73 µs\n",
      "Wall time: 80.6 µs\n"
     ]
    }
   ],
   "source": [
    "np_tensor = np.random.random((10,)).astype(np.float32)\n",
    "\n",
    "tensor = torch.from_numpy(np_tensor)\n",
    "%time tensor = tensor.cuda()\n",
    "\n",
    "tensor = torch.from_numpy(np_tensor)\n",
    "%time tensor = tensor.cuda()"
   ]
  },
  {
   "cell_type": "markdown",
   "metadata": {},
   "source": [
    "This time we create instance of model directly, without `init_model` action of `Pipeline`:"
   ]
  },
  {
   "cell_type": "code",
   "execution_count": 7,
   "metadata": {},
   "outputs": [
    {
     "name": "stdout",
     "output_type": "stream",
     "text": [
      "CPU times: user 218 ms, sys: 158 ms, total: 376 ms\n",
      "Wall time: 508 ms\n"
     ]
    }
   ],
   "source": [
    "%%time\n",
    "model = EncoderDecoder(MODEL_CONFIG)"
   ]
  },
  {
   "cell_type": "markdown",
   "metadata": {},
   "source": [
    "<a id='pipelines'></a>\n",
    "# All the pipelines"
   ]
  },
  {
   "cell_type": "code",
   "execution_count": 8,
   "metadata": {},
   "outputs": [],
   "source": [
    "load_pipeline = (\n",
    "    Pipeline()\n",
    "\n",
    "    # Load data/masks\n",
    "    .crop(points=D('train_sampler')(BATCH_SIZE),\n",
    "          shape=CROP_SHAPE, make_slices='adaptive')\n",
    "    .create_masks(dst='masks', width=5)\n",
    "    .load_cubes(dst='images')\n",
    "    .adaptive_reshape(src=['images', 'masks'], shape=CROP_SHAPE)\n",
    "    .scale(mode='q', src='images')\n",
    ") << dataset"
   ]
  },
  {
   "cell_type": "code",
   "execution_count": 9,
   "metadata": {},
   "outputs": [],
   "source": [
    "aug_pipeline = (\n",
    "    Pipeline()\n",
    "\n",
    "    # Augmentations\n",
    "    .transpose(src=['images', 'masks'], order=(1, 2, 0))\n",
    "    .flip(axis=1, src=['images', 'masks'], seed=P(R('uniform', 0, 1)))\n",
    "    .additive_noise(scale=0.005, src='images', dst='images')\n",
    "    .rotate(angle=P(R('uniform', -15, 15)),\n",
    "            src=['images', 'masks'])\n",
    "    .scale_2d(scale=P(R('uniform', 0.85, 1.15)),\n",
    "              src=['images', 'masks'])\n",
    "    .elastic_transform(alpha=P(R('uniform', 35, 45)),\n",
    "                       sigma=P(R('uniform', 4, 4.5)),\n",
    "                       src=['images', 'masks'])\n",
    "    .transpose(src=['images', 'masks'], order=(2, 0, 1))\n",
    ") << dataset"
   ]
  },
  {
   "cell_type": "code",
   "execution_count": 10,
   "metadata": {},
   "outputs": [],
   "source": [
    "model_pipeline = (\n",
    "    Pipeline()\n",
    "\n",
    "    # Initialize pipeline variables and model\n",
    "    .init_variable('loss_history', [])\n",
    "    .import_model(model, name='model')\n",
    "\n",
    "    # Training\n",
    "    .train_model('model',\n",
    "                 fetches='loss',\n",
    "                 images=B('images'),\n",
    "                 masks=B('masks'),\n",
    "                 save_to=V('loss_history', mode='a'))\n",
    ") << dataset"
   ]
  },
  {
   "cell_type": "markdown",
   "metadata": {},
   "source": [
    "<a id='profile1'></a>\n",
    "# Data generation and augmentations profile\n",
    "\n",
    "## Regular pipeline usage\n",
    "\n",
    "That is how we usually use pipelines: simple `run` is enough"
   ]
  },
  {
   "cell_type": "code",
   "execution_count": 11,
   "metadata": {},
   "outputs": [
    {
     "name": "stderr",
     "output_type": "stream",
     "text": [
      "100%|██████████| 100/100 [00:49<00:00,  2.01it/s]"
     ]
    },
    {
     "name": "stdout",
     "output_type": "stream",
     "text": [
      "CPU times: user 49.5 s, sys: 379 ms, total: 49.9 s\n",
      "Wall time: 49.8 s\n"
     ]
    },
    {
     "name": "stderr",
     "output_type": "stream",
     "text": [
      "\n"
     ]
    },
    {
     "data": {
      "text/plain": [
       "<seismiqb.batchflow.batchflow.pipeline.Pipeline at 0x7f1d889562b0>"
      ]
     },
     "execution_count": 11,
     "metadata": {},
     "output_type": "execute_result"
    }
   ],
   "source": [
    "%%time\n",
    "data_pipeline = load_pipeline + aug_pipeline\n",
    "data_pipeline.run(D.size, n_iters=ITERS, bar=True)"
   ]
  },
  {
   "cell_type": "markdown",
   "metadata": {},
   "source": [
    "One of the design decisions of our framework is that items in our datasets are cubes: in that notebook, there is only one cube in the `dataset`, therefore, `D.size` evaluates to 1. The logic of converting *batch of cubes* into *batch of crops* is conveniently resides inside `crop` action: under the hood the conversion is performed by creating entirely new batch with generated crop locations. That somewhat confusing behaviour, where one needs to pass *number of cubes* as the `batch size` in `Pipeline.run` method while setting the actual amount of crops elsewhere, allows us to threat tasks with one or multiple cubes the same: there is virtually no changes to do in order to move from the task of carcass interpolation (one cube) to the inter-cube generalization (multiple cubes, as can be deduced by the name).\n",
    "\n",
    "Setting `profile` argument of `run` to `True` allows us to monitor timings of every individual action; it takes some time to parse and log the profiling results, thus giving (a lot of) overhead. Note that the more iteration you run with `profile` on, the slower it becomes."
   ]
  },
  {
   "cell_type": "code",
   "execution_count": 12,
   "metadata": {},
   "outputs": [
    {
     "name": "stderr",
     "output_type": "stream",
     "text": [
      "100%|██████████| 100/100 [01:39<00:00,  1.01it/s]"
     ]
    },
    {
     "name": "stdout",
     "output_type": "stream",
     "text": [
      "CPU times: user 1min 38s, sys: 336 ms, total: 1min 39s\n",
      "Wall time: 1min 39s\n"
     ]
    },
    {
     "name": "stderr",
     "output_type": "stream",
     "text": [
      "\n"
     ]
    },
    {
     "data": {
      "text/plain": [
       "<seismiqb.batchflow.batchflow.pipeline.Pipeline at 0x7f1d88757208>"
      ]
     },
     "execution_count": 12,
     "metadata": {},
     "output_type": "execute_result"
    }
   ],
   "source": [
    "%%time\n",
    "data_pipeline = load_pipeline + aug_pipeline\n",
    "data_pipeline.run(D.size, n_iters=ITERS, bar=True, profile=True)"
   ]
  },
  {
   "cell_type": "markdown",
   "metadata": {},
   "source": [
    "Method `show_profile_info` returns a formatted dataframe that can be further explored:"
   ]
  },
  {
   "cell_type": "code",
   "execution_count": 13,
   "metadata": {},
   "outputs": [
    {
     "name": "stdout",
     "output_type": "stream",
     "text": [
      "Total time of actions running:  57.213385343551636\n"
     ]
    },
    {
     "data": {
      "text/html": [
       "<div>\n",
       "<style scoped>\n",
       "    .dataframe tbody tr th:only-of-type {\n",
       "        vertical-align: middle;\n",
       "    }\n",
       "\n",
       "    .dataframe tbody tr th {\n",
       "        vertical-align: top;\n",
       "    }\n",
       "\n",
       "    .dataframe thead tr th {\n",
       "        text-align: left;\n",
       "    }\n",
       "\n",
       "    .dataframe thead tr:last-of-type th {\n",
       "        text-align: right;\n",
       "    }\n",
       "</style>\n",
       "<table border=\"1\" class=\"dataframe\">\n",
       "  <thead>\n",
       "    <tr>\n",
       "      <th></th>\n",
       "      <th colspan=\"3\" halign=\"left\">total_time</th>\n",
       "      <th colspan=\"3\" halign=\"left\">pipeline_time</th>\n",
       "    </tr>\n",
       "    <tr>\n",
       "      <th></th>\n",
       "      <th>sum</th>\n",
       "      <th>mean</th>\n",
       "      <th>max</th>\n",
       "      <th>sum</th>\n",
       "      <th>mean</th>\n",
       "      <th>max</th>\n",
       "    </tr>\n",
       "    <tr>\n",
       "      <th>action</th>\n",
       "      <th></th>\n",
       "      <th></th>\n",
       "      <th></th>\n",
       "      <th></th>\n",
       "      <th></th>\n",
       "      <th></th>\n",
       "    </tr>\n",
       "  </thead>\n",
       "  <tbody>\n",
       "    <tr>\n",
       "      <th>elastic_transform #10</th>\n",
       "      <td>15.411959</td>\n",
       "      <td>0.154120</td>\n",
       "      <td>0.166258</td>\n",
       "      <td>14.999765</td>\n",
       "      <td>0.149998</td>\n",
       "      <td>0.161600</td>\n",
       "    </tr>\n",
       "    <tr>\n",
       "      <th>rotate #8</th>\n",
       "      <td>7.580086</td>\n",
       "      <td>0.075801</td>\n",
       "      <td>0.081383</td>\n",
       "      <td>7.217586</td>\n",
       "      <td>0.072176</td>\n",
       "      <td>0.077463</td>\n",
       "    </tr>\n",
       "    <tr>\n",
       "      <th>additive_noise #7</th>\n",
       "      <td>7.481005</td>\n",
       "      <td>0.074810</td>\n",
       "      <td>0.080996</td>\n",
       "      <td>7.149832</td>\n",
       "      <td>0.071498</td>\n",
       "      <td>0.077438</td>\n",
       "    </tr>\n",
       "    <tr>\n",
       "      <th>scale_2d #9</th>\n",
       "      <td>6.999675</td>\n",
       "      <td>0.069997</td>\n",
       "      <td>0.076195</td>\n",
       "      <td>6.636490</td>\n",
       "      <td>0.066365</td>\n",
       "      <td>0.072260</td>\n",
       "    </tr>\n",
       "    <tr>\n",
       "      <th>flip #6</th>\n",
       "      <td>6.363807</td>\n",
       "      <td>0.063638</td>\n",
       "      <td>0.072462</td>\n",
       "      <td>5.993128</td>\n",
       "      <td>0.059931</td>\n",
       "      <td>0.068484</td>\n",
       "    </tr>\n",
       "    <tr>\n",
       "      <th>load_cubes #2</th>\n",
       "      <td>3.722807</td>\n",
       "      <td>0.037228</td>\n",
       "      <td>0.047420</td>\n",
       "      <td>3.346373</td>\n",
       "      <td>0.033464</td>\n",
       "      <td>0.043593</td>\n",
       "    </tr>\n",
       "    <tr>\n",
       "      <th>crop #0</th>\n",
       "      <td>2.004456</td>\n",
       "      <td>0.020045</td>\n",
       "      <td>0.030057</td>\n",
       "      <td>1.524752</td>\n",
       "      <td>0.015248</td>\n",
       "      <td>0.024778</td>\n",
       "    </tr>\n",
       "    <tr>\n",
       "      <th>create_masks #1</th>\n",
       "      <td>1.844219</td>\n",
       "      <td>0.018442</td>\n",
       "      <td>0.025536</td>\n",
       "      <td>1.522824</td>\n",
       "      <td>0.015228</td>\n",
       "      <td>0.021095</td>\n",
       "    </tr>\n",
       "    <tr>\n",
       "      <th>adaptive_reshape #3</th>\n",
       "      <td>1.674666</td>\n",
       "      <td>0.016747</td>\n",
       "      <td>0.020500</td>\n",
       "      <td>1.348560</td>\n",
       "      <td>0.013486</td>\n",
       "      <td>0.017133</td>\n",
       "    </tr>\n",
       "    <tr>\n",
       "      <th>transpose #5</th>\n",
       "      <td>1.484429</td>\n",
       "      <td>0.014844</td>\n",
       "      <td>0.018883</td>\n",
       "      <td>1.149107</td>\n",
       "      <td>0.011491</td>\n",
       "      <td>0.015492</td>\n",
       "    </tr>\n",
       "    <tr>\n",
       "      <th>transpose #11</th>\n",
       "      <td>1.468236</td>\n",
       "      <td>0.014682</td>\n",
       "      <td>0.016845</td>\n",
       "      <td>1.135425</td>\n",
       "      <td>0.011354</td>\n",
       "      <td>0.013454</td>\n",
       "    </tr>\n",
       "    <tr>\n",
       "      <th>scale #4</th>\n",
       "      <td>1.178039</td>\n",
       "      <td>0.011780</td>\n",
       "      <td>0.013573</td>\n",
       "      <td>0.867663</td>\n",
       "      <td>0.008677</td>\n",
       "      <td>0.010411</td>\n",
       "    </tr>\n",
       "  </tbody>\n",
       "</table>\n",
       "</div>"
      ],
      "text/plain": [
       "                      total_time                     pipeline_time            \\\n",
       "                             sum      mean       max           sum      mean   \n",
       "action                                                                         \n",
       "elastic_transform #10  15.411959  0.154120  0.166258     14.999765  0.149998   \n",
       "rotate #8               7.580086  0.075801  0.081383      7.217586  0.072176   \n",
       "additive_noise #7       7.481005  0.074810  0.080996      7.149832  0.071498   \n",
       "scale_2d #9             6.999675  0.069997  0.076195      6.636490  0.066365   \n",
       "flip #6                 6.363807  0.063638  0.072462      5.993128  0.059931   \n",
       "load_cubes #2           3.722807  0.037228  0.047420      3.346373  0.033464   \n",
       "crop #0                 2.004456  0.020045  0.030057      1.524752  0.015248   \n",
       "create_masks #1         1.844219  0.018442  0.025536      1.522824  0.015228   \n",
       "adaptive_reshape #3     1.674666  0.016747  0.020500      1.348560  0.013486   \n",
       "transpose #5            1.484429  0.014844  0.018883      1.149107  0.011491   \n",
       "transpose #11           1.468236  0.014682  0.016845      1.135425  0.011354   \n",
       "scale #4                1.178039  0.011780  0.013573      0.867663  0.008677   \n",
       "\n",
       "                                 \n",
       "                            max  \n",
       "action                           \n",
       "elastic_transform #10  0.161600  \n",
       "rotate #8              0.077463  \n",
       "additive_noise #7      0.077438  \n",
       "scale_2d #9            0.072260  \n",
       "flip #6                0.068484  \n",
       "load_cubes #2          0.043593  \n",
       "crop #0                0.024778  \n",
       "create_masks #1        0.021095  \n",
       "adaptive_reshape #3    0.017133  \n",
       "transpose #5           0.015492  \n",
       "transpose #11          0.013454  \n",
       "scale #4               0.010411  "
      ]
     },
     "execution_count": 13,
     "metadata": {},
     "output_type": "execute_result"
    }
   ],
   "source": [
    "result = data_pipeline.show_profile_info()\n",
    "print('Total time of actions running: ', result['total_time']['sum'].sum())\n",
    "result"
   ]
  },
  {
   "cell_type": "markdown",
   "metadata": {},
   "source": [
    "Each row in the dataframe corresponds to individual action: note that we have two `transpose` actions in our augmentation pipeline, thus multiple transposes appear in the table. `total_time` is time take by both action and pipeline inner workings; `pipeline_time` counts only the time of action running. Sub-columns `sum`, `mean` and `max` provide a more detailed description.\n",
    "\n",
    "We can get a more detailed description of which exactly *lines of code* take the most time inside our actions by passing `detailed` argument to the `show_profile_info` method. To avoid cluttering in the notebook, we limit the output to two slowest calls per action:"
   ]
  },
  {
   "cell_type": "code",
   "execution_count": 14,
   "metadata": {},
   "outputs": [
    {
     "data": {
      "text/html": [
       "<div>\n",
       "<style scoped>\n",
       "    .dataframe tbody tr th:only-of-type {\n",
       "        vertical-align: middle;\n",
       "    }\n",
       "\n",
       "    .dataframe tbody tr th {\n",
       "        vertical-align: top;\n",
       "    }\n",
       "\n",
       "    .dataframe thead th {\n",
       "        text-align: right;\n",
       "    }\n",
       "</style>\n",
       "<table border=\"1\" class=\"dataframe\">\n",
       "  <thead>\n",
       "    <tr style=\"text-align: right;\">\n",
       "      <th></th>\n",
       "      <th></th>\n",
       "      <th>sum</th>\n",
       "    </tr>\n",
       "    <tr>\n",
       "      <th>action</th>\n",
       "      <th>id</th>\n",
       "      <th></th>\n",
       "    </tr>\n",
       "  </thead>\n",
       "  <tbody>\n",
       "    <tr>\n",
       "      <th rowspan=\"2\" valign=\"top\">adaptive_reshape #3</th>\n",
       "      <th>&lt;built-in method numpy.core._multiarray_umath.implement_array_function&gt;::&lt;__array_function__ internals&gt;::2::concatenate</th>\n",
       "      <td>0.803258</td>\n",
       "    </tr>\n",
       "    <tr>\n",
       "      <th>_adaptive_reshape_::../seismiqb/seismiqb/batchflow/batchflow/batch.py::548::_apply_transform</th>\n",
       "      <td>0.034883</td>\n",
       "    </tr>\n",
       "    <tr>\n",
       "      <th rowspan=\"2\" valign=\"top\">additive_noise #7</th>\n",
       "      <th>&lt;method 'standard_normal' of 'numpy.random.generator.Generator' objects&gt;::../seismiqb/seismiqb/src/crop_batch.py::672::_additive_noise_</th>\n",
       "      <td>5.568668</td>\n",
       "    </tr>\n",
       "    <tr>\n",
       "      <th>_additive_noise_::../seismiqb/seismiqb/batchflow/batchflow/batch.py::548::_apply_transform</th>\n",
       "      <td>0.430587</td>\n",
       "    </tr>\n",
       "    <tr>\n",
       "      <th rowspan=\"2\" valign=\"top\">create_masks #1</th>\n",
       "      <th>add_to_mask::../seismiqb/seismiqb/src/crop_batch.py::297::create_masks</th>\n",
       "      <td>0.630739</td>\n",
       "    </tr>\n",
       "    <tr>\n",
       "      <th>&lt;built-in method numpy.zeros&gt;::../seismiqb/seismiqb/src/crop_batch.py::297::create_masks</th>\n",
       "      <td>0.227714</td>\n",
       "    </tr>\n",
       "    <tr>\n",
       "      <th rowspan=\"2\" valign=\"top\">crop #0</th>\n",
       "      <th>_correct_point_to_grid::../seismiqb/seismiqb/src/crop_batch.py::180::&lt;listcomp&gt;</th>\n",
       "      <td>0.206223</td>\n",
       "    </tr>\n",
       "    <tr>\n",
       "      <th>_correct_point_to_grid::../seismiqb/seismiqb/src/crop_batch.py::235::_correct_point_to_grid</th>\n",
       "      <td>0.147251</td>\n",
       "    </tr>\n",
       "    <tr>\n",
       "      <th rowspan=\"2\" valign=\"top\">elastic_transform #10</th>\n",
       "      <th>&lt;remap&gt;::../seismiqb/seismiqb/src/crop_batch.py::807::_elastic_transform_</th>\n",
       "      <td>5.607277</td>\n",
       "    </tr>\n",
       "    <tr>\n",
       "      <th>_elastic_transform_::../seismiqb/seismiqb/batchflow/batchflow/batch.py::548::_apply_transform</th>\n",
       "      <td>1.274312</td>\n",
       "    </tr>\n",
       "    <tr>\n",
       "      <th rowspan=\"2\" valign=\"top\">flip #6</th>\n",
       "      <th>&lt;flip&gt;::../seismiqb/seismiqb/src/crop_batch.py::728::_flip_</th>\n",
       "      <td>2.174169</td>\n",
       "    </tr>\n",
       "    <tr>\n",
       "      <th>_flip_::../seismiqb/seismiqb/batchflow/batchflow/batch.py::548::_apply_transform</th>\n",
       "      <td>1.010007</td>\n",
       "    </tr>\n",
       "    <tr>\n",
       "      <th rowspan=\"2\" valign=\"top\">load_cubes #2</th>\n",
       "      <th>&lt;listcomp&gt;::../seismiqb/seismiqb/src/geometry.py::867::_load_i</th>\n",
       "      <td>1.078837</td>\n",
       "    </tr>\n",
       "    <tr>\n",
       "      <th>&lt;listcomp&gt;::../seismiqb/seismiqb/src/geometry.py::872::_load_x</th>\n",
       "      <td>0.333350</td>\n",
       "    </tr>\n",
       "    <tr>\n",
       "      <th rowspan=\"2\" valign=\"top\">rotate #8</th>\n",
       "      <th>&lt;warpAffine&gt;::../seismiqb/seismiqb/src/crop_batch.py::716::_rotate_</th>\n",
       "      <td>5.713154</td>\n",
       "    </tr>\n",
       "    <tr>\n",
       "      <th>&lt;built-in method numpy.core._multiarray_umath.implement_array_function&gt;::&lt;__array_function__ internals&gt;::2::concatenate</th>\n",
       "      <td>0.646805</td>\n",
       "    </tr>\n",
       "    <tr>\n",
       "      <th rowspan=\"2\" valign=\"top\">scale #4</th>\n",
       "      <th>&lt;built-in method numpy.core._multiarray_umath.implement_array_function&gt;::&lt;__array_function__ internals&gt;::2::concatenate</th>\n",
       "      <td>0.319770</td>\n",
       "    </tr>\n",
       "    <tr>\n",
       "      <th>scaler::../seismiqb/seismiqb/src/crop_batch.py::463::scale</th>\n",
       "      <td>0.274888</td>\n",
       "    </tr>\n",
       "    <tr>\n",
       "      <th rowspan=\"2\" valign=\"top\">scale_2d #9</th>\n",
       "      <th>&lt;warpAffine&gt;::../seismiqb/seismiqb/src/crop_batch.py::741::_scale_2d_</th>\n",
       "      <td>5.139019</td>\n",
       "    </tr>\n",
       "    <tr>\n",
       "      <th>&lt;built-in method numpy.core._multiarray_umath.implement_array_function&gt;::&lt;__array_function__ internals&gt;::2::concatenate</th>\n",
       "      <td>0.650193</td>\n",
       "    </tr>\n",
       "    <tr>\n",
       "      <th rowspan=\"2\" valign=\"top\">transpose #11</th>\n",
       "      <th>&lt;built-in method numpy.core._multiarray_umath.implement_array_function&gt;::&lt;__array_function__ internals&gt;::2::concatenate</th>\n",
       "      <td>0.655098</td>\n",
       "    </tr>\n",
       "    <tr>\n",
       "      <th>_apply_transform::../seismiqb/seismiqb/batchflow/batchflow/batch.py::543::&lt;listcomp&gt;</th>\n",
       "      <td>0.029948</td>\n",
       "    </tr>\n",
       "    <tr>\n",
       "      <th rowspan=\"2\" valign=\"top\">transpose #5</th>\n",
       "      <th>&lt;built-in method numpy.core._multiarray_umath.implement_array_function&gt;::&lt;__array_function__ internals&gt;::2::concatenate</th>\n",
       "      <td>0.664838</td>\n",
       "    </tr>\n",
       "    <tr>\n",
       "      <th>_apply_transform::../seismiqb/seismiqb/batchflow/batchflow/batch.py::543::&lt;listcomp&gt;</th>\n",
       "      <td>0.029965</td>\n",
       "    </tr>\n",
       "  </tbody>\n",
       "</table>\n",
       "</div>"
      ],
      "text/plain": [
       "                                                                               sum\n",
       "action                id                                                          \n",
       "adaptive_reshape #3   <built-in method numpy.core._multiarray_umath.i...  0.803258\n",
       "                      _adaptive_reshape_::../seismiqb/seismiqb/batchf...  0.034883\n",
       "additive_noise #7     <method 'standard_normal' of 'numpy.random.gene...  5.568668\n",
       "                      _additive_noise_::../seismiqb/seismiqb/batchflo...  0.430587\n",
       "create_masks #1       add_to_mask::../seismiqb/seismiqb/src/crop_batc...  0.630739\n",
       "                      <built-in method numpy.zeros>::../seismiqb/seis...  0.227714\n",
       "crop #0               _correct_point_to_grid::../seismiqb/seismiqb/sr...  0.206223\n",
       "                      _correct_point_to_grid::../seismiqb/seismiqb/sr...  0.147251\n",
       "elastic_transform #10 <remap>::../seismiqb/seismiqb/src/crop_batch.py...  5.607277\n",
       "                      _elastic_transform_::../seismiqb/seismiqb/batch...  1.274312\n",
       "flip #6               <flip>::../seismiqb/seismiqb/src/crop_batch.py:...  2.174169\n",
       "                      _flip_::../seismiqb/seismiqb/batchflow/batchflo...  1.010007\n",
       "load_cubes #2         <listcomp>::../seismiqb/seismiqb/src/geometry.p...  1.078837\n",
       "                      <listcomp>::../seismiqb/seismiqb/src/geometry.p...  0.333350\n",
       "rotate #8             <warpAffine>::../seismiqb/seismiqb/src/crop_bat...  5.713154\n",
       "                      <built-in method numpy.core._multiarray_umath.i...  0.646805\n",
       "scale #4              <built-in method numpy.core._multiarray_umath.i...  0.319770\n",
       "                      scaler::../seismiqb/seismiqb/src/crop_batch.py:...  0.274888\n",
       "scale_2d #9           <warpAffine>::../seismiqb/seismiqb/src/crop_bat...  5.139019\n",
       "                      <built-in method numpy.core._multiarray_umath.i...  0.650193\n",
       "transpose #11         <built-in method numpy.core._multiarray_umath.i...  0.655098\n",
       "                      _apply_transform::../seismiqb/seismiqb/batchflo...  0.029948\n",
       "transpose #5          <built-in method numpy.core._multiarray_umath.i...  0.664838\n",
       "                      _apply_transform::../seismiqb/seismiqb/batchflo...  0.029965"
      ]
     },
     "execution_count": 14,
     "metadata": {},
     "output_type": "execute_result"
    }
   ],
   "source": [
    "data_pipeline.show_profile_info(detailed=True, limit=2)['tottime'][['sum']]"
   ]
  },
  {
   "cell_type": "markdown",
   "metadata": {},
   "source": [
    "We can also show individual timings for each iteration. That can be helpful to detect memory leaks and other cumulative errors:"
   ]
  },
  {
   "cell_type": "code",
   "execution_count": 15,
   "metadata": {},
   "outputs": [
    {
     "data": {
      "text/html": [
       "<div>\n",
       "<style scoped>\n",
       "    .dataframe tbody tr th:only-of-type {\n",
       "        vertical-align: middle;\n",
       "    }\n",
       "\n",
       "    .dataframe tbody tr th {\n",
       "        vertical-align: top;\n",
       "    }\n",
       "\n",
       "    .dataframe thead th {\n",
       "        text-align: right;\n",
       "    }\n",
       "</style>\n",
       "<table border=\"1\" class=\"dataframe\">\n",
       "  <thead>\n",
       "    <tr style=\"text-align: right;\">\n",
       "      <th></th>\n",
       "      <th></th>\n",
       "      <th>total_time</th>\n",
       "      <th>pipeline_time</th>\n",
       "      <th>batch_id</th>\n",
       "    </tr>\n",
       "    <tr>\n",
       "      <th>iter</th>\n",
       "      <th>action</th>\n",
       "      <th></th>\n",
       "      <th></th>\n",
       "      <th></th>\n",
       "    </tr>\n",
       "  </thead>\n",
       "  <tbody>\n",
       "    <tr>\n",
       "      <th rowspan=\"12\" valign=\"top\">1</th>\n",
       "      <th>elastic_transform #10</th>\n",
       "      <td>0.152584</td>\n",
       "      <td>0.148504</td>\n",
       "      <td>139764819866736</td>\n",
       "    </tr>\n",
       "    <tr>\n",
       "      <th>rotate #8</th>\n",
       "      <td>0.075158</td>\n",
       "      <td>0.071542</td>\n",
       "      <td>139764819866736</td>\n",
       "    </tr>\n",
       "    <tr>\n",
       "      <th>additive_noise #7</th>\n",
       "      <td>0.074349</td>\n",
       "      <td>0.071203</td>\n",
       "      <td>139764819866736</td>\n",
       "    </tr>\n",
       "    <tr>\n",
       "      <th>scale_2d #9</th>\n",
       "      <td>0.069509</td>\n",
       "      <td>0.065906</td>\n",
       "      <td>139764819866736</td>\n",
       "    </tr>\n",
       "    <tr>\n",
       "      <th>flip #6</th>\n",
       "      <td>0.063535</td>\n",
       "      <td>0.059899</td>\n",
       "      <td>139764819866736</td>\n",
       "    </tr>\n",
       "    <tr>\n",
       "      <th>load_cubes #2</th>\n",
       "      <td>0.038008</td>\n",
       "      <td>0.034222</td>\n",
       "      <td>139764819866736</td>\n",
       "    </tr>\n",
       "    <tr>\n",
       "      <th>crop #0</th>\n",
       "      <td>0.025153</td>\n",
       "      <td>0.019723</td>\n",
       "      <td>139764819866736</td>\n",
       "    </tr>\n",
       "    <tr>\n",
       "      <th>create_masks #1</th>\n",
       "      <td>0.019000</td>\n",
       "      <td>0.015931</td>\n",
       "      <td>139764819866736</td>\n",
       "    </tr>\n",
       "    <tr>\n",
       "      <th>adaptive_reshape #3</th>\n",
       "      <td>0.016274</td>\n",
       "      <td>0.013116</td>\n",
       "      <td>139764819866736</td>\n",
       "    </tr>\n",
       "    <tr>\n",
       "      <th>transpose #11</th>\n",
       "      <td>0.014330</td>\n",
       "      <td>0.011235</td>\n",
       "      <td>139764819866736</td>\n",
       "    </tr>\n",
       "    <tr>\n",
       "      <th>transpose #5</th>\n",
       "      <td>0.014269</td>\n",
       "      <td>0.011140</td>\n",
       "      <td>139764819866736</td>\n",
       "    </tr>\n",
       "    <tr>\n",
       "      <th>scale #4</th>\n",
       "      <td>0.012072</td>\n",
       "      <td>0.009128</td>\n",
       "      <td>139764819866736</td>\n",
       "    </tr>\n",
       "    <tr>\n",
       "      <th rowspan=\"12\" valign=\"top\">2</th>\n",
       "      <th>elastic_transform #10</th>\n",
       "      <td>0.153873</td>\n",
       "      <td>0.149688</td>\n",
       "      <td>139764820177080</td>\n",
       "    </tr>\n",
       "    <tr>\n",
       "      <th>rotate #8</th>\n",
       "      <td>0.074588</td>\n",
       "      <td>0.070991</td>\n",
       "      <td>139764820177080</td>\n",
       "    </tr>\n",
       "    <tr>\n",
       "      <th>additive_noise #7</th>\n",
       "      <td>0.074496</td>\n",
       "      <td>0.071374</td>\n",
       "      <td>139764820177080</td>\n",
       "    </tr>\n",
       "    <tr>\n",
       "      <th>scale_2d #9</th>\n",
       "      <td>0.071027</td>\n",
       "      <td>0.067477</td>\n",
       "      <td>139764820177080</td>\n",
       "    </tr>\n",
       "    <tr>\n",
       "      <th>flip #6</th>\n",
       "      <td>0.062900</td>\n",
       "      <td>0.059265</td>\n",
       "      <td>139764820177080</td>\n",
       "    </tr>\n",
       "    <tr>\n",
       "      <th>load_cubes #2</th>\n",
       "      <td>0.037209</td>\n",
       "      <td>0.033576</td>\n",
       "      <td>139764820177080</td>\n",
       "    </tr>\n",
       "    <tr>\n",
       "      <th>crop #0</th>\n",
       "      <td>0.018707</td>\n",
       "      <td>0.013175</td>\n",
       "      <td>139764820177080</td>\n",
       "    </tr>\n",
       "    <tr>\n",
       "      <th>create_masks #1</th>\n",
       "      <td>0.018103</td>\n",
       "      <td>0.015166</td>\n",
       "      <td>139764820177080</td>\n",
       "    </tr>\n",
       "    <tr>\n",
       "      <th>adaptive_reshape #3</th>\n",
       "      <td>0.016557</td>\n",
       "      <td>0.013372</td>\n",
       "      <td>139764820177080</td>\n",
       "    </tr>\n",
       "    <tr>\n",
       "      <th>transpose #11</th>\n",
       "      <td>0.014412</td>\n",
       "      <td>0.011315</td>\n",
       "      <td>139764820177080</td>\n",
       "    </tr>\n",
       "    <tr>\n",
       "      <th>transpose #5</th>\n",
       "      <td>0.014351</td>\n",
       "      <td>0.011226</td>\n",
       "      <td>139764820177080</td>\n",
       "    </tr>\n",
       "    <tr>\n",
       "      <th>scale #4</th>\n",
       "      <td>0.011729</td>\n",
       "      <td>0.008854</td>\n",
       "      <td>139764820177080</td>\n",
       "    </tr>\n",
       "  </tbody>\n",
       "</table>\n",
       "</div>"
      ],
      "text/plain": [
       "                            total_time  pipeline_time         batch_id\n",
       "iter action                                                           \n",
       "1    elastic_transform #10    0.152584       0.148504  139764819866736\n",
       "     rotate #8                0.075158       0.071542  139764819866736\n",
       "     additive_noise #7        0.074349       0.071203  139764819866736\n",
       "     scale_2d #9              0.069509       0.065906  139764819866736\n",
       "     flip #6                  0.063535       0.059899  139764819866736\n",
       "     load_cubes #2            0.038008       0.034222  139764819866736\n",
       "     crop #0                  0.025153       0.019723  139764819866736\n",
       "     create_masks #1          0.019000       0.015931  139764819866736\n",
       "     adaptive_reshape #3      0.016274       0.013116  139764819866736\n",
       "     transpose #11            0.014330       0.011235  139764819866736\n",
       "     transpose #5             0.014269       0.011140  139764819866736\n",
       "     scale #4                 0.012072       0.009128  139764819866736\n",
       "2    elastic_transform #10    0.153873       0.149688  139764820177080\n",
       "     rotate #8                0.074588       0.070991  139764820177080\n",
       "     additive_noise #7        0.074496       0.071374  139764820177080\n",
       "     scale_2d #9              0.071027       0.067477  139764820177080\n",
       "     flip #6                  0.062900       0.059265  139764820177080\n",
       "     load_cubes #2            0.037209       0.033576  139764820177080\n",
       "     crop #0                  0.018707       0.013175  139764820177080\n",
       "     create_masks #1          0.018103       0.015166  139764820177080\n",
       "     adaptive_reshape #3      0.016557       0.013372  139764820177080\n",
       "     transpose #11            0.014412       0.011315  139764820177080\n",
       "     transpose #5             0.014351       0.011226  139764820177080\n",
       "     scale #4                 0.011729       0.008854  139764820177080"
      ]
     },
     "execution_count": 15,
     "metadata": {},
     "output_type": "execute_result"
    }
   ],
   "source": [
    "data_pipeline.show_profile_info(per_iter=True).ix[:2]"
   ]
  },
  {
   "cell_type": "markdown",
   "metadata": {},
   "source": [
    "Refer to [profiling tutorial](https://github.com/analysiscenter/batchflow/blob/master/examples/tutorials/08_profiling.ipynb) to learn more about exact collected information and how to format it."
   ]
  },
  {
   "cell_type": "markdown",
   "metadata": {},
   "source": [
    "## Pipeline as data generator\n",
    "\n",
    "`Pipeline` has multiple interfaces; `gen_batch` allows to iterate over batches, using their attributes with data as usual `NumPy` arrays:"
   ]
  },
  {
   "cell_type": "code",
   "execution_count": 16,
   "metadata": {},
   "outputs": [
    {
     "name": "stderr",
     "output_type": "stream",
     "text": [
      "100%|██████████| 100/100 [00:49<00:00,  2.02it/s]"
     ]
    },
    {
     "name": "stdout",
     "output_type": "stream",
     "text": [
      "CPU times: user 49.5 s, sys: 160 ms, total: 49.6 s\n",
      "Wall time: 49.6 s\n"
     ]
    },
    {
     "name": "stderr",
     "output_type": "stream",
     "text": [
      "\n"
     ]
    }
   ],
   "source": [
    "%%time\n",
    "data_pipeline = load_pipeline + aug_pipeline \n",
    "\n",
    "for batch in tqdm(data_pipeline.gen_batch(D.size, n_iters=ITERS), total=ITERS):\n",
    "    images, masks = batch.images, batch.masks"
   ]
  },
  {
   "cell_type": "markdown",
   "metadata": {},
   "source": [
    "You can pass the `profile` argument to the `gen_batch` method. For now, let's just make sure that `images` and `masks` variables contain what we expect:"
   ]
  },
  {
   "cell_type": "code",
   "execution_count": 17,
   "metadata": {},
   "outputs": [
    {
     "name": "stdout",
     "output_type": "stream",
     "text": [
      "images: (<class 'numpy.ndarray'>, dtype('float32'), (64, 1, 256, 256))\n",
      "masks:  (<class 'numpy.ndarray'>, dtype('float32'), (64, 1, 256, 256))\n"
     ]
    },
    {
     "data": {
      "image/png": "[encoded data removed]",
      "text/plain": [
       "<Figure size 864x504 with 1 Axes>"
      ]
     },
     "metadata": {
      "needs_background": "light"
     },
     "output_type": "display_data"
    }
   ],
   "source": [
    "print(f'images: {(type(images), images.dtype, images.shape)}')\n",
    "print(f'masks:  {(type(masks), masks.dtype, masks.shape)}')\n",
    "\n",
    "plot_image((images[0, 0, ...], masks[0, 0, ...]), mode='overlap', y=1.,\n",
    "           xlabel='xlines', ylabel='depth', title='images and masks')"
   ]
  },
  {
   "cell_type": "markdown",
   "metadata": {},
   "source": [
    "## Convert pipeline to DataLoader\n",
    "\n",
    "Sometimes, `PyTorch DataLoader` is convenient to use. Pipeline is already of a generative nature, so all we need to do is to wrap it into iterable dataset:"
   ]
  },
  {
   "cell_type": "code",
   "execution_count": 18,
   "metadata": {},
   "outputs": [],
   "source": [
    "class PipelineDataset(IterableDataset):\n",
    "    def __init__(self, pipeline, microbatch=4):\n",
    "        self.pipeline = pipeline\n",
    "        self.microbatch = microbatch\n",
    "    \n",
    "    def get_data(self):\n",
    "        while True:\n",
    "            batch = self.pipeline.next_batch(D('size'))\n",
    "            images, masks = batch.images, batch.masks\n",
    "                \n",
    "            for i in range(0, len(images), self.microbatch):\n",
    "                yield images[i:i+self.microbatch, ...], masks[i:i+self.microbatch, ...]\n",
    "\n",
    "    \n",
    "    def __iter__(self):\n",
    "        return self.get_data()"
   ]
  },
  {
   "cell_type": "code",
   "execution_count": 19,
   "metadata": {},
   "outputs": [
    {
     "name": "stderr",
     "output_type": "stream",
     "text": [
      "100%|██████████| 100/100 [00:50<00:00,  1.97it/s]"
     ]
    },
    {
     "name": "stdout",
     "output_type": "stream",
     "text": [
      "CPU times: user 1min 21s, sys: 153 ms, total: 1min 21s\n",
      "Wall time: 50.7 s\n"
     ]
    },
    {
     "name": "stderr",
     "output_type": "stream",
     "text": [
      "\n"
     ]
    }
   ],
   "source": [
    "%%time\n",
    "pds = PipelineDataset(load_pipeline + aug_pipeline, microbatch=64)\n",
    "\n",
    "# Note the `None` batch_size: it is already set as part of the loading pipeline\n",
    "loader =  DataLoader(pds, batch_size=None, pin_memory=True)\n",
    "\n",
    "for batch, _ in tqdm(zip(loader, range(ITERS)), total=ITERS):\n",
    "    images, masks = batch"
   ]
  },
  {
   "cell_type": "code",
   "execution_count": 20,
   "metadata": {},
   "outputs": [
    {
     "name": "stdout",
     "output_type": "stream",
     "text": [
      "images: (<class 'torch.Tensor'>, torch.float32, torch.Size([64, 1, 256, 256]))\n",
      "masks:  (<class 'torch.Tensor'>, torch.float32, torch.Size([64, 1, 256, 256]))\n"
     ]
    }
   ],
   "source": [
    "print(f'images: {(type(images), images.dtype, images.shape)}')\n",
    "print(f'masks:  {(type(masks), masks.dtype, masks.shape)}')"
   ]
  },
  {
   "cell_type": "markdown",
   "metadata": {},
   "source": [
    "`DataLoader` converts all the data from regular `NumPy` arrays to `Torch.Tensor`s; nevertheless, underlying data is [shared](https://pytorch.org/docs/stable/tensors.html)."
   ]
  },
  {
   "cell_type": "markdown",
   "metadata": {},
   "source": [
    "<a id='profile2'></a>\n",
    "# Model train profile\n",
    "\n",
    "Most of the cells do exactly the same, yet implore model training step as well.\n",
    "\n",
    "## Regular pipeline usage\n",
    "\n",
    "We run one iteration of something-GPU-related to ensure warm start for all of the subsequent cells:"
   ]
  },
  {
   "cell_type": "code",
   "execution_count": 21,
   "metadata": {},
   "outputs": [
    {
     "name": "stderr",
     "output_type": "stream",
     "text": [
      "100%|██████████| 1/1 [00:02<00:00,  2.17s/it]"
     ]
    },
    {
     "name": "stdout",
     "output_type": "stream",
     "text": [
      "CPU times: user 1.15 s, sys: 611 ms, total: 1.76 s\n",
      "Wall time: 2.17 s\n"
     ]
    },
    {
     "name": "stderr",
     "output_type": "stream",
     "text": [
      "\n"
     ]
    },
    {
     "data": {
      "text/plain": [
       "<seismiqb.batchflow.batchflow.pipeline.Pipeline at 0x7f1d8d2aa6a0>"
      ]
     },
     "execution_count": 21,
     "metadata": {},
     "output_type": "execute_result"
    }
   ],
   "source": [
    "%%time\n",
    "train_pipeline = load_pipeline + aug_pipeline + model_pipeline\n",
    "train_pipeline.run(D.size, n_iters=1, bar=True)"
   ]
  },
  {
   "cell_type": "code",
   "execution_count": 22,
   "metadata": {},
   "outputs": [
    {
     "name": "stderr",
     "output_type": "stream",
     "text": [
      "100%|██████████| 100/100 [01:56<00:00,  1.16s/it]"
     ]
    },
    {
     "name": "stdout",
     "output_type": "stream",
     "text": [
      "CPU times: user 1min 45s, sys: 10.8 s, total: 1min 56s\n",
      "Wall time: 1min 56s\n"
     ]
    },
    {
     "name": "stderr",
     "output_type": "stream",
     "text": [
      "\n"
     ]
    },
    {
     "data": {
      "text/plain": [
       "<seismiqb.batchflow.batchflow.pipeline.Pipeline at 0x7f1d8d2aa6a0>"
      ]
     },
     "execution_count": 22,
     "metadata": {},
     "output_type": "execute_result"
    }
   ],
   "source": [
    "%%time\n",
    "train_pipeline.run(D.size, n_iters=ITERS, bar=True)"
   ]
  },
  {
   "cell_type": "markdown",
   "metadata": {},
   "source": [
    "As before, we can use `profile` flag to get more detailed information:"
   ]
  },
  {
   "cell_type": "code",
   "execution_count": 23,
   "metadata": {},
   "outputs": [
    {
     "name": "stderr",
     "output_type": "stream",
     "text": [
      "100%|██████████| 100/100 [03:01<00:00,  1.81s/it]"
     ]
    },
    {
     "name": "stdout",
     "output_type": "stream",
     "text": [
      "CPU times: user 2min 51s, sys: 10.3 s, total: 3min 1s\n",
      "Wall time: 3min 1s\n"
     ]
    },
    {
     "name": "stderr",
     "output_type": "stream",
     "text": [
      "\n"
     ]
    },
    {
     "data": {
      "text/plain": [
       "<seismiqb.batchflow.batchflow.pipeline.Pipeline at 0x7f1d8d2bfe10>"
      ]
     },
     "execution_count": 23,
     "metadata": {},
     "output_type": "execute_result"
    }
   ],
   "source": [
    "%%time\n",
    "train_pipeline = load_pipeline + aug_pipeline + model_pipeline\n",
    "train_pipeline.run(D.size, n_iters=ITERS, bar=True, profile=True)"
   ]
  },
  {
   "cell_type": "code",
   "execution_count": 24,
   "metadata": {},
   "outputs": [
    {
     "name": "stdout",
     "output_type": "stream",
     "text": [
      "Total time of actions running:  125.57742524147034\n"
     ]
    },
    {
     "data": {
      "text/html": [
       "<div>\n",
       "<style scoped>\n",
       "    .dataframe tbody tr th:only-of-type {\n",
       "        vertical-align: middle;\n",
       "    }\n",
       "\n",
       "    .dataframe tbody tr th {\n",
       "        vertical-align: top;\n",
       "    }\n",
       "\n",
       "    .dataframe thead th {\n",
       "        text-align: right;\n",
       "    }\n",
       "</style>\n",
       "<table border=\"1\" class=\"dataframe\">\n",
       "  <thead>\n",
       "    <tr style=\"text-align: right;\">\n",
       "      <th></th>\n",
       "      <th>sum</th>\n",
       "      <th>mean</th>\n",
       "      <th>max</th>\n",
       "    </tr>\n",
       "    <tr>\n",
       "      <th>action</th>\n",
       "      <th></th>\n",
       "      <th></th>\n",
       "      <th></th>\n",
       "    </tr>\n",
       "  </thead>\n",
       "  <tbody>\n",
       "    <tr>\n",
       "      <th>train_model #13</th>\n",
       "      <td>67.294270</td>\n",
       "      <td>0.672943</td>\n",
       "      <td>0.738106</td>\n",
       "    </tr>\n",
       "    <tr>\n",
       "      <th>elastic_transform #10</th>\n",
       "      <td>15.023941</td>\n",
       "      <td>0.150239</td>\n",
       "      <td>0.160930</td>\n",
       "    </tr>\n",
       "    <tr>\n",
       "      <th>rotate #8</th>\n",
       "      <td>7.233566</td>\n",
       "      <td>0.072336</td>\n",
       "      <td>0.082903</td>\n",
       "    </tr>\n",
       "    <tr>\n",
       "      <th>additive_noise #7</th>\n",
       "      <td>7.183109</td>\n",
       "      <td>0.071831</td>\n",
       "      <td>0.083100</td>\n",
       "    </tr>\n",
       "    <tr>\n",
       "      <th>scale_2d #9</th>\n",
       "      <td>6.660368</td>\n",
       "      <td>0.066604</td>\n",
       "      <td>0.077033</td>\n",
       "    </tr>\n",
       "    <tr>\n",
       "      <th>flip #6</th>\n",
       "      <td>6.062070</td>\n",
       "      <td>0.060621</td>\n",
       "      <td>0.092544</td>\n",
       "    </tr>\n",
       "    <tr>\n",
       "      <th>load_cubes #2</th>\n",
       "      <td>3.402720</td>\n",
       "      <td>0.034027</td>\n",
       "      <td>0.050256</td>\n",
       "    </tr>\n",
       "    <tr>\n",
       "      <th>crop #0</th>\n",
       "      <td>1.539194</td>\n",
       "      <td>0.015392</td>\n",
       "      <td>0.025457</td>\n",
       "    </tr>\n",
       "    <tr>\n",
       "      <th>create_masks #1</th>\n",
       "      <td>1.559301</td>\n",
       "      <td>0.015593</td>\n",
       "      <td>0.022964</td>\n",
       "    </tr>\n",
       "    <tr>\n",
       "      <th>adaptive_reshape #3</th>\n",
       "      <td>1.351987</td>\n",
       "      <td>0.013520</td>\n",
       "      <td>0.019394</td>\n",
       "    </tr>\n",
       "    <tr>\n",
       "      <th>transpose #5</th>\n",
       "      <td>1.167032</td>\n",
       "      <td>0.011670</td>\n",
       "      <td>0.016915</td>\n",
       "    </tr>\n",
       "    <tr>\n",
       "      <th>transpose #11</th>\n",
       "      <td>1.120330</td>\n",
       "      <td>0.011203</td>\n",
       "      <td>0.013495</td>\n",
       "    </tr>\n",
       "    <tr>\n",
       "      <th>scale #4</th>\n",
       "      <td>0.893927</td>\n",
       "      <td>0.008939</td>\n",
       "      <td>0.012494</td>\n",
       "    </tr>\n",
       "    <tr>\n",
       "      <th>import_model #12</th>\n",
       "      <td>0.003533</td>\n",
       "      <td>0.000035</td>\n",
       "      <td>0.000059</td>\n",
       "    </tr>\n",
       "  </tbody>\n",
       "</table>\n",
       "</div>"
      ],
      "text/plain": [
       "                             sum      mean       max\n",
       "action                                              \n",
       "train_model #13        67.294270  0.672943  0.738106\n",
       "elastic_transform #10  15.023941  0.150239  0.160930\n",
       "rotate #8               7.233566  0.072336  0.082903\n",
       "additive_noise #7       7.183109  0.071831  0.083100\n",
       "scale_2d #9             6.660368  0.066604  0.077033\n",
       "flip #6                 6.062070  0.060621  0.092544\n",
       "load_cubes #2           3.402720  0.034027  0.050256\n",
       "crop #0                 1.539194  0.015392  0.025457\n",
       "create_masks #1         1.559301  0.015593  0.022964\n",
       "adaptive_reshape #3     1.351987  0.013520  0.019394\n",
       "transpose #5            1.167032  0.011670  0.016915\n",
       "transpose #11           1.120330  0.011203  0.013495\n",
       "scale #4                0.893927  0.008939  0.012494\n",
       "import_model #12        0.003533  0.000035  0.000059"
      ]
     },
     "execution_count": 24,
     "metadata": {},
     "output_type": "execute_result"
    }
   ],
   "source": [
    "result = train_pipeline.show_profile_info()\n",
    "print('Total time of actions running: ', result['total_time']['sum'].sum())\n",
    "result['pipeline_time']"
   ]
  },
  {
   "cell_type": "markdown",
   "metadata": {},
   "source": [
    "Note that this does not allow to profile individual GPU operations. You can this option in model configuration, in `train` method call or directly into the config of already existing model:"
   ]
  },
  {
   "cell_type": "code",
   "execution_count": 25,
   "metadata": {},
   "outputs": [
    {
     "name": "stderr",
     "output_type": "stream",
     "text": [
      "100%|██████████| 100/100 [03:08<00:00,  1.89s/it]"
     ]
    },
    {
     "name": "stdout",
     "output_type": "stream",
     "text": [
      "CPU times: user 2min 53s, sys: 15.5 s, total: 3min 8s\n",
      "Wall time: 3min 8s\n"
     ]
    },
    {
     "name": "stderr",
     "output_type": "stream",
     "text": [
      "\n"
     ]
    }
   ],
   "source": [
    "%%time\n",
    "model.full_config['profile'] = True\n",
    "train_pipeline.run(D.size, n_iters=ITERS, bar=True)\n",
    "model.full_config['profile'] = False"
   ]
  },
  {
   "cell_type": "markdown",
   "metadata": {},
   "source": [
    "As you can see, it takes a lot of time, though allows us to granularly inspect every cuda kernel time taken:"
   ]
  },
  {
   "cell_type": "code",
   "execution_count": 26,
   "metadata": {},
   "outputs": [
    {
     "data": {
      "text/html": [
       "<div>\n",
       "<style scoped>\n",
       "    .dataframe tbody tr th:only-of-type {\n",
       "        vertical-align: middle;\n",
       "    }\n",
       "\n",
       "    .dataframe tbody tr th {\n",
       "        vertical-align: top;\n",
       "    }\n",
       "\n",
       "    .dataframe thead tr th {\n",
       "        text-align: left;\n",
       "    }\n",
       "\n",
       "    .dataframe thead tr:last-of-type th {\n",
       "        text-align: right;\n",
       "    }\n",
       "</style>\n",
       "<table border=\"1\" class=\"dataframe\">\n",
       "  <thead>\n",
       "    <tr>\n",
       "      <th></th>\n",
       "      <th colspan=\"3\" halign=\"left\">ncalls</th>\n",
       "      <th colspan=\"3\" halign=\"left\">CUDA_cumtime</th>\n",
       "      <th colspan=\"3\" halign=\"left\">CUDA_cumtime_avg</th>\n",
       "    </tr>\n",
       "    <tr>\n",
       "      <th></th>\n",
       "      <th>sum</th>\n",
       "      <th>mean</th>\n",
       "      <th>max</th>\n",
       "      <th>sum</th>\n",
       "      <th>mean</th>\n",
       "      <th>max</th>\n",
       "      <th>sum</th>\n",
       "      <th>mean</th>\n",
       "      <th>max</th>\n",
       "    </tr>\n",
       "    <tr>\n",
       "      <th>name</th>\n",
       "      <th></th>\n",
       "      <th></th>\n",
       "      <th></th>\n",
       "      <th></th>\n",
       "      <th></th>\n",
       "      <th></th>\n",
       "      <th></th>\n",
       "      <th></th>\n",
       "      <th></th>\n",
       "    </tr>\n",
       "  </thead>\n",
       "  <tbody>\n",
       "    <tr>\n",
       "      <th>CudnnConvolutionBackward</th>\n",
       "      <td>52800</td>\n",
       "      <td>528</td>\n",
       "      <td>528</td>\n",
       "      <td>25.878285</td>\n",
       "      <td>0.258783</td>\n",
       "      <td>0.281609</td>\n",
       "      <td>0.049012</td>\n",
       "      <td>0.000490</td>\n",
       "      <td>0.000533</td>\n",
       "    </tr>\n",
       "    <tr>\n",
       "      <th>cudnn_convolution_backward</th>\n",
       "      <td>52800</td>\n",
       "      <td>528</td>\n",
       "      <td>528</td>\n",
       "      <td>25.665558</td>\n",
       "      <td>0.256656</td>\n",
       "      <td>0.279475</td>\n",
       "      <td>0.048609</td>\n",
       "      <td>0.000486</td>\n",
       "      <td>0.000529</td>\n",
       "    </tr>\n",
       "    <tr>\n",
       "      <th>batch_norm</th>\n",
       "      <td>57600</td>\n",
       "      <td>576</td>\n",
       "      <td>576</td>\n",
       "      <td>11.634008</td>\n",
       "      <td>0.116340</td>\n",
       "      <td>0.139933</td>\n",
       "      <td>0.020198</td>\n",
       "      <td>0.000202</td>\n",
       "      <td>0.000243</td>\n",
       "    </tr>\n",
       "    <tr>\n",
       "      <th>_batch_norm_impl_index</th>\n",
       "      <td>57600</td>\n",
       "      <td>576</td>\n",
       "      <td>576</td>\n",
       "      <td>11.365336</td>\n",
       "      <td>0.113653</td>\n",
       "      <td>0.136671</td>\n",
       "      <td>0.019731</td>\n",
       "      <td>0.000197</td>\n",
       "      <td>0.000237</td>\n",
       "    </tr>\n",
       "    <tr>\n",
       "      <th>CudnnBatchNormBackward</th>\n",
       "      <td>57600</td>\n",
       "      <td>576</td>\n",
       "      <td>576</td>\n",
       "      <td>10.272211</td>\n",
       "      <td>0.102722</td>\n",
       "      <td>0.108268</td>\n",
       "      <td>0.017834</td>\n",
       "      <td>0.000178</td>\n",
       "      <td>0.000188</td>\n",
       "    </tr>\n",
       "    <tr>\n",
       "      <th>cudnn_batch_norm_backward</th>\n",
       "      <td>57600</td>\n",
       "      <td>576</td>\n",
       "      <td>576</td>\n",
       "      <td>9.809088</td>\n",
       "      <td>0.098091</td>\n",
       "      <td>0.103369</td>\n",
       "      <td>0.017030</td>\n",
       "      <td>0.000170</td>\n",
       "      <td>0.000179</td>\n",
       "    </tr>\n",
       "    <tr>\n",
       "      <th>cudnn_batch_norm</th>\n",
       "      <td>57600</td>\n",
       "      <td>576</td>\n",
       "      <td>576</td>\n",
       "      <td>9.638830</td>\n",
       "      <td>0.096388</td>\n",
       "      <td>0.107895</td>\n",
       "      <td>0.016734</td>\n",
       "      <td>0.000167</td>\n",
       "      <td>0.000187</td>\n",
       "    </tr>\n",
       "    <tr>\n",
       "      <th>conv2d</th>\n",
       "      <td>52800</td>\n",
       "      <td>528</td>\n",
       "      <td>528</td>\n",
       "      <td>7.942411</td>\n",
       "      <td>0.079424</td>\n",
       "      <td>0.098789</td>\n",
       "      <td>0.015042</td>\n",
       "      <td>0.000150</td>\n",
       "      <td>0.000187</td>\n",
       "    </tr>\n",
       "    <tr>\n",
       "      <th>convolution</th>\n",
       "      <td>52800</td>\n",
       "      <td>528</td>\n",
       "      <td>528</td>\n",
       "      <td>7.687753</td>\n",
       "      <td>0.076878</td>\n",
       "      <td>0.096135</td>\n",
       "      <td>0.014560</td>\n",
       "      <td>0.000146</td>\n",
       "      <td>0.000182</td>\n",
       "    </tr>\n",
       "    <tr>\n",
       "      <th>_convolution</th>\n",
       "      <td>52800</td>\n",
       "      <td>528</td>\n",
       "      <td>528</td>\n",
       "      <td>7.438672</td>\n",
       "      <td>0.074387</td>\n",
       "      <td>0.086024</td>\n",
       "      <td>0.014088</td>\n",
       "      <td>0.000141</td>\n",
       "      <td>0.000163</td>\n",
       "    </tr>\n",
       "  </tbody>\n",
       "</table>\n",
       "</div>"
      ],
      "text/plain": [
       "                           ncalls           CUDA_cumtime                      \\\n",
       "                              sum mean  max          sum      mean       max   \n",
       "name                                                                           \n",
       "CudnnConvolutionBackward    52800  528  528    25.878285  0.258783  0.281609   \n",
       "cudnn_convolution_backward  52800  528  528    25.665558  0.256656  0.279475   \n",
       "batch_norm                  57600  576  576    11.634008  0.116340  0.139933   \n",
       "_batch_norm_impl_index      57600  576  576    11.365336  0.113653  0.136671   \n",
       "CudnnBatchNormBackward      57600  576  576    10.272211  0.102722  0.108268   \n",
       "cudnn_batch_norm_backward   57600  576  576     9.809088  0.098091  0.103369   \n",
       "cudnn_batch_norm            57600  576  576     9.638830  0.096388  0.107895   \n",
       "conv2d                      52800  528  528     7.942411  0.079424  0.098789   \n",
       "convolution                 52800  528  528     7.687753  0.076878  0.096135   \n",
       "_convolution                52800  528  528     7.438672  0.074387  0.086024   \n",
       "\n",
       "                           CUDA_cumtime_avg                      \n",
       "                                        sum      mean       max  \n",
       "name                                                             \n",
       "CudnnConvolutionBackward           0.049012  0.000490  0.000533  \n",
       "cudnn_convolution_backward         0.048609  0.000486  0.000529  \n",
       "batch_norm                         0.020198  0.000202  0.000243  \n",
       "_batch_norm_impl_index             0.019731  0.000197  0.000237  \n",
       "CudnnBatchNormBackward             0.017834  0.000178  0.000188  \n",
       "cudnn_batch_norm_backward          0.017030  0.000170  0.000179  \n",
       "cudnn_batch_norm                   0.016734  0.000167  0.000187  \n",
       "conv2d                             0.015042  0.000150  0.000187  \n",
       "convolution                        0.014560  0.000146  0.000182  \n",
       "_convolution                       0.014088  0.000141  0.000163  "
      ]
     },
     "execution_count": 26,
     "metadata": {},
     "output_type": "execute_result"
    }
   ],
   "source": [
    "model.show_profile_info()"
   ]
  },
  {
   "cell_type": "markdown",
   "metadata": {},
   "source": [
    "## Pipeline as data generator\n",
    "\n",
    "That is roughly the same as what goes under the hood of `model_train` action of `Pipeline`:"
   ]
  },
  {
   "cell_type": "code",
   "execution_count": 27,
   "metadata": {},
   "outputs": [
    {
     "name": "stderr",
     "output_type": "stream",
     "text": [
      "100%|██████████| 100/100 [01:55<00:00,  1.16s/it]"
     ]
    },
    {
     "name": "stdout",
     "output_type": "stream",
     "text": [
      "CPU times: user 1min 44s, sys: 10.8 s, total: 1min 55s\n",
      "Wall time: 1min 55s\n"
     ]
    },
    {
     "name": "stderr",
     "output_type": "stream",
     "text": [
      "\n"
     ]
    }
   ],
   "source": [
    "%%time\n",
    "data_pipeline = load_pipeline + aug_pipeline\n",
    "\n",
    "for batch in tqdm(data_pipeline.gen_batch(D.size, n_iters=ITERS), total=ITERS):\n",
    "    images, masks = batch.images, batch.masks\n",
    "    model.train(fetches='loss', images=images, masks=masks)"
   ]
  },
  {
   "cell_type": "markdown",
   "metadata": {},
   "source": [
    "## Convert pipeline to DataLoader; use Lightning to train the model\n",
    "\n",
    "Obviously, behind our `PyTorch` wrapper lies a plain old `PyTorch` model, that can be accessed via `model` attribute. There are also other attributes to store loss function, optimizer, etc. The `Lightning` wrapper just simply borrows them from our model:"
   ]
  },
  {
   "cell_type": "code",
   "execution_count": 28,
   "metadata": {},
   "outputs": [],
   "source": [
    "class LightningModel(LightningModule):\n",
    "    def __init__(self, bf_model, pipeline=None):\n",
    "        super().__init__()\n",
    "        self.bf_model = bf_model\n",
    "        self.pipeline = pipeline\n",
    "        \n",
    "        self.loss_list = []\n",
    "        \n",
    "    def forward(self, x):\n",
    "        return self.bf_model.model(x)\n",
    "    \n",
    "    def configure_optimizers(self):\n",
    "        return self.bf_model.train_steps['']['optimizer']\n",
    "    \n",
    "    def training_step(self, batch, batch_idx):\n",
    "        images, targets = batch\n",
    "        predictions = self(images)\n",
    "        \n",
    "        loss_func = self.bf_model.train_steps['']['loss'][0]\n",
    "        loss = loss_func(predictions, targets)\n",
    "        \n",
    "        self.loss_list.append(loss.detach().cpu().numpy())\n",
    "        logs = {'loss': loss}\n",
    "        return {'loss': loss, 'log': logs}\n",
    "    \n",
    "    def train_dataloader(self):\n",
    "        if self.pipeline is not None:\n",
    "            pds = PipelineDataset(self.pipeline,\n",
    "                                  microbatch=self.bf_model.config.get('microbatch'))\n",
    "            return DataLoader(pds, batch_size=None, pin_memory=True)"
   ]
  },
  {
   "cell_type": "code",
   "execution_count": 29,
   "metadata": {},
   "outputs": [
    {
     "name": "stderr",
     "output_type": "stream",
     "text": [
      "GPU available: True, used: True\n",
      "No environment variable for node rank defined. Set as 0.\n",
      "CUDA_VISIBLE_DEVICES: [0]\n"
     ]
    },
    {
     "name": "stdout",
     "output_type": "stream",
     "text": [
      "CPU times: user 5.61 ms, sys: 126 µs, total: 5.73 ms\n",
      "Wall time: 4.92 ms\n"
     ]
    }
   ],
   "source": [
    "%%time\n",
    "l_model = LightningModel(bf_model=model, pipeline=(load_pipeline + aug_pipeline) << dataset)\n",
    "\n",
    "trainer = Trainer(gpus=1,\n",
    "                  accumulate_grad_batches=16,    # reverse microbatch\n",
    "                  max_steps=ITERS,               # number of iterations\n",
    "                  weights_summary=None)"
   ]
  },
  {
   "cell_type": "code",
   "execution_count": 30,
   "metadata": {},
   "outputs": [
    {
     "data": {
      "application/vnd.jupyter.widget-view+json": {
       "model_id": "e74d4708e18c45279dea4843dabf20ba",
       "version_major": 2,
       "version_minor": 0
      },
      "text/plain": [
       "HBox(children=(FloatProgress(value=1.0, bar_style='info', description='Training', layout=Layout(flex='2'), max…"
      ]
     },
     "metadata": {},
     "output_type": "display_data"
    },
    {
     "name": "stdout",
     "output_type": "stream",
     "text": [
      "\n",
      "CPU times: user 8min 12s, sys: 12.3 s, total: 8min 25s\n",
      "Wall time: 2min 7s\n"
     ]
    },
    {
     "data": {
      "text/plain": [
       "1"
      ]
     },
     "execution_count": 30,
     "metadata": {},
     "output_type": "execute_result"
    }
   ],
   "source": [
    "%%time\n",
    "# Total iterations number is 800 = 16 * 100 = accumulated batches * ITERS \n",
    "trainer.fit(model=l_model)"
   ]
  },
  {
   "cell_type": "markdown",
   "metadata": {},
   "source": [
    "<a id='inference'></a>\n",
    "# Inference profile\n",
    "\n",
    "During training we were sampling points along some sparce carcass: that procedure heavily benefits of caching mechanisms in our framework: we need to load very few slices of data during the whole process, so they are instantly loaded into cache and the cube is never touched again.\n",
    "\n",
    "During inference the whole dynamic changes: we are moving from slice to slice sequentially, so each slide is used multiple times (and cache still works wonders), but the overall amount of cube access increases dramatically. Making more overlapping predictions (contolled by the `stride` argument of `make_grid`) benefits more from caching.\n",
    "\n",
    "Action `assemble_crops` is not like the others: it is performed only once, at the end of pipeline run. Specifically:\n",
    "\n",
    "- pipeline iterates over crops, cut from the cube in order to cover the required volume\n",
    "- for each crop, it makes a prediction with trained neural network\n",
    "- after all predictions are available, `assemble_crop` creates a huge 3D array from them, taking overlapping crops into account"
   ]
  },
  {
   "cell_type": "code",
   "execution_count": 31,
   "metadata": {},
   "outputs": [],
   "source": [
    "inference_pipeline = (\n",
    "    Pipeline()\n",
    "    # Initialize everything\n",
    "    .init_variable('result_preds', [])\n",
    "    .import_model(model, name='model')\n",
    "\n",
    "    # Load data\n",
    "    .crop(points=D('grid_gen')(),\n",
    "          shape=CROP_SHAPE)\n",
    "    .load_cubes(dst='images')\n",
    "    .adaptive_reshape(src='images', shape=CROP_SHAPE)\n",
    "    .scale(mode='q', src='images')\n",
    "\n",
    "    # Predict with model, then aggregate\n",
    "    .predict_model('model',\n",
    "                   B('images'),\n",
    "                   fetches='predictions',\n",
    "                   save_to=V('result_preds', mode='e'))\n",
    "    .assemble_crops(src=V('result_preds'),\n",
    "                    dst='assembled_pred',\n",
    "                    grid_info=D('grid_info'),\n",
    "                    order=(0, 1, 2))\n",
    ") << dataset"
   ]
  },
  {
   "cell_type": "code",
   "execution_count": 32,
   "metadata": {},
   "outputs": [
    {
     "name": "stderr",
     "output_type": "stream",
     "text": [
      "100%|██████████| 79/79 [00:56<00:00,  1.40it/s]\n"
     ]
    }
   ],
   "source": [
    "dataset.make_grid(dataset.indices[0], CROP_SHAPE,\n",
    "                  [0, 417], [0, 868], [800, 1000],\n",
    "                  strides=(1, 96, 96),\n",
    "                  batch_size=BATCH_SIZE*2)\n",
    "\n",
    "\n",
    "for _ in tqdm(range(dataset.grid_iters)):\n",
    "    batch = inference_pipeline.next_batch(D('size'), profile=True)"
   ]
  },
  {
   "cell_type": "code",
   "execution_count": 33,
   "metadata": {},
   "outputs": [
    {
     "name": "stdout",
     "output_type": "stream",
     "text": [
      "Total time of actions running:  47.16252875328064\n"
     ]
    },
    {
     "data": {
      "text/html": [
       "<div>\n",
       "<style scoped>\n",
       "    .dataframe tbody tr th:only-of-type {\n",
       "        vertical-align: middle;\n",
       "    }\n",
       "\n",
       "    .dataframe tbody tr th {\n",
       "        vertical-align: top;\n",
       "    }\n",
       "\n",
       "    .dataframe thead th {\n",
       "        text-align: right;\n",
       "    }\n",
       "</style>\n",
       "<table border=\"1\" class=\"dataframe\">\n",
       "  <thead>\n",
       "    <tr style=\"text-align: right;\">\n",
       "      <th></th>\n",
       "      <th>sum</th>\n",
       "      <th>mean</th>\n",
       "      <th>max</th>\n",
       "    </tr>\n",
       "    <tr>\n",
       "      <th>action</th>\n",
       "      <th></th>\n",
       "      <th></th>\n",
       "      <th></th>\n",
       "    </tr>\n",
       "  </thead>\n",
       "  <tbody>\n",
       "    <tr>\n",
       "      <th>predict_model #5</th>\n",
       "      <td>28.682283</td>\n",
       "      <td>0.363067</td>\n",
       "      <td>0.506947</td>\n",
       "    </tr>\n",
       "    <tr>\n",
       "      <th>load_cubes #2</th>\n",
       "      <td>7.432154</td>\n",
       "      <td>0.094078</td>\n",
       "      <td>0.114220</td>\n",
       "    </tr>\n",
       "    <tr>\n",
       "      <th>assemble_crops #6</th>\n",
       "      <td>5.972275</td>\n",
       "      <td>0.075598</td>\n",
       "      <td>5.956178</td>\n",
       "    </tr>\n",
       "    <tr>\n",
       "      <th>scale #4</th>\n",
       "      <td>1.585292</td>\n",
       "      <td>0.020067</td>\n",
       "      <td>0.024276</td>\n",
       "    </tr>\n",
       "    <tr>\n",
       "      <th>adaptive_reshape #3</th>\n",
       "      <td>1.119633</td>\n",
       "      <td>0.014173</td>\n",
       "      <td>0.019175</td>\n",
       "    </tr>\n",
       "    <tr>\n",
       "      <th>crop #1</th>\n",
       "      <td>0.436509</td>\n",
       "      <td>0.005525</td>\n",
       "      <td>0.009697</td>\n",
       "    </tr>\n",
       "    <tr>\n",
       "      <th>import_model #0</th>\n",
       "      <td>0.002438</td>\n",
       "      <td>0.000031</td>\n",
       "      <td>0.000050</td>\n",
       "    </tr>\n",
       "  </tbody>\n",
       "</table>\n",
       "</div>"
      ],
      "text/plain": [
       "                           sum      mean       max\n",
       "action                                            \n",
       "predict_model #5     28.682283  0.363067  0.506947\n",
       "load_cubes #2         7.432154  0.094078  0.114220\n",
       "assemble_crops #6     5.972275  0.075598  5.956178\n",
       "scale #4              1.585292  0.020067  0.024276\n",
       "adaptive_reshape #3   1.119633  0.014173  0.019175\n",
       "crop #1               0.436509  0.005525  0.009697\n",
       "import_model #0       0.002438  0.000031  0.000050"
      ]
     },
     "execution_count": 33,
     "metadata": {},
     "output_type": "execute_result"
    }
   ],
   "source": [
    "result = inference_pipeline.show_profile_info()\n",
    "print('Total time of actions running: ', result['total_time']['sum'].sum())\n",
    "result['pipeline_time']"
   ]
  },
  {
   "cell_type": "markdown",
   "metadata": {},
   "source": [
    "There is no use for the created 3D array: we need an actual 2D surface. That is done via `from_mask` staticmethod of `Horizon` class:"
   ]
  },
  {
   "cell_type": "code",
   "execution_count": 34,
   "metadata": {},
   "outputs": [
    {
     "name": "stdout",
     "output_type": "stream",
     "text": [
      " "
     ]
    },
    {
     "data": {
      "text/plain": [
       "         532018 function calls (496594 primitive calls) in 1.732 seconds\n",
       "\n",
       "   Ordered by: internal time\n",
       "   List reduced from 1836 to 10 due to restriction <10>\n",
       "\n",
       "   ncalls  tottime  percall  cumtime  percall filename:lineno(function)\n",
       "        1    0.730    0.730    0.730    0.730 {skimage.measure._ccomp.label_cython}\n",
       "      484    0.192    0.000    0.192    0.000 ffi.py:112(__call__)\n",
       "        1    0.190    0.190    0.190    0.190 {built-in method scipy.ndimage._nd_image.find_objects}\n",
       "        1    0.081    0.081    1.730    1.730 horizon.py:663(from_mask)\n",
       "        1    0.069    0.069    0.069    0.069 {method 'nonzero' of 'numpy.ndarray' objects}\n",
       "        3    0.065    0.022    0.065    0.022 {method 'reduce' of 'numpy.ufunc' objects}\n",
       "        1    0.037    0.037    0.037    0.037 utils.py:395(groupby_mean)\n",
       "        1    0.016    0.016    0.016    0.016 horizon.py:707(<listcomp>)\n",
       "    99762    0.014    0.000    0.025    0.000 {built-in method builtins.isinstance}\n",
       "  290/288    0.013    0.000    0.090    0.000 {built-in method numpy.core._multiarray_umath.implement_array_function}"
      ]
     },
     "metadata": {},
     "output_type": "display_data"
    }
   ],
   "source": [
    "%%prun -l 10\n",
    "horizons = Horizon.from_mask(batch.assembled_pred, dataset.grid_info,\n",
    "                             minsize=50, threshold=0.5)"
   ]
  },
  {
   "cell_type": "code",
   "execution_count": 35,
   "metadata": {},
   "outputs": [
    {
     "data": {
      "image/png": "[encoded data removed]",
      "text/plain": [
       "<Figure size 864x504 with 2 Axes>"
      ]
     },
     "metadata": {},
     "output_type": "display_data"
    }
   ],
   "source": [
    "horizons[-1].show()"
   ]
  },
  {
   "cell_type": "markdown",
   "metadata": {},
   "source": [
    "<a id='conclusion'></a>\n",
    "# Conclusion\n",
    "\n",
    "We presented detailed benchmarks for various parts of **seismiQB**, as well as showcased multiple interfaces to do data loading and model training. The timings of each approach are roughly the same, so the real difference is API.\n",
    "\n",
    "This notebook is assumed to be run from time to time to monitor progress and speed-ups with following table to log them:\n",
    "\n",
    "| date, DD.MM.YYYY | load + augmentations, s | load + augmentations + train, s | inference, s |\n",
    "| --- | --- | --- | --- |\n",
    "| 01.06.2019 | ~1600 | ~3600 | ~10000 |\n",
    "| 01.06.2020 | 50 | 115 | 55 |"
   ]
  }
 ],
 "metadata": {
  "kernelspec": {
   "display_name": "Python 3",
   "language": "python",
   "name": "python3"
  },
  "language_info": {
   "codemirror_mode": {
    "name": "ipython",
    "version": 3
   },
   "file_extension": ".py",
   "mimetype": "text/x-python",
   "name": "python",
   "nbconvert_exporter": "python",
   "pygments_lexer": "ipython3",
   "version": "3.6.9"
  }
 },
 "nbformat": 4,
 "nbformat_minor": 4
}
