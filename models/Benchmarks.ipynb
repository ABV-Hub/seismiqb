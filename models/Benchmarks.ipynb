{
 "cells": [
  {
   "cell_type": "markdown",
   "metadata": {},
   "source": [
    "# Benchmarks\n",
    "\n",
    "In this notebook, we show timings of different parts of **seismiQB**: data generation, segmentation mask creation, model training. We perform each of them in multiple ways, showing different approaches and interfaces provided by our framework (and by **BatchFlow**).\n",
    "\n",
    "Note that this is advanced notebook that requires you to read our other [tutorials and notebooks](./Carcass%20interpolation/01_M_cube.ipynb) to understand what is going on: we don't pay too much time explaining what exactly cells are doing and what is achieved by their code, we merely time it.\n",
    "\n",
    "* [Data loading](data)\n",
    "* [Model architecture](architecture)\n",
    "* [Pipelines: loading, augmentation and training](pipelines)\n",
    "* [Load + augmentation profile](profile1)\n",
    "* [Model training profile](profile2)\n",
    "* [Inference profile](inference)\n",
    "* [Conclusion](conclusion)"
   ]
  },
  {
   "cell_type": "code",
   "execution_count": 1,
   "metadata": {},
   "outputs": [
    {
     "name": "stdout",
     "output_type": "stream",
     "text": [
      "env: CUDA_VISIBLE_DEVICES=0\n"
     ]
    }
   ],
   "source": [
    "# Necessary imports\n",
    "import os\n",
    "import sys\n",
    "import warnings\n",
    "warnings.filterwarnings(\"ignore\")\n",
    "\n",
    "from tqdm import tqdm\n",
    "\n",
    "import numpy as np\n",
    "import pandas as pd\n",
    "pd.set_option('display.max_rows', 2000)\n",
    "\n",
    "import torch\n",
    "import torch.nn as nn\n",
    "from torch.utils.data import DataLoader, IterableDataset\n",
    "from pytorch_lightning import LightningModule, Trainer\n",
    "\n",
    "sys.path.append('..')\n",
    "from seismiqb.batchflow import Pipeline, FilesIndex\n",
    "from seismiqb.batchflow import B, V, C, F, D, P, R, W\n",
    "from seismiqb.batchflow.batchflow.models.torch import EncoderDecoder, ResBlock # Note the import!\n",
    "\n",
    "from seismiqb import SeismicCubeset, Horizon, plot_image\n",
    "\n",
    "# Set GPU\n",
    "%env CUDA_VISIBLE_DEVICES=0"
   ]
  },
  {
   "cell_type": "code",
   "execution_count": 2,
   "metadata": {},
   "outputs": [],
   "source": [
    "# Global parameters\n",
    "FREQUENCIES = [50]               # carcass frequency at `hard` and `easy` locations\n",
    "CROP_SHAPE = (1, 256, 256)       # shape of sampled 3D crops\n",
    "ITERS = 100                      # number of train iterations\n",
    "BATCH_SIZE = 64                  # number of crops inside one batch"
   ]
  },
  {
   "cell_type": "markdown",
   "metadata": {},
   "source": [
    "<a id='data'></a>\n",
    "# Load everything\n",
    "\n",
    "First of all, we load dataset with seismic cube and a horizon. This operation is performed once per dataset and does not take more that one minute even for all of our cubes (10 total) and horizons (50+ total)."
   ]
  },
  {
   "cell_type": "code",
   "execution_count": 3,
   "metadata": {},
   "outputs": [
    {
     "name": "stdout",
     "output_type": "stream",
     "text": [
      "CPU times: user 2.24 s, sys: 277 ms, total: 2.51 s\n",
      "Wall time: 2.63 s\n"
     ]
    }
   ],
   "source": [
    "%%time\n",
    "cube_path = '/data/seismic/CUBE_2/M_cube.hdf5'\n",
    "horizon_path = '/data/seismic/CUBE_2/RAW/t0_B_anon'\n",
    "\n",
    "dsi = FilesIndex(path=[cube_path], no_ext=True)\n",
    "dataset = SeismicCubeset(dsi)\n",
    "\n",
    "dataset.load_geometries()\n",
    "dataset.create_labels({dataset.indices[0]: [horizon_path]})\n",
    "\n",
    "geometry = dataset.geometries[0]\n",
    "horizon = dataset.labels[0][0]"
   ]
  },
  {
   "cell_type": "code",
   "execution_count": 4,
   "metadata": {},
   "outputs": [],
   "source": [
    "# Create carcass to train on\n",
    "quality_grid = geometry.make_quality_grid(FREQUENCIES)\n",
    "grid_coverage = (np.nansum(geometry.quality_grid) /\n",
    "                 (np.prod(geometry.cube_shape[:2]) - np.nansum(geometry.zero_traces)))\n",
    "\n",
    "# Create sampler, according to carcass\n",
    "dataset.create_sampler(quality_grid=True)\n",
    "dataset.modify_sampler('train_sampler', finish=True)"
   ]
  },
  {
   "cell_type": "markdown",
   "metadata": {},
   "source": [
    "<a id='architecture'></a>\n",
    "# Model architecture"
   ]
  },
  {
   "cell_type": "code",
   "execution_count": 5,
   "metadata": {},
   "outputs": [],
   "source": [
    "class Dice(nn.Module):\n",
    "    def forward(self, input, target):\n",
    "        input = torch.sigmoid(input)\n",
    "        dice_coeff = 2. * (input * target).sum() / (input.sum() + target.sum() + 1e-7)\n",
    "        return 1 - dice_coeff\n",
    "\n",
    "\n",
    "MODEL_CONFIG = {\n",
    "    # Defining input shapes here allows to build model at initialization\n",
    "    'inputs': {\n",
    "        'images/shape': CROP_SHAPE,\n",
    "        'masks/shape': CROP_SHAPE,\n",
    "    },\n",
    "    \n",
    "    # Model layout\n",
    "    'initial_block': {\n",
    "        'inputs': 'images',\n",
    "        'base_block': ResBlock,\n",
    "        'filters': 16,\n",
    "        'kernel_size': 5,\n",
    "        'downsample': False,\n",
    "    },\n",
    "\n",
    "    'body/encoder': {\n",
    "        'num_stages': 4,\n",
    "        'order': 'sbd',\n",
    "        'blocks': {\n",
    "            'base': ResBlock,\n",
    "            'n_reps': 1,\n",
    "            'filters': [16, 32, 64, 128],\n",
    "        },\n",
    "    },\n",
    "    'body/embedding': {\n",
    "        'base': ResBlock,\n",
    "        'n_reps': 1,\n",
    "        'filters': 256,\n",
    "    },\n",
    "    'body/decoder': {\n",
    "        'num_stages': 4,\n",
    "        'upsample': {\n",
    "            'layout': 'bna',\n",
    "            'scale_factor': 2,\n",
    "            'kernel_size': 2,\n",
    "        },\n",
    "        'blocks': {\n",
    "            'base': ResBlock,\n",
    "            'filters': [128, 64, 32, 16],\n",
    "        },\n",
    "    },\n",
    "    'head': {\n",
    "        'base_block': ResBlock,\n",
    "        'filters': [16, 8],\n",
    "    },\n",
    "    'output': 'sigmoid',\n",
    "    # Train configuration\n",
    "    'loss': Dice(),\n",
    "    'optimizer': {'name': 'Adam', 'lr': 0.01,},\n",
    "    \"decay\": {'name': 'exp', 'gamma': 0.1},\n",
    "    \"n_iters\": 150,\n",
    "    'microbatch': 4,\n",
    "    'common/activation': 'relu6',\n",
    "}"
   ]
  },
  {
   "cell_type": "markdown",
   "metadata": {},
   "source": [
    "The first call to a GPU takes some time in order to initialize CUDA states; to eliminate this time from actual model initialization time, we manually put some data to the GPU of choice:"
   ]
  },
  {
   "cell_type": "code",
   "execution_count": 6,
   "metadata": {},
   "outputs": [
    {
     "name": "stdout",
     "output_type": "stream",
     "text": [
      "CPU times: user 4.49 s, sys: 2.03 s, total: 6.52 s\n",
      "Wall time: 54.3 s\n",
      "CPU times: user 1.5 ms, sys: 238 µs, total: 1.74 ms\n",
      "Wall time: 1.5 ms\n"
     ]
    }
   ],
   "source": [
    "np_tensor = np.random.random((10,)).astype(np.float32)\n",
    "\n",
    "tensor = torch.from_numpy(np_tensor)\n",
    "%time tensor = tensor.cuda()\n",
    "\n",
    "tensor = torch.from_numpy(np_tensor)\n",
    "%time tensor = tensor.cuda()"
   ]
  },
  {
   "cell_type": "markdown",
   "metadata": {},
   "source": [
    "This time we create instance of model directly, without `init_model` action of `Pipeline`:"
   ]
  },
  {
   "cell_type": "code",
   "execution_count": 7,
   "metadata": {},
   "outputs": [
    {
     "name": "stdout",
     "output_type": "stream",
     "text": [
      "CPU times: user 325 ms, sys: 153 ms, total: 478 ms\n",
      "Wall time: 6.73 s\n"
     ]
    }
   ],
   "source": [
    "%%time\n",
    "model = EncoderDecoder(MODEL_CONFIG)"
   ]
  },
  {
   "cell_type": "markdown",
   "metadata": {},
   "source": [
    "<a id='pipelines'></a>\n",
    "# All the pipelines"
   ]
  },
  {
   "cell_type": "code",
   "execution_count": 8,
   "metadata": {},
   "outputs": [],
   "source": [
    "load_pipeline = (\n",
    "    Pipeline()\n",
    "\n",
    "    # Load data/masks\n",
    "    .crop(points=D('train_sampler')(BATCH_SIZE),\n",
    "          shape=CROP_SHAPE, adaptive_slices=True)\n",
    "    .create_masks(dst='masks', width=5)\n",
    "    .load_cubes(dst='images')\n",
    "    .adaptive_reshape(src=['images', 'masks'], shape=CROP_SHAPE)\n",
    "    .scale(mode='q', src='images')\n",
    ") << dataset"
   ]
  },
  {
   "cell_type": "code",
   "execution_count": 9,
   "metadata": {},
   "outputs": [],
   "source": [
    "aug_pipeline = (\n",
    "    Pipeline()\n",
    "\n",
    "    # Augmentations\n",
    "    .transpose(src=['images', 'masks'], order=(1, 2, 0))\n",
    "    .flip(axis=1, src=['images', 'masks'], seed=P(R('uniform', 0, 1)))\n",
    "    .additive_noise(scale=0.005, src='images', dst='images')\n",
    "    .rotate(angle=P(R('uniform', -15, 15)),\n",
    "            src=['images', 'masks'])\n",
    "    .scale_2d(scale=P(R('uniform', 0.85, 1.15)),\n",
    "              src=['images', 'masks'])\n",
    "    .elastic_transform(alpha=P(R('uniform', 35, 45)),\n",
    "                       sigma=P(R('uniform', 4, 4.5)),\n",
    "                       src=['images', 'masks'])\n",
    "    .transpose(src=['images', 'masks'], order=(2, 0, 1))\n",
    ") << dataset"
   ]
  },
  {
   "cell_type": "code",
   "execution_count": 10,
   "metadata": {},
   "outputs": [],
   "source": [
    "model_pipeline = (\n",
    "    Pipeline()\n",
    "\n",
    "    # Initialize pipeline variables and model\n",
    "    .init_variable('loss_history', [])\n",
    "    .import_model(model, name='model')\n",
    "\n",
    "    # Training\n",
    "    .train_model('model',\n",
    "                 fetches='loss',\n",
    "                 images=B('images'),\n",
    "                 masks=B('masks'),\n",
    "                 save_to=V('loss_history', mode='a'))\n",
    ") << dataset"
   ]
  },
  {
   "cell_type": "markdown",
   "metadata": {},
   "source": [
    "<a id='profile1'></a>\n",
    "# Data generation and augmentations profile\n",
    "\n",
    "## Regular pipeline usage\n",
    "\n",
    "That is how we usually use pipelines: simple `run` is enough"
   ]
  },
  {
   "cell_type": "code",
   "execution_count": 11,
   "metadata": {},
   "outputs": [
    {
     "name": "stderr",
     "output_type": "stream",
     "text": [
      "100%|██████████| 100/100 [00:53<00:00,  1.86it/s]"
     ]
    },
    {
     "name": "stdout",
     "output_type": "stream",
     "text": [
      "CPU times: user 53.4 s, sys: 443 ms, total: 53.8 s\n",
      "Wall time: 53.8 s\n"
     ]
    },
    {
     "name": "stderr",
     "output_type": "stream",
     "text": [
      "\n"
     ]
    },
    {
     "data": {
      "text/plain": [
       "<seismiqb.batchflow.batchflow.pipeline.Pipeline at 0x7fe5c39cda58>"
      ]
     },
     "execution_count": 11,
     "metadata": {},
     "output_type": "execute_result"
    }
   ],
   "source": [
    "%%time\n",
    "data_pipeline = load_pipeline + aug_pipeline\n",
    "data_pipeline.run(D.size, n_iters=ITERS, bar=True)"
   ]
  },
  {
   "cell_type": "markdown",
   "metadata": {},
   "source": [
    "One of the design decisions of our framework is that items in our datasets are cubes: in that notebook, there is only one cube in the `dataset`, therefore, `D.size` evaluates to 1. The logic of converting *batch of cubes* into *batch of crops* is conveniently resides inside `crop` action: under the hood the conversion is performed by creating entirely new batch with generated crop locations. That somewhat confusing behaviour, where one needs to pass *number of cubes* as the `batch size` in `Pipeline.run` method while setting the actual amount of crops elsewhere, allows us to threat tasks with one or multiple cubes the same: there is virtually no changes to do in order to move from the task of carcass interpolation (one cube) to the inter-cube generalization (multiple cubes, as can be deduced by the name).\n",
    "\n",
    "Setting `profile` argument of `run` to `True` allows us to monitor timings of every individual action; it takes some time to parse and log the profiling results, thus giving (a lot of) overhead. Note that the more iteration you run with `profile` on, the slower it becomes."
   ]
  },
  {
   "cell_type": "code",
   "execution_count": 12,
   "metadata": {},
   "outputs": [
    {
     "name": "stderr",
     "output_type": "stream",
     "text": [
      "100%|██████████| 100/100 [01:45<00:00,  1.06s/it]"
     ]
    },
    {
     "name": "stdout",
     "output_type": "stream",
     "text": [
      "CPU times: user 1min 45s, sys: 424 ms, total: 1min 45s\n",
      "Wall time: 1min 45s\n"
     ]
    },
    {
     "name": "stderr",
     "output_type": "stream",
     "text": [
      "\n"
     ]
    },
    {
     "data": {
      "text/plain": [
       "<seismiqb.batchflow.batchflow.pipeline.Pipeline at 0x7fe5c3b43e10>"
      ]
     },
     "execution_count": 12,
     "metadata": {},
     "output_type": "execute_result"
    }
   ],
   "source": [
    "%%time\n",
    "data_pipeline = load_pipeline + aug_pipeline\n",
    "data_pipeline.run(D.size, n_iters=ITERS, bar=True, profile=True)"
   ]
  },
  {
   "cell_type": "markdown",
   "metadata": {},
   "source": [
    "Method `show_profile_info` returns a formatted dataframe that can be further explored:"
   ]
  },
  {
   "cell_type": "code",
   "execution_count": 13,
   "metadata": {},
   "outputs": [
    {
     "name": "stdout",
     "output_type": "stream",
     "text": [
      "Total time of actions running:  61.31506085395813\n"
     ]
    },
    {
     "data": {
      "text/html": [
       "<div>\n",
       "<style scoped>\n",
       "    .dataframe tbody tr th:only-of-type {\n",
       "        vertical-align: middle;\n",
       "    }\n",
       "\n",
       "    .dataframe tbody tr th {\n",
       "        vertical-align: top;\n",
       "    }\n",
       "\n",
       "    .dataframe thead tr th {\n",
       "        text-align: left;\n",
       "    }\n",
       "\n",
       "    .dataframe thead tr:last-of-type th {\n",
       "        text-align: right;\n",
       "    }\n",
       "</style>\n",
       "<table border=\"1\" class=\"dataframe\">\n",
       "  <thead>\n",
       "    <tr>\n",
       "      <th></th>\n",
       "      <th colspan=\"3\" halign=\"left\">total_time</th>\n",
       "      <th colspan=\"3\" halign=\"left\">pipeline_time</th>\n",
       "    </tr>\n",
       "    <tr>\n",
       "      <th></th>\n",
       "      <th>sum</th>\n",
       "      <th>mean</th>\n",
       "      <th>max</th>\n",
       "      <th>sum</th>\n",
       "      <th>mean</th>\n",
       "      <th>max</th>\n",
       "    </tr>\n",
       "    <tr>\n",
       "      <th>action</th>\n",
       "      <th></th>\n",
       "      <th></th>\n",
       "      <th></th>\n",
       "      <th></th>\n",
       "      <th></th>\n",
       "      <th></th>\n",
       "    </tr>\n",
       "  </thead>\n",
       "  <tbody>\n",
       "    <tr>\n",
       "      <th>elastic_transform #10</th>\n",
       "      <td>16.591213</td>\n",
       "      <td>0.165912</td>\n",
       "      <td>0.206019</td>\n",
       "      <td>16.156625</td>\n",
       "      <td>0.161566</td>\n",
       "      <td>0.201630</td>\n",
       "    </tr>\n",
       "    <tr>\n",
       "      <th>rotate #8</th>\n",
       "      <td>8.150466</td>\n",
       "      <td>0.081505</td>\n",
       "      <td>0.105052</td>\n",
       "      <td>7.760077</td>\n",
       "      <td>0.077601</td>\n",
       "      <td>0.100220</td>\n",
       "    </tr>\n",
       "    <tr>\n",
       "      <th>additive_noise #7</th>\n",
       "      <td>8.096665</td>\n",
       "      <td>0.080967</td>\n",
       "      <td>0.112021</td>\n",
       "      <td>7.733453</td>\n",
       "      <td>0.077335</td>\n",
       "      <td>0.107465</td>\n",
       "    </tr>\n",
       "    <tr>\n",
       "      <th>scale_2d #9</th>\n",
       "      <td>7.526794</td>\n",
       "      <td>0.075268</td>\n",
       "      <td>0.100932</td>\n",
       "      <td>7.139538</td>\n",
       "      <td>0.071395</td>\n",
       "      <td>0.095964</td>\n",
       "    </tr>\n",
       "    <tr>\n",
       "      <th>flip #6</th>\n",
       "      <td>6.864179</td>\n",
       "      <td>0.068642</td>\n",
       "      <td>0.088311</td>\n",
       "      <td>6.467513</td>\n",
       "      <td>0.064675</td>\n",
       "      <td>0.083298</td>\n",
       "    </tr>\n",
       "    <tr>\n",
       "      <th>load_cubes #2</th>\n",
       "      <td>3.940150</td>\n",
       "      <td>0.039402</td>\n",
       "      <td>0.053611</td>\n",
       "      <td>3.541042</td>\n",
       "      <td>0.035410</td>\n",
       "      <td>0.048439</td>\n",
       "    </tr>\n",
       "    <tr>\n",
       "      <th>crop #0</th>\n",
       "      <td>2.007738</td>\n",
       "      <td>0.020077</td>\n",
       "      <td>0.028541</td>\n",
       "      <td>1.535607</td>\n",
       "      <td>0.015356</td>\n",
       "      <td>0.023295</td>\n",
       "    </tr>\n",
       "    <tr>\n",
       "      <th>create_masks #1</th>\n",
       "      <td>1.989823</td>\n",
       "      <td>0.019898</td>\n",
       "      <td>0.025676</td>\n",
       "      <td>1.643096</td>\n",
       "      <td>0.016431</td>\n",
       "      <td>0.021131</td>\n",
       "    </tr>\n",
       "    <tr>\n",
       "      <th>adaptive_reshape #3</th>\n",
       "      <td>1.750568</td>\n",
       "      <td>0.017506</td>\n",
       "      <td>0.030675</td>\n",
       "      <td>1.396318</td>\n",
       "      <td>0.013963</td>\n",
       "      <td>0.026086</td>\n",
       "    </tr>\n",
       "    <tr>\n",
       "      <th>transpose #5</th>\n",
       "      <td>1.587047</td>\n",
       "      <td>0.015870</td>\n",
       "      <td>0.020762</td>\n",
       "      <td>1.225269</td>\n",
       "      <td>0.012253</td>\n",
       "      <td>0.015687</td>\n",
       "    </tr>\n",
       "    <tr>\n",
       "      <th>transpose #11</th>\n",
       "      <td>1.549700</td>\n",
       "      <td>0.015497</td>\n",
       "      <td>0.019853</td>\n",
       "      <td>1.187448</td>\n",
       "      <td>0.011874</td>\n",
       "      <td>0.014007</td>\n",
       "    </tr>\n",
       "    <tr>\n",
       "      <th>scale #4</th>\n",
       "      <td>1.260717</td>\n",
       "      <td>0.012607</td>\n",
       "      <td>0.015651</td>\n",
       "      <td>0.923952</td>\n",
       "      <td>0.009240</td>\n",
       "      <td>0.011574</td>\n",
       "    </tr>\n",
       "  </tbody>\n",
       "</table>\n",
       "</div>"
      ],
      "text/plain": [
       "                      total_time                     pipeline_time            \\\n",
       "                             sum      mean       max           sum      mean   \n",
       "action                                                                         \n",
       "elastic_transform #10  16.591213  0.165912  0.206019     16.156625  0.161566   \n",
       "rotate #8               8.150466  0.081505  0.105052      7.760077  0.077601   \n",
       "additive_noise #7       8.096665  0.080967  0.112021      7.733453  0.077335   \n",
       "scale_2d #9             7.526794  0.075268  0.100932      7.139538  0.071395   \n",
       "flip #6                 6.864179  0.068642  0.088311      6.467513  0.064675   \n",
       "load_cubes #2           3.940150  0.039402  0.053611      3.541042  0.035410   \n",
       "crop #0                 2.007738  0.020077  0.028541      1.535607  0.015356   \n",
       "create_masks #1         1.989823  0.019898  0.025676      1.643096  0.016431   \n",
       "adaptive_reshape #3     1.750568  0.017506  0.030675      1.396318  0.013963   \n",
       "transpose #5            1.587047  0.015870  0.020762      1.225269  0.012253   \n",
       "transpose #11           1.549700  0.015497  0.019853      1.187448  0.011874   \n",
       "scale #4                1.260717  0.012607  0.015651      0.923952  0.009240   \n",
       "\n",
       "                                 \n",
       "                            max  \n",
       "action                           \n",
       "elastic_transform #10  0.201630  \n",
       "rotate #8              0.100220  \n",
       "additive_noise #7      0.107465  \n",
       "scale_2d #9            0.095964  \n",
       "flip #6                0.083298  \n",
       "load_cubes #2          0.048439  \n",
       "crop #0                0.023295  \n",
       "create_masks #1        0.021131  \n",
       "adaptive_reshape #3    0.026086  \n",
       "transpose #5           0.015687  \n",
       "transpose #11          0.014007  \n",
       "scale #4               0.011574  "
      ]
     },
     "execution_count": 13,
     "metadata": {},
     "output_type": "execute_result"
    }
   ],
   "source": [
    "result = data_pipeline.show_profile_info()\n",
    "print('Total time of actions running: ', result['total_time']['sum'].sum())\n",
    "result"
   ]
  },
  {
   "cell_type": "markdown",
   "metadata": {},
   "source": [
    "Each row in the dataframe corresponds to individual action: note that we have two `transpose` actions in our augmentation pipeline, thus multiple transposes appear in the table. `total_time` is time take by both action and pipeline inner workings; `pipeline_time` counts only the time of action running. Sub-columns `sum`, `mean` and `max` provide a more detailed description.\n",
    "\n",
    "We can get a more detailed description of which exactly *lines of code* take the most time inside our actions by passing `detailed` argument to the `show_profile_info` method. To avoid cluttering in the notebook, we limit the output to two slowest calls per action:"
   ]
  },
  {
   "cell_type": "code",
   "execution_count": 14,
   "metadata": {},
   "outputs": [
    {
     "data": {
      "text/html": [
       "<div>\n",
       "<style scoped>\n",
       "    .dataframe tbody tr th:only-of-type {\n",
       "        vertical-align: middle;\n",
       "    }\n",
       "\n",
       "    .dataframe tbody tr th {\n",
       "        vertical-align: top;\n",
       "    }\n",
       "\n",
       "    .dataframe thead th {\n",
       "        text-align: right;\n",
       "    }\n",
       "</style>\n",
       "<table border=\"1\" class=\"dataframe\">\n",
       "  <thead>\n",
       "    <tr style=\"text-align: right;\">\n",
       "      <th></th>\n",
       "      <th></th>\n",
       "      <th>sum</th>\n",
       "    </tr>\n",
       "    <tr>\n",
       "      <th>action</th>\n",
       "      <th>id</th>\n",
       "      <th></th>\n",
       "    </tr>\n",
       "  </thead>\n",
       "  <tbody>\n",
       "    <tr>\n",
       "      <th rowspan=\"2\" valign=\"top\">adaptive_reshape #3</th>\n",
       "      <th>&lt;built-in method numpy.core._multiarray_umath.implement_array_function&gt;::&lt;__array_function__ internals&gt;::2::concatenate</th>\n",
       "      <td>0.805385</td>\n",
       "    </tr>\n",
       "    <tr>\n",
       "      <th>_adaptive_reshape_::../seismiqb/batchflow/batchflow/batch.py::548::_apply_transform</th>\n",
       "      <td>0.037436</td>\n",
       "    </tr>\n",
       "    <tr>\n",
       "      <th rowspan=\"2\" valign=\"top\">additive_noise #7</th>\n",
       "      <th>&lt;method 'standard_normal' of 'numpy.random.generator.Generator' objects&gt;::../seismiqb/src/crop_batch.py::731::_additive_noise_</th>\n",
       "      <td>6.058748</td>\n",
       "    </tr>\n",
       "    <tr>\n",
       "      <th>_additive_noise_::../seismiqb/batchflow/batchflow/batch.py::548::_apply_transform</th>\n",
       "      <td>0.432049</td>\n",
       "    </tr>\n",
       "    <tr>\n",
       "      <th rowspan=\"2\" valign=\"top\">create_masks #1</th>\n",
       "      <th>add_to_mask::../seismiqb/src/crop_batch.py::299::create_masks</th>\n",
       "      <td>0.677045</td>\n",
       "    </tr>\n",
       "    <tr>\n",
       "      <th>&lt;built-in method numpy.zeros&gt;::../seismiqb/src/crop_batch.py::299::create_masks</th>\n",
       "      <td>0.240521</td>\n",
       "    </tr>\n",
       "    <tr>\n",
       "      <th rowspan=\"2\" valign=\"top\">crop #0</th>\n",
       "      <th>_correct_point_to_grid::../seismiqb/src/crop_batch.py::182::&lt;listcomp&gt;</th>\n",
       "      <td>0.208698</td>\n",
       "    </tr>\n",
       "    <tr>\n",
       "      <th>_correct_point_to_grid::../seismiqb/src/crop_batch.py::237::_correct_point_to_grid</th>\n",
       "      <td>0.144012</td>\n",
       "    </tr>\n",
       "    <tr>\n",
       "      <th rowspan=\"2\" valign=\"top\">elastic_transform #10</th>\n",
       "      <th>&lt;remap&gt;::../seismiqb/src/crop_batch.py::866::_elastic_transform_</th>\n",
       "      <td>6.113717</td>\n",
       "    </tr>\n",
       "    <tr>\n",
       "      <th>&lt;resize&gt;::../seismiqb/src/crop_batch.py::866::_elastic_transform_</th>\n",
       "      <td>1.337431</td>\n",
       "    </tr>\n",
       "    <tr>\n",
       "      <th rowspan=\"2\" valign=\"top\">flip #6</th>\n",
       "      <th>&lt;flip&gt;::../seismiqb/src/crop_batch.py::787::_flip_</th>\n",
       "      <td>2.306319</td>\n",
       "    </tr>\n",
       "    <tr>\n",
       "      <th>_flip_::../seismiqb/batchflow/batchflow/batch.py::548::_apply_transform</th>\n",
       "      <td>1.118823</td>\n",
       "    </tr>\n",
       "    <tr>\n",
       "      <th rowspan=\"2\" valign=\"top\">load_cubes #2</th>\n",
       "      <th>&lt;listcomp&gt;::../seismiqb/src/geometry.py::867::_load_i</th>\n",
       "      <td>1.144565</td>\n",
       "    </tr>\n",
       "    <tr>\n",
       "      <th>&lt;listcomp&gt;::../seismiqb/src/geometry.py::872::_load_x</th>\n",
       "      <td>0.341566</td>\n",
       "    </tr>\n",
       "    <tr>\n",
       "      <th rowspan=\"2\" valign=\"top\">rotate #8</th>\n",
       "      <th>&lt;warpAffine&gt;::../seismiqb/src/crop_batch.py::775::_rotate_</th>\n",
       "      <td>6.171653</td>\n",
       "    </tr>\n",
       "    <tr>\n",
       "      <th>&lt;built-in method numpy.core._multiarray_umath.implement_array_function&gt;::&lt;__array_function__ internals&gt;::2::concatenate</th>\n",
       "      <td>0.669558</td>\n",
       "    </tr>\n",
       "    <tr>\n",
       "      <th rowspan=\"2\" valign=\"top\">scale #4</th>\n",
       "      <th>&lt;built-in method numpy.core._multiarray_umath.implement_array_function&gt;::&lt;__array_function__ internals&gt;::2::concatenate</th>\n",
       "      <td>0.340364</td>\n",
       "    </tr>\n",
       "    <tr>\n",
       "      <th>scaler::../seismiqb/src/crop_batch.py::458::scale</th>\n",
       "      <td>0.291098</td>\n",
       "    </tr>\n",
       "    <tr>\n",
       "      <th rowspan=\"2\" valign=\"top\">scale_2d #9</th>\n",
       "      <th>&lt;warpAffine&gt;::../seismiqb/src/crop_batch.py::800::_scale_2d_</th>\n",
       "      <td>5.563824</td>\n",
       "    </tr>\n",
       "    <tr>\n",
       "      <th>&lt;built-in method numpy.core._multiarray_umath.implement_array_function&gt;::&lt;__array_function__ internals&gt;::2::concatenate</th>\n",
       "      <td>0.670749</td>\n",
       "    </tr>\n",
       "    <tr>\n",
       "      <th rowspan=\"2\" valign=\"top\">transpose #11</th>\n",
       "      <th>&lt;built-in method numpy.core._multiarray_umath.implement_array_function&gt;::&lt;__array_function__ internals&gt;::2::concatenate</th>\n",
       "      <td>0.670805</td>\n",
       "    </tr>\n",
       "    <tr>\n",
       "      <th>_apply_transform::../seismiqb/batchflow/batchflow/batch.py::543::&lt;listcomp&gt;</th>\n",
       "      <td>0.032495</td>\n",
       "    </tr>\n",
       "    <tr>\n",
       "      <th rowspan=\"2\" valign=\"top\">transpose #5</th>\n",
       "      <th>&lt;built-in method numpy.core._multiarray_umath.implement_array_function&gt;::&lt;__array_function__ internals&gt;::2::concatenate</th>\n",
       "      <td>0.706892</td>\n",
       "    </tr>\n",
       "    <tr>\n",
       "      <th>_apply_transform::../seismiqb/batchflow/batchflow/batch.py::543::&lt;listcomp&gt;</th>\n",
       "      <td>0.033203</td>\n",
       "    </tr>\n",
       "  </tbody>\n",
       "</table>\n",
       "</div>"
      ],
      "text/plain": [
       "                                                                               sum\n",
       "action                id                                                          \n",
       "adaptive_reshape #3   <built-in method numpy.core._multiarray_umath.i...  0.805385\n",
       "                      _adaptive_reshape_::../seismiqb/batchflow/batch...  0.037436\n",
       "additive_noise #7     <method 'standard_normal' of 'numpy.random.gene...  6.058748\n",
       "                      _additive_noise_::../seismiqb/batchflow/batchfl...  0.432049\n",
       "create_masks #1       add_to_mask::../seismiqb/src/crop_batch.py::299...  0.677045\n",
       "                      <built-in method numpy.zeros>::../seismiqb/src/...  0.240521\n",
       "crop #0               _correct_point_to_grid::../seismiqb/src/crop_ba...  0.208698\n",
       "                      _correct_point_to_grid::../seismiqb/src/crop_ba...  0.144012\n",
       "elastic_transform #10 <remap>::../seismiqb/src/crop_batch.py::866::_e...  6.113717\n",
       "                      <resize>::../seismiqb/src/crop_batch.py::866::_...  1.337431\n",
       "flip #6               <flip>::../seismiqb/src/crop_batch.py::787::_flip_  2.306319\n",
       "                      _flip_::../seismiqb/batchflow/batchflow/batch.p...  1.118823\n",
       "load_cubes #2         <listcomp>::../seismiqb/src/geometry.py::867::_...  1.144565\n",
       "                      <listcomp>::../seismiqb/src/geometry.py::872::_...  0.341566\n",
       "rotate #8             <warpAffine>::../seismiqb/src/crop_batch.py::77...  6.171653\n",
       "                      <built-in method numpy.core._multiarray_umath.i...  0.669558\n",
       "scale #4              <built-in method numpy.core._multiarray_umath.i...  0.340364\n",
       "                      scaler::../seismiqb/src/crop_batch.py::458::scale   0.291098\n",
       "scale_2d #9           <warpAffine>::../seismiqb/src/crop_batch.py::80...  5.563824\n",
       "                      <built-in method numpy.core._multiarray_umath.i...  0.670749\n",
       "transpose #11         <built-in method numpy.core._multiarray_umath.i...  0.670805\n",
       "                      _apply_transform::../seismiqb/batchflow/batchfl...  0.032495\n",
       "transpose #5          <built-in method numpy.core._multiarray_umath.i...  0.706892\n",
       "                      _apply_transform::../seismiqb/batchflow/batchfl...  0.033203"
      ]
     },
     "execution_count": 14,
     "metadata": {},
     "output_type": "execute_result"
    }
   ],
   "source": [
    "data_pipeline.show_profile_info(detailed=True, limit=2)['tottime'][['sum']]"
   ]
  },
  {
   "cell_type": "markdown",
   "metadata": {},
   "source": [
    "We can also show individual timings for each iteration. That can be helpful to detect memory leaks and other cumulative errors:"
   ]
  },
  {
   "cell_type": "code",
   "execution_count": 15,
   "metadata": {},
   "outputs": [
    {
     "data": {
      "text/html": [
       "<div>\n",
       "<style scoped>\n",
       "    .dataframe tbody tr th:only-of-type {\n",
       "        vertical-align: middle;\n",
       "    }\n",
       "\n",
       "    .dataframe tbody tr th {\n",
       "        vertical-align: top;\n",
       "    }\n",
       "\n",
       "    .dataframe thead th {\n",
       "        text-align: right;\n",
       "    }\n",
       "</style>\n",
       "<table border=\"1\" class=\"dataframe\">\n",
       "  <thead>\n",
       "    <tr style=\"text-align: right;\">\n",
       "      <th></th>\n",
       "      <th></th>\n",
       "      <th>total_time</th>\n",
       "      <th>pipeline_time</th>\n",
       "      <th>batch_id</th>\n",
       "    </tr>\n",
       "    <tr>\n",
       "      <th>iter</th>\n",
       "      <th>action</th>\n",
       "      <th></th>\n",
       "      <th></th>\n",
       "      <th></th>\n",
       "    </tr>\n",
       "  </thead>\n",
       "  <tbody>\n",
       "    <tr>\n",
       "      <th rowspan=\"12\" valign=\"top\">1</th>\n",
       "      <th>elastic_transform #10</th>\n",
       "      <td>0.162503</td>\n",
       "      <td>0.158176</td>\n",
       "      <td>140624805624352</td>\n",
       "    </tr>\n",
       "    <tr>\n",
       "      <th>additive_noise #7</th>\n",
       "      <td>0.078480</td>\n",
       "      <td>0.075140</td>\n",
       "      <td>140624805624352</td>\n",
       "    </tr>\n",
       "    <tr>\n",
       "      <th>rotate #8</th>\n",
       "      <td>0.078305</td>\n",
       "      <td>0.074571</td>\n",
       "      <td>140624805624352</td>\n",
       "    </tr>\n",
       "    <tr>\n",
       "      <th>scale_2d #9</th>\n",
       "      <td>0.073361</td>\n",
       "      <td>0.069629</td>\n",
       "      <td>140624805624352</td>\n",
       "    </tr>\n",
       "    <tr>\n",
       "      <th>flip #6</th>\n",
       "      <td>0.068833</td>\n",
       "      <td>0.065061</td>\n",
       "      <td>140624805624352</td>\n",
       "    </tr>\n",
       "    <tr>\n",
       "      <th>load_cubes #2</th>\n",
       "      <td>0.040120</td>\n",
       "      <td>0.036306</td>\n",
       "      <td>140624805624352</td>\n",
       "    </tr>\n",
       "    <tr>\n",
       "      <th>crop #0</th>\n",
       "      <td>0.024513</td>\n",
       "      <td>0.018642</td>\n",
       "      <td>140624805624352</td>\n",
       "    </tr>\n",
       "    <tr>\n",
       "      <th>create_masks #1</th>\n",
       "      <td>0.019764</td>\n",
       "      <td>0.016418</td>\n",
       "      <td>140624805624352</td>\n",
       "    </tr>\n",
       "    <tr>\n",
       "      <th>transpose #5</th>\n",
       "      <td>0.017195</td>\n",
       "      <td>0.013703</td>\n",
       "      <td>140624805624352</td>\n",
       "    </tr>\n",
       "    <tr>\n",
       "      <th>adaptive_reshape #3</th>\n",
       "      <td>0.016740</td>\n",
       "      <td>0.013422</td>\n",
       "      <td>140624805624352</td>\n",
       "    </tr>\n",
       "    <tr>\n",
       "      <th>transpose #11</th>\n",
       "      <td>0.015218</td>\n",
       "      <td>0.011933</td>\n",
       "      <td>140624805624352</td>\n",
       "    </tr>\n",
       "    <tr>\n",
       "      <th>scale #4</th>\n",
       "      <td>0.014300</td>\n",
       "      <td>0.011159</td>\n",
       "      <td>140624805624352</td>\n",
       "    </tr>\n",
       "    <tr>\n",
       "      <th rowspan=\"12\" valign=\"top\">2</th>\n",
       "      <th>elastic_transform #10</th>\n",
       "      <td>0.163077</td>\n",
       "      <td>0.158753</td>\n",
       "      <td>140624806816792</td>\n",
       "    </tr>\n",
       "    <tr>\n",
       "      <th>additive_noise #7</th>\n",
       "      <td>0.080263</td>\n",
       "      <td>0.076890</td>\n",
       "      <td>140624806816792</td>\n",
       "    </tr>\n",
       "    <tr>\n",
       "      <th>rotate #8</th>\n",
       "      <td>0.078320</td>\n",
       "      <td>0.074512</td>\n",
       "      <td>140624806816792</td>\n",
       "    </tr>\n",
       "    <tr>\n",
       "      <th>scale_2d #9</th>\n",
       "      <td>0.073629</td>\n",
       "      <td>0.069793</td>\n",
       "      <td>140624806816792</td>\n",
       "    </tr>\n",
       "    <tr>\n",
       "      <th>flip #6</th>\n",
       "      <td>0.068007</td>\n",
       "      <td>0.064147</td>\n",
       "      <td>140624806816792</td>\n",
       "    </tr>\n",
       "    <tr>\n",
       "      <th>load_cubes #2</th>\n",
       "      <td>0.039613</td>\n",
       "      <td>0.035757</td>\n",
       "      <td>140624806816792</td>\n",
       "    </tr>\n",
       "    <tr>\n",
       "      <th>crop #0</th>\n",
       "      <td>0.020211</td>\n",
       "      <td>0.016007</td>\n",
       "      <td>140624806816792</td>\n",
       "    </tr>\n",
       "    <tr>\n",
       "      <th>create_masks #1</th>\n",
       "      <td>0.019059</td>\n",
       "      <td>0.015898</td>\n",
       "      <td>140624806816792</td>\n",
       "    </tr>\n",
       "    <tr>\n",
       "      <th>transpose #5</th>\n",
       "      <td>0.017058</td>\n",
       "      <td>0.013565</td>\n",
       "      <td>140624806816792</td>\n",
       "    </tr>\n",
       "    <tr>\n",
       "      <th>adaptive_reshape #3</th>\n",
       "      <td>0.016495</td>\n",
       "      <td>0.013044</td>\n",
       "      <td>140624806816792</td>\n",
       "    </tr>\n",
       "    <tr>\n",
       "      <th>transpose #11</th>\n",
       "      <td>0.015206</td>\n",
       "      <td>0.011840</td>\n",
       "      <td>140624806816792</td>\n",
       "    </tr>\n",
       "    <tr>\n",
       "      <th>scale #4</th>\n",
       "      <td>0.014023</td>\n",
       "      <td>0.011006</td>\n",
       "      <td>140624806816792</td>\n",
       "    </tr>\n",
       "  </tbody>\n",
       "</table>\n",
       "</div>"
      ],
      "text/plain": [
       "                            total_time  pipeline_time         batch_id\n",
       "iter action                                                           \n",
       "1    elastic_transform #10    0.162503       0.158176  140624805624352\n",
       "     additive_noise #7        0.078480       0.075140  140624805624352\n",
       "     rotate #8                0.078305       0.074571  140624805624352\n",
       "     scale_2d #9              0.073361       0.069629  140624805624352\n",
       "     flip #6                  0.068833       0.065061  140624805624352\n",
       "     load_cubes #2            0.040120       0.036306  140624805624352\n",
       "     crop #0                  0.024513       0.018642  140624805624352\n",
       "     create_masks #1          0.019764       0.016418  140624805624352\n",
       "     transpose #5             0.017195       0.013703  140624805624352\n",
       "     adaptive_reshape #3      0.016740       0.013422  140624805624352\n",
       "     transpose #11            0.015218       0.011933  140624805624352\n",
       "     scale #4                 0.014300       0.011159  140624805624352\n",
       "2    elastic_transform #10    0.163077       0.158753  140624806816792\n",
       "     additive_noise #7        0.080263       0.076890  140624806816792\n",
       "     rotate #8                0.078320       0.074512  140624806816792\n",
       "     scale_2d #9              0.073629       0.069793  140624806816792\n",
       "     flip #6                  0.068007       0.064147  140624806816792\n",
       "     load_cubes #2            0.039613       0.035757  140624806816792\n",
       "     crop #0                  0.020211       0.016007  140624806816792\n",
       "     create_masks #1          0.019059       0.015898  140624806816792\n",
       "     transpose #5             0.017058       0.013565  140624806816792\n",
       "     adaptive_reshape #3      0.016495       0.013044  140624806816792\n",
       "     transpose #11            0.015206       0.011840  140624806816792\n",
       "     scale #4                 0.014023       0.011006  140624806816792"
      ]
     },
     "execution_count": 15,
     "metadata": {},
     "output_type": "execute_result"
    }
   ],
   "source": [
    "data_pipeline.show_profile_info(per_iter=True).ix[:2]"
   ]
  },
  {
   "cell_type": "markdown",
   "metadata": {},
   "source": [
    "Refer to [profiling tutorial](https://github.com/analysiscenter/batchflow/blob/master/examples/tutorials/08_profiling.ipynb) to learn more about exact collected information and how to format it."
   ]
  },
  {
   "cell_type": "markdown",
   "metadata": {},
   "source": [
    "## Pipeline as data generator\n",
    "\n",
    "`Pipeline` has multiple interfaces; `gen_batch` allows to iterate over batches, using their attributes with data as usual `NumPy` arrays:"
   ]
  },
  {
   "cell_type": "code",
   "execution_count": 16,
   "metadata": {},
   "outputs": [
    {
     "name": "stderr",
     "output_type": "stream",
     "text": [
      "100%|██████████| 100/100 [00:53<00:00,  1.87it/s]"
     ]
    },
    {
     "name": "stdout",
     "output_type": "stream",
     "text": [
      "CPU times: user 53.3 s, sys: 121 ms, total: 53.5 s\n",
      "Wall time: 53.4 s\n"
     ]
    },
    {
     "name": "stderr",
     "output_type": "stream",
     "text": [
      "\n"
     ]
    }
   ],
   "source": [
    "%%time\n",
    "data_pipeline = load_pipeline + aug_pipeline \n",
    "\n",
    "for batch in tqdm(data_pipeline.gen_batch(D.size, n_iters=ITERS), total=ITERS):\n",
    "    images, masks = batch.images, batch.masks"
   ]
  },
  {
   "cell_type": "markdown",
   "metadata": {},
   "source": [
    "You can pass the `profile` argument to the `gen_batch` method. For now, let's just make sure that `images` and `masks` variables contain what we expect:"
   ]
  },
  {
   "cell_type": "code",
   "execution_count": 17,
   "metadata": {},
   "outputs": [
    {
     "name": "stdout",
     "output_type": "stream",
     "text": [
      "images: (<class 'numpy.ndarray'>, dtype('float32'), (64, 1, 256, 256))\n",
      "masks:  (<class 'numpy.ndarray'>, dtype('float32'), (64, 1, 256, 256))\n"
     ]
    },
    {
     "data": {
      "image/png": "[encoded data removed]",
      "text/plain": [
       "<Figure size 864x504 with 1 Axes>"
      ]
     },
     "metadata": {
      "needs_background": "light"
     },
     "output_type": "display_data"
    }
   ],
   "source": [
    "print(f'images: {(type(images), images.dtype, images.shape)}')\n",
    "print(f'masks:  {(type(masks), masks.dtype, masks.shape)}')\n",
    "\n",
    "plot_image((images[0, 0, ...], masks[0, 0, ...]), mode='overlap', y=1.,\n",
    "           xlabel='xlines', ylabel='depth', title='images and masks')"
   ]
  },
  {
   "cell_type": "markdown",
   "metadata": {},
   "source": [
    "## Convert pipeline to DataLoader\n",
    "\n",
    "Sometimes, `PyTorch DataLoader` is convenient to use. Pipeline is already of a generative nature, so all we need to do is to wrap it into iterable dataset:"
   ]
  },
  {
   "cell_type": "code",
   "execution_count": 18,
   "metadata": {},
   "outputs": [],
   "source": [
    "class PipelineDataset(IterableDataset):\n",
    "    def __init__(self, pipeline, microbatch=4):\n",
    "        self.pipeline = pipeline\n",
    "        self.microbatch = microbatch\n",
    "    \n",
    "    def get_data(self):\n",
    "        while True:\n",
    "            batch = self.pipeline.next_batch(D('size'))\n",
    "            images, masks = batch.images, batch.masks\n",
    "                \n",
    "            for i in range(0, len(images), self.microbatch):\n",
    "                yield images[i:i+self.microbatch, ...], masks[i:i+self.microbatch, ...]\n",
    "\n",
    "    \n",
    "    def __iter__(self):\n",
    "        return self.get_data()"
   ]
  },
  {
   "cell_type": "code",
   "execution_count": 19,
   "metadata": {},
   "outputs": [
    {
     "name": "stderr",
     "output_type": "stream",
     "text": [
      "100%|██████████| 100/100 [00:56<00:00,  1.76it/s]"
     ]
    },
    {
     "name": "stdout",
     "output_type": "stream",
     "text": [
      "CPU times: user 1min 25s, sys: 298 ms, total: 1min 26s\n",
      "Wall time: 56.7 s\n"
     ]
    },
    {
     "name": "stderr",
     "output_type": "stream",
     "text": [
      "\n"
     ]
    }
   ],
   "source": [
    "%%time\n",
    "pds = PipelineDataset(load_pipeline + aug_pipeline, microbatch=64)\n",
    "\n",
    "# Note the `None` batch_size: it is already set as part of the loading pipeline\n",
    "loader =  DataLoader(pds, batch_size=None, pin_memory=True)\n",
    "\n",
    "for batch, _ in tqdm(zip(loader, range(ITERS)), total=ITERS):\n",
    "    images, masks = batch"
   ]
  },
  {
   "cell_type": "code",
   "execution_count": 20,
   "metadata": {},
   "outputs": [
    {
     "name": "stdout",
     "output_type": "stream",
     "text": [
      "images: (<class 'torch.Tensor'>, torch.float32, torch.Size([64, 1, 256, 256]))\n",
      "masks:  (<class 'torch.Tensor'>, torch.float32, torch.Size([64, 1, 256, 256]))\n"
     ]
    }
   ],
   "source": [
    "print(f'images: {(type(images), images.dtype, images.shape)}')\n",
    "print(f'masks:  {(type(masks), masks.dtype, masks.shape)}')"
   ]
  },
  {
   "cell_type": "markdown",
   "metadata": {},
   "source": [
    "`DataLoader` converts all the data from regular `NumPy` arrays to `Torch.Tensor`s; nevertheless, underlying data is [shared](https://pytorch.org/docs/stable/tensors.html)."
   ]
  },
  {
   "cell_type": "markdown",
   "metadata": {},
   "source": [
    "<a id='profile2'></a>\n",
    "# Model train profile\n",
    "\n",
    "Most of the cells do exactly the same, yet implore model training step as well.\n",
    "\n",
    "## Regular pipeline usage\n",
    "\n",
    "We run one iteration of something-GPU-related to ensure warm start for all of the subsequent cells:"
   ]
  },
  {
   "cell_type": "code",
   "execution_count": 21,
   "metadata": {},
   "outputs": [
    {
     "name": "stderr",
     "output_type": "stream",
     "text": [
      "100%|██████████| 1/1 [00:21<00:00, 21.87s/it]"
     ]
    },
    {
     "name": "stdout",
     "output_type": "stream",
     "text": [
      "CPU times: user 1.39 s, sys: 653 ms, total: 2.04 s\n",
      "Wall time: 21.9 s\n"
     ]
    },
    {
     "name": "stderr",
     "output_type": "stream",
     "text": [
      "\n"
     ]
    },
    {
     "data": {
      "text/plain": [
       "<seismiqb.batchflow.batchflow.pipeline.Pipeline at 0x7fe5c3b9b358>"
      ]
     },
     "execution_count": 21,
     "metadata": {},
     "output_type": "execute_result"
    }
   ],
   "source": [
    "%%time\n",
    "train_pipeline = load_pipeline + aug_pipeline + model_pipeline\n",
    "train_pipeline.run(D.size, n_iters=1, bar=True)"
   ]
  },
  {
   "cell_type": "code",
   "execution_count": 22,
   "metadata": {},
   "outputs": [
    {
     "name": "stderr",
     "output_type": "stream",
     "text": [
      "100%|██████████| 100/100 [02:05<00:00,  1.25s/it]"
     ]
    },
    {
     "name": "stdout",
     "output_type": "stream",
     "text": [
      "CPU times: user 1min 51s, sys: 10.4 s, total: 2min 1s\n",
      "Wall time: 2min 5s\n"
     ]
    },
    {
     "name": "stderr",
     "output_type": "stream",
     "text": [
      "\n"
     ]
    },
    {
     "data": {
      "text/plain": [
       "<seismiqb.batchflow.batchflow.pipeline.Pipeline at 0x7fe5c3b9b358>"
      ]
     },
     "execution_count": 22,
     "metadata": {},
     "output_type": "execute_result"
    }
   ],
   "source": [
    "%%time\n",
    "train_pipeline.run(D.size, n_iters=ITERS, bar=True)"
   ]
  },
  {
   "cell_type": "markdown",
   "metadata": {},
   "source": [
    "As before, we can use `profile` flag to get more detailed information:"
   ]
  },
  {
   "cell_type": "code",
   "execution_count": 23,
   "metadata": {},
   "outputs": [
    {
     "name": "stderr",
     "output_type": "stream",
     "text": [
      "100%|██████████| 100/100 [03:11<00:00,  1.92s/it]"
     ]
    },
    {
     "name": "stdout",
     "output_type": "stream",
     "text": [
      "CPU times: user 3min 1s, sys: 10.1 s, total: 3min 11s\n",
      "Wall time: 3min 11s\n"
     ]
    },
    {
     "name": "stderr",
     "output_type": "stream",
     "text": [
      "\n"
     ]
    },
    {
     "data": {
      "text/plain": [
       "<seismiqb.batchflow.batchflow.pipeline.Pipeline at 0x7fe5c39c9080>"
      ]
     },
     "execution_count": 23,
     "metadata": {},
     "output_type": "execute_result"
    }
   ],
   "source": [
    "%%time\n",
    "train_pipeline = load_pipeline + aug_pipeline + model_pipeline\n",
    "train_pipeline.run(D.size, n_iters=ITERS, bar=True, profile=True)"
   ]
  },
  {
   "cell_type": "code",
   "execution_count": 24,
   "metadata": {},
   "outputs": [
    {
     "name": "stdout",
     "output_type": "stream",
     "text": [
      "Total time of actions running:  131.65690159797668\n"
     ]
    },
    {
     "data": {
      "text/html": [
       "<div>\n",
       "<style scoped>\n",
       "    .dataframe tbody tr th:only-of-type {\n",
       "        vertical-align: middle;\n",
       "    }\n",
       "\n",
       "    .dataframe tbody tr th {\n",
       "        vertical-align: top;\n",
       "    }\n",
       "\n",
       "    .dataframe thead th {\n",
       "        text-align: right;\n",
       "    }\n",
       "</style>\n",
       "<table border=\"1\" class=\"dataframe\">\n",
       "  <thead>\n",
       "    <tr style=\"text-align: right;\">\n",
       "      <th></th>\n",
       "      <th>sum</th>\n",
       "      <th>mean</th>\n",
       "      <th>max</th>\n",
       "    </tr>\n",
       "    <tr>\n",
       "      <th>action</th>\n",
       "      <th></th>\n",
       "      <th></th>\n",
       "      <th></th>\n",
       "    </tr>\n",
       "  </thead>\n",
       "  <tbody>\n",
       "    <tr>\n",
       "      <th>train_model #13</th>\n",
       "      <td>68.773222</td>\n",
       "      <td>0.687732</td>\n",
       "      <td>0.763313</td>\n",
       "    </tr>\n",
       "    <tr>\n",
       "      <th>elastic_transform #10</th>\n",
       "      <td>16.141017</td>\n",
       "      <td>0.161410</td>\n",
       "      <td>0.193697</td>\n",
       "    </tr>\n",
       "    <tr>\n",
       "      <th>additive_noise #7</th>\n",
       "      <td>7.767117</td>\n",
       "      <td>0.077671</td>\n",
       "      <td>0.109054</td>\n",
       "    </tr>\n",
       "    <tr>\n",
       "      <th>rotate #8</th>\n",
       "      <td>7.726725</td>\n",
       "      <td>0.077267</td>\n",
       "      <td>0.089858</td>\n",
       "    </tr>\n",
       "    <tr>\n",
       "      <th>scale_2d #9</th>\n",
       "      <td>7.118042</td>\n",
       "      <td>0.071180</td>\n",
       "      <td>0.079902</td>\n",
       "    </tr>\n",
       "    <tr>\n",
       "      <th>flip #6</th>\n",
       "      <td>6.688294</td>\n",
       "      <td>0.066883</td>\n",
       "      <td>0.098618</td>\n",
       "    </tr>\n",
       "    <tr>\n",
       "      <th>load_cubes #2</th>\n",
       "      <td>3.786855</td>\n",
       "      <td>0.037869</td>\n",
       "      <td>0.051936</td>\n",
       "    </tr>\n",
       "    <tr>\n",
       "      <th>create_masks #1</th>\n",
       "      <td>1.742508</td>\n",
       "      <td>0.017425</td>\n",
       "      <td>0.024926</td>\n",
       "    </tr>\n",
       "    <tr>\n",
       "      <th>crop #0</th>\n",
       "      <td>1.614001</td>\n",
       "      <td>0.016140</td>\n",
       "      <td>0.029820</td>\n",
       "    </tr>\n",
       "    <tr>\n",
       "      <th>adaptive_reshape #3</th>\n",
       "      <td>1.446722</td>\n",
       "      <td>0.014467</td>\n",
       "      <td>0.023744</td>\n",
       "    </tr>\n",
       "    <tr>\n",
       "      <th>transpose #5</th>\n",
       "      <td>1.242829</td>\n",
       "      <td>0.012428</td>\n",
       "      <td>0.018978</td>\n",
       "    </tr>\n",
       "    <tr>\n",
       "      <th>transpose #11</th>\n",
       "      <td>1.190471</td>\n",
       "      <td>0.011905</td>\n",
       "      <td>0.016291</td>\n",
       "    </tr>\n",
       "    <tr>\n",
       "      <th>scale #4</th>\n",
       "      <td>0.957527</td>\n",
       "      <td>0.009575</td>\n",
       "      <td>0.015106</td>\n",
       "    </tr>\n",
       "    <tr>\n",
       "      <th>import_model #12</th>\n",
       "      <td>0.003993</td>\n",
       "      <td>0.000040</td>\n",
       "      <td>0.000068</td>\n",
       "    </tr>\n",
       "  </tbody>\n",
       "</table>\n",
       "</div>"
      ],
      "text/plain": [
       "                             sum      mean       max\n",
       "action                                              \n",
       "train_model #13        68.773222  0.687732  0.763313\n",
       "elastic_transform #10  16.141017  0.161410  0.193697\n",
       "additive_noise #7       7.767117  0.077671  0.109054\n",
       "rotate #8               7.726725  0.077267  0.089858\n",
       "scale_2d #9             7.118042  0.071180  0.079902\n",
       "flip #6                 6.688294  0.066883  0.098618\n",
       "load_cubes #2           3.786855  0.037869  0.051936\n",
       "create_masks #1         1.742508  0.017425  0.024926\n",
       "crop #0                 1.614001  0.016140  0.029820\n",
       "adaptive_reshape #3     1.446722  0.014467  0.023744\n",
       "transpose #5            1.242829  0.012428  0.018978\n",
       "transpose #11           1.190471  0.011905  0.016291\n",
       "scale #4                0.957527  0.009575  0.015106\n",
       "import_model #12        0.003993  0.000040  0.000068"
      ]
     },
     "execution_count": 24,
     "metadata": {},
     "output_type": "execute_result"
    }
   ],
   "source": [
    "result = train_pipeline.show_profile_info()\n",
    "print('Total time of actions running: ', result['total_time']['sum'].sum())\n",
    "result['pipeline_time']"
   ]
  },
  {
   "cell_type": "markdown",
   "metadata": {},
   "source": [
    "Note that this does not allow to profile individual GPU operations. You can this option in model configuration, in `train` method call or directly into the config of already existing model:"
   ]
  },
  {
   "cell_type": "code",
   "execution_count": 25,
   "metadata": {},
   "outputs": [
    {
     "name": "stderr",
     "output_type": "stream",
     "text": [
      "100%|██████████| 100/100 [11:19<00:00,  6.80s/it]"
     ]
    },
    {
     "name": "stdout",
     "output_type": "stream",
     "text": [
      "CPU times: user 3min 24s, sys: 19 s, total: 3min 43s\n",
      "Wall time: 11min 19s\n"
     ]
    },
    {
     "name": "stderr",
     "output_type": "stream",
     "text": [
      "\n"
     ]
    }
   ],
   "source": [
    "%%time\n",
    "model.full_config['profile'] = True\n",
    "train_pipeline.run(D.size, n_iters=ITERS, bar=True)\n",
    "model.full_config['profile'] = False"
   ]
  },
  {
   "cell_type": "markdown",
   "metadata": {},
   "source": [
    "As you can see, it takes a lot of time, though allows us to granularly inspect every cuda kernel time taken:"
   ]
  },
  {
   "cell_type": "code",
   "execution_count": 26,
   "metadata": {},
   "outputs": [
    {
     "data": {
      "text/html": [
       "<div>\n",
       "<style scoped>\n",
       "    .dataframe tbody tr th:only-of-type {\n",
       "        vertical-align: middle;\n",
       "    }\n",
       "\n",
       "    .dataframe tbody tr th {\n",
       "        vertical-align: top;\n",
       "    }\n",
       "\n",
       "    .dataframe thead tr th {\n",
       "        text-align: left;\n",
       "    }\n",
       "\n",
       "    .dataframe thead tr:last-of-type th {\n",
       "        text-align: right;\n",
       "    }\n",
       "</style>\n",
       "<table border=\"1\" class=\"dataframe\">\n",
       "  <thead>\n",
       "    <tr>\n",
       "      <th></th>\n",
       "      <th colspan=\"3\" halign=\"left\">ncalls</th>\n",
       "      <th colspan=\"3\" halign=\"left\">CUDA_cumtime</th>\n",
       "      <th colspan=\"3\" halign=\"left\">CUDA_cumtime_avg</th>\n",
       "    </tr>\n",
       "    <tr>\n",
       "      <th></th>\n",
       "      <th>sum</th>\n",
       "      <th>mean</th>\n",
       "      <th>max</th>\n",
       "      <th>sum</th>\n",
       "      <th>mean</th>\n",
       "      <th>max</th>\n",
       "      <th>sum</th>\n",
       "      <th>mean</th>\n",
       "      <th>max</th>\n",
       "    </tr>\n",
       "    <tr>\n",
       "      <th>name</th>\n",
       "      <th></th>\n",
       "      <th></th>\n",
       "      <th></th>\n",
       "      <th></th>\n",
       "      <th></th>\n",
       "      <th></th>\n",
       "      <th></th>\n",
       "      <th></th>\n",
       "      <th></th>\n",
       "    </tr>\n",
       "  </thead>\n",
       "  <tbody>\n",
       "    <tr>\n",
       "      <th>batch_norm</th>\n",
       "      <td>57600</td>\n",
       "      <td>576</td>\n",
       "      <td>576</td>\n",
       "      <td>107.920341</td>\n",
       "      <td>1.079203</td>\n",
       "      <td>3.831171</td>\n",
       "      <td>0.187362</td>\n",
       "      <td>0.001874</td>\n",
       "      <td>0.006651</td>\n",
       "    </tr>\n",
       "    <tr>\n",
       "      <th>_batch_norm_impl_index</th>\n",
       "      <td>57600</td>\n",
       "      <td>576</td>\n",
       "      <td>576</td>\n",
       "      <td>97.526260</td>\n",
       "      <td>0.975263</td>\n",
       "      <td>3.827754</td>\n",
       "      <td>0.169316</td>\n",
       "      <td>0.001693</td>\n",
       "      <td>0.006645</td>\n",
       "    </tr>\n",
       "    <tr>\n",
       "      <th>conv2d</th>\n",
       "      <td>52800</td>\n",
       "      <td>528</td>\n",
       "      <td>528</td>\n",
       "      <td>67.190412</td>\n",
       "      <td>0.671904</td>\n",
       "      <td>4.567741</td>\n",
       "      <td>0.127255</td>\n",
       "      <td>0.001273</td>\n",
       "      <td>0.008651</td>\n",
       "    </tr>\n",
       "    <tr>\n",
       "      <th>contiguous</th>\n",
       "      <td>398400</td>\n",
       "      <td>3984</td>\n",
       "      <td>3984</td>\n",
       "      <td>53.219292</td>\n",
       "      <td>0.532193</td>\n",
       "      <td>2.821949</td>\n",
       "      <td>0.013358</td>\n",
       "      <td>0.000134</td>\n",
       "      <td>0.000708</td>\n",
       "    </tr>\n",
       "    <tr>\n",
       "      <th>convolution</th>\n",
       "      <td>52800</td>\n",
       "      <td>528</td>\n",
       "      <td>528</td>\n",
       "      <td>53.015615</td>\n",
       "      <td>0.530156</td>\n",
       "      <td>3.303896</td>\n",
       "      <td>0.100408</td>\n",
       "      <td>0.001004</td>\n",
       "      <td>0.006257</td>\n",
       "    </tr>\n",
       "    <tr>\n",
       "      <th>CudnnConvolutionBackward</th>\n",
       "      <td>52800</td>\n",
       "      <td>528</td>\n",
       "      <td>528</td>\n",
       "      <td>52.838190</td>\n",
       "      <td>0.528382</td>\n",
       "      <td>2.807502</td>\n",
       "      <td>0.100072</td>\n",
       "      <td>0.001001</td>\n",
       "      <td>0.005317</td>\n",
       "    </tr>\n",
       "    <tr>\n",
       "      <th>torch::autograd::AccumulateGrad</th>\n",
       "      <td>168000</td>\n",
       "      <td>1680</td>\n",
       "      <td>1680</td>\n",
       "      <td>50.980660</td>\n",
       "      <td>0.509807</td>\n",
       "      <td>3.127244</td>\n",
       "      <td>0.030346</td>\n",
       "      <td>0.000303</td>\n",
       "      <td>0.001861</td>\n",
       "    </tr>\n",
       "    <tr>\n",
       "      <th>_convolution</th>\n",
       "      <td>52800</td>\n",
       "      <td>528</td>\n",
       "      <td>528</td>\n",
       "      <td>42.327180</td>\n",
       "      <td>0.423272</td>\n",
       "      <td>3.301414</td>\n",
       "      <td>0.080165</td>\n",
       "      <td>0.000802</td>\n",
       "      <td>0.006253</td>\n",
       "    </tr>\n",
       "    <tr>\n",
       "      <th>CudnnBatchNormBackward</th>\n",
       "      <td>57600</td>\n",
       "      <td>576</td>\n",
       "      <td>576</td>\n",
       "      <td>38.515362</td>\n",
       "      <td>0.385154</td>\n",
       "      <td>2.637105</td>\n",
       "      <td>0.066867</td>\n",
       "      <td>0.000669</td>\n",
       "      <td>0.004578</td>\n",
       "    </tr>\n",
       "    <tr>\n",
       "      <th>cudnn_convolution_backward</th>\n",
       "      <td>52800</td>\n",
       "      <td>528</td>\n",
       "      <td>528</td>\n",
       "      <td>33.644023</td>\n",
       "      <td>0.336440</td>\n",
       "      <td>1.637412</td>\n",
       "      <td>0.063720</td>\n",
       "      <td>0.000637</td>\n",
       "      <td>0.003101</td>\n",
       "    </tr>\n",
       "  </tbody>\n",
       "</table>\n",
       "</div>"
      ],
      "text/plain": [
       "                                 ncalls             CUDA_cumtime            \\\n",
       "                                    sum  mean   max          sum      mean   \n",
       "name                                                                         \n",
       "batch_norm                        57600   576   576   107.920341  1.079203   \n",
       "_batch_norm_impl_index            57600   576   576    97.526260  0.975263   \n",
       "conv2d                            52800   528   528    67.190412  0.671904   \n",
       "contiguous                       398400  3984  3984    53.219292  0.532193   \n",
       "convolution                       52800   528   528    53.015615  0.530156   \n",
       "CudnnConvolutionBackward          52800   528   528    52.838190  0.528382   \n",
       "torch::autograd::AccumulateGrad  168000  1680  1680    50.980660  0.509807   \n",
       "_convolution                      52800   528   528    42.327180  0.423272   \n",
       "CudnnBatchNormBackward            57600   576   576    38.515362  0.385154   \n",
       "cudnn_convolution_backward        52800   528   528    33.644023  0.336440   \n",
       "\n",
       "                                          CUDA_cumtime_avg                      \n",
       "                                      max              sum      mean       max  \n",
       "name                                                                            \n",
       "batch_norm                       3.831171         0.187362  0.001874  0.006651  \n",
       "_batch_norm_impl_index           3.827754         0.169316  0.001693  0.006645  \n",
       "conv2d                           4.567741         0.127255  0.001273  0.008651  \n",
       "contiguous                       2.821949         0.013358  0.000134  0.000708  \n",
       "convolution                      3.303896         0.100408  0.001004  0.006257  \n",
       "CudnnConvolutionBackward         2.807502         0.100072  0.001001  0.005317  \n",
       "torch::autograd::AccumulateGrad  3.127244         0.030346  0.000303  0.001861  \n",
       "_convolution                     3.301414         0.080165  0.000802  0.006253  \n",
       "CudnnBatchNormBackward           2.637105         0.066867  0.000669  0.004578  \n",
       "cudnn_convolution_backward       1.637412         0.063720  0.000637  0.003101  "
      ]
     },
     "execution_count": 26,
     "metadata": {},
     "output_type": "execute_result"
    }
   ],
   "source": [
    "model.show_profile_info()"
   ]
  },
  {
   "cell_type": "markdown",
   "metadata": {},
   "source": [
    "## Pipeline as data generator\n",
    "\n",
    "That is roughly the same as what goes under the hood of `model_train` action of `Pipeline`:"
   ]
  },
  {
   "cell_type": "code",
   "execution_count": 27,
   "metadata": {},
   "outputs": [
    {
     "name": "stderr",
     "output_type": "stream",
     "text": [
      "100%|██████████| 100/100 [02:03<00:00,  1.24s/it]"
     ]
    },
    {
     "name": "stdout",
     "output_type": "stream",
     "text": [
      "CPU times: user 1min 52s, sys: 11.5 s, total: 2min 3s\n",
      "Wall time: 2min 3s\n"
     ]
    },
    {
     "name": "stderr",
     "output_type": "stream",
     "text": [
      "\n"
     ]
    }
   ],
   "source": [
    "%%time\n",
    "data_pipeline = load_pipeline + aug_pipeline\n",
    "\n",
    "for batch in tqdm(data_pipeline.gen_batch(D.size, n_iters=ITERS), total=ITERS):\n",
    "    images, masks = batch.images, batch.masks\n",
    "    model.train(fetches='loss', images=images, masks=masks)"
   ]
  },
  {
   "cell_type": "markdown",
   "metadata": {},
   "source": [
    "## Convert pipeline to DataLoader; use Lightning to train the model\n",
    "\n",
    "Obviously, behind our `PyTorch` wrapper lies a plain old `PyTorch` model, that can be accessed via `model` attribute. There are also other attributes to store loss function, optimizer, etc. The `Lightning` wrapper just simply borrows them from our model:"
   ]
  },
  {
   "cell_type": "code",
   "execution_count": 28,
   "metadata": {},
   "outputs": [],
   "source": [
    "class LightningModel(LightningModule):\n",
    "    def __init__(self, bf_model, pipeline=None):\n",
    "        super().__init__()\n",
    "        self.bf_model = bf_model\n",
    "        self.pipeline = pipeline\n",
    "        \n",
    "        self.loss_list = []\n",
    "        \n",
    "    def forward(self, x):\n",
    "        return self.bf_model.model(x)\n",
    "    \n",
    "    def configure_optimizers(self):\n",
    "        return self.bf_model.train_steps['']['optimizer']\n",
    "    \n",
    "    def training_step(self, batch, batch_idx):\n",
    "        images, targets = batch\n",
    "        predictions = self(images)\n",
    "        \n",
    "        loss_func = self.bf_model.train_steps['']['loss'][0]\n",
    "        loss = loss_func(predictions, targets)\n",
    "        \n",
    "        self.loss_list.append(loss.detach().cpu().numpy())\n",
    "        logs = {'loss': loss}\n",
    "        return {'loss': loss, 'log': logs}\n",
    "    \n",
    "    def train_dataloader(self):\n",
    "        if self.pipeline is not None:\n",
    "            pds = PipelineDataset(self.pipeline,\n",
    "                                  microbatch=self.bf_model.config.get('microbatch'))\n",
    "            return DataLoader(pds, batch_size=None, pin_memory=True)"
   ]
  },
  {
   "cell_type": "code",
   "execution_count": 29,
   "metadata": {},
   "outputs": [
    {
     "name": "stderr",
     "output_type": "stream",
     "text": [
      "GPU available: True, used: True\n",
      "No environment variable for node rank defined. Set as 0.\n",
      "CUDA_VISIBLE_DEVICES: [0]\n"
     ]
    },
    {
     "name": "stdout",
     "output_type": "stream",
     "text": [
      "CPU times: user 2.11 ms, sys: 4.15 ms, total: 6.26 ms\n",
      "Wall time: 5.17 ms\n"
     ]
    }
   ],
   "source": [
    "%%time\n",
    "l_model = LightningModel(bf_model=model, pipeline=(load_pipeline + aug_pipeline) << dataset)\n",
    "\n",
    "trainer = Trainer(gpus=1,\n",
    "                  accumulate_grad_batches=16,    # reverse microbatch\n",
    "                  max_steps=ITERS,               # number of iterations\n",
    "                  weights_summary=None)"
   ]
  },
  {
   "cell_type": "code",
   "execution_count": 30,
   "metadata": {},
   "outputs": [
    {
     "data": {
      "application/vnd.jupyter.widget-view+json": {
       "model_id": "0b8c908316514b40aca855d937afceac",
       "version_major": 2,
       "version_minor": 0
      },
      "text/plain": [
       "HBox(children=(FloatProgress(value=1.0, bar_style='info', description='Training', layout=Layout(flex='2'), max…"
      ]
     },
     "metadata": {},
     "output_type": "display_data"
    },
    {
     "name": "stdout",
     "output_type": "stream",
     "text": [
      "\n",
      "CPU times: user 8min 32s, sys: 13.4 s, total: 8min 45s\n",
      "Wall time: 2min 27s\n"
     ]
    },
    {
     "data": {
      "text/plain": [
       "1"
      ]
     },
     "execution_count": 30,
     "metadata": {},
     "output_type": "execute_result"
    }
   ],
   "source": [
    "%%time\n",
    "# Total iterations number is 800 = 16 * 100 = accumulated batches * ITERS \n",
    "trainer.fit(model=l_model)"
   ]
  },
  {
   "cell_type": "markdown",
   "metadata": {},
   "source": [
    "<a id='inference'></a>\n",
    "# Inference profile\n",
    "\n",
    "During training we were sampling points along some sparce carcass: that procedure heavily benefits of caching mechanisms in our framework: we need to load very few slices of data during the whole process, so they are instantly loaded into cache and the cube is never touched again.\n",
    "\n",
    "During inference the whole dynamic changes: we are moving from slice to slice sequentially, so each slide is used multiple times (and cache still works wonders), but the overall amount of cube access increases dramatically. Making more overlapping predictions (contolled by the `stride` argument of `make_grid`) benefits more from caching.\n",
    "\n",
    "Action `assemble_crops` is not like the others: it is performed only once, at the end of pipeline run. Specifically:\n",
    "\n",
    "- pipeline iterates over crops, cut from the cube in order to cover the required volume\n",
    "- for each crop, it makes a prediction with trained neural network\n",
    "- after all predictions are available, `assemble_crop` creates a huge 3D array from them, taking overlapping crops into account"
   ]
  },
  {
   "cell_type": "code",
   "execution_count": 31,
   "metadata": {},
   "outputs": [],
   "source": [
    "inference_pipeline = (\n",
    "    Pipeline()\n",
    "    # Initialize everything\n",
    "    .init_variable('result_preds', [])\n",
    "    .import_model(model, name='model')\n",
    "\n",
    "    # Load data\n",
    "    .crop(points=D('grid_gen')(),\n",
    "          shape=CROP_SHAPE)\n",
    "    .load_cubes(dst='images')\n",
    "    .adaptive_reshape(src='images', shape=CROP_SHAPE)\n",
    "    .scale(mode='q', src='images')\n",
    "\n",
    "    # Predict with model, then aggregate\n",
    "    .predict_model('model',\n",
    "                   B('images'),\n",
    "                   fetches='predictions',\n",
    "                   save_to=V('result_preds', mode='e'))\n",
    "    .assemble_crops(src=V('result_preds'),\n",
    "                    dst='assembled_pred',\n",
    "                    grid_info=D('grid_info'),\n",
    "                    order=(0, 1, 2))\n",
    ") << dataset"
   ]
  },
  {
   "cell_type": "code",
   "execution_count": 32,
   "metadata": {},
   "outputs": [
    {
     "name": "stderr",
     "output_type": "stream",
     "text": [
      "100%|██████████| 79/79 [01:08<00:00,  1.16it/s]\n"
     ]
    }
   ],
   "source": [
    "dataset.make_grid(dataset.indices[0], CROP_SHAPE,\n",
    "                  [0, 417], [0, 868], [800, 1000],\n",
    "                  strides=(1, 96, 96),\n",
    "                  batch_size=BATCH_SIZE*2)\n",
    "\n",
    "\n",
    "for _ in tqdm(range(dataset.grid_iters)):\n",
    "    batch = inference_pipeline.next_batch(D('size'), profile=True)"
   ]
  },
  {
   "cell_type": "code",
   "execution_count": 33,
   "metadata": {},
   "outputs": [
    {
     "name": "stdout",
     "output_type": "stream",
     "text": [
      "Total time of actions running:  58.05370855331421\n"
     ]
    },
    {
     "data": {
      "text/html": [
       "<div>\n",
       "<style scoped>\n",
       "    .dataframe tbody tr th:only-of-type {\n",
       "        vertical-align: middle;\n",
       "    }\n",
       "\n",
       "    .dataframe tbody tr th {\n",
       "        vertical-align: top;\n",
       "    }\n",
       "\n",
       "    .dataframe thead th {\n",
       "        text-align: right;\n",
       "    }\n",
       "</style>\n",
       "<table border=\"1\" class=\"dataframe\">\n",
       "  <thead>\n",
       "    <tr style=\"text-align: right;\">\n",
       "      <th></th>\n",
       "      <th>sum</th>\n",
       "      <th>mean</th>\n",
       "      <th>max</th>\n",
       "    </tr>\n",
       "    <tr>\n",
       "      <th>action</th>\n",
       "      <th></th>\n",
       "      <th></th>\n",
       "      <th></th>\n",
       "    </tr>\n",
       "  </thead>\n",
       "  <tbody>\n",
       "    <tr>\n",
       "      <th>predict_model #5</th>\n",
       "      <td>31.330827</td>\n",
       "      <td>0.396593</td>\n",
       "      <td>2.834898</td>\n",
       "    </tr>\n",
       "    <tr>\n",
       "      <th>load_cubes #2</th>\n",
       "      <td>14.693117</td>\n",
       "      <td>0.185989</td>\n",
       "      <td>0.253188</td>\n",
       "    </tr>\n",
       "    <tr>\n",
       "      <th>assemble_crops #6</th>\n",
       "      <td>6.525909</td>\n",
       "      <td>0.082606</td>\n",
       "      <td>6.507661</td>\n",
       "    </tr>\n",
       "    <tr>\n",
       "      <th>scale #4</th>\n",
       "      <td>1.718591</td>\n",
       "      <td>0.021754</td>\n",
       "      <td>0.027014</td>\n",
       "    </tr>\n",
       "    <tr>\n",
       "      <th>adaptive_reshape #3</th>\n",
       "      <td>1.215921</td>\n",
       "      <td>0.015391</td>\n",
       "      <td>0.019784</td>\n",
       "    </tr>\n",
       "    <tr>\n",
       "      <th>crop #1</th>\n",
       "      <td>0.445411</td>\n",
       "      <td>0.005638</td>\n",
       "      <td>0.007325</td>\n",
       "    </tr>\n",
       "    <tr>\n",
       "      <th>import_model #0</th>\n",
       "      <td>0.002666</td>\n",
       "      <td>0.000034</td>\n",
       "      <td>0.000047</td>\n",
       "    </tr>\n",
       "  </tbody>\n",
       "</table>\n",
       "</div>"
      ],
      "text/plain": [
       "                           sum      mean       max\n",
       "action                                            \n",
       "predict_model #5     31.330827  0.396593  2.834898\n",
       "load_cubes #2        14.693117  0.185989  0.253188\n",
       "assemble_crops #6     6.525909  0.082606  6.507661\n",
       "scale #4              1.718591  0.021754  0.027014\n",
       "adaptive_reshape #3   1.215921  0.015391  0.019784\n",
       "crop #1               0.445411  0.005638  0.007325\n",
       "import_model #0       0.002666  0.000034  0.000047"
      ]
     },
     "execution_count": 33,
     "metadata": {},
     "output_type": "execute_result"
    }
   ],
   "source": [
    "result = inference_pipeline.show_profile_info()\n",
    "print('Total time of actions running: ', result['total_time']['sum'].sum())\n",
    "result['pipeline_time']"
   ]
  },
  {
   "cell_type": "markdown",
   "metadata": {},
   "source": [
    "There is no use for the created 3D array: we need an actual 2D surface. That is done via `from_mask` staticmethod of `Horizon` class:"
   ]
  },
  {
   "cell_type": "code",
   "execution_count": 34,
   "metadata": {},
   "outputs": [
    {
     "name": "stdout",
     "output_type": "stream",
     "text": [
      " "
     ]
    },
    {
     "data": {
      "text/plain": [
       "         531946 function calls (496522 primitive calls) in 1.887 seconds\n",
       "\n",
       "   Ordered by: internal time\n",
       "   List reduced from 1836 to 10 due to restriction <10>\n",
       "\n",
       "   ncalls  tottime  percall  cumtime  percall filename:lineno(function)\n",
       "        1    0.788    0.788    0.788    0.788 {skimage.measure._ccomp.label_cython}\n",
       "      484    0.213    0.000    0.213    0.000 ffi.py:112(__call__)\n",
       "        1    0.210    0.210    0.210    0.210 {built-in method scipy.ndimage._nd_image.find_objects}\n",
       "        1    0.085    0.085    1.885    1.885 horizon.py:649(from_mask)\n",
       "        1    0.078    0.078    0.078    0.078 {method 'nonzero' of 'numpy.ndarray' objects}\n",
       "        3    0.070    0.023    0.070    0.023 {method 'reduce' of 'numpy.ufunc' objects}\n",
       "        1    0.040    0.040    0.040    0.040 utils.py:395(groupby_mean)\n",
       "        1    0.017    0.017    0.017    0.017 horizon.py:699(<listcomp>)\n",
       "    99762    0.016    0.000    0.027    0.000 {built-in method builtins.isinstance}\n",
       "  290/288    0.014    0.000    0.101    0.000 {built-in method numpy.core._multiarray_umath.implement_array_function}"
      ]
     },
     "metadata": {},
     "output_type": "display_data"
    }
   ],
   "source": [
    "%%prun -l 10\n",
    "horizons = Horizon.from_mask(batch.assembled_pred, dataset.grid_info,\n",
    "                             minsize=50, threshold=0.5)"
   ]
  },
  {
   "cell_type": "code",
   "execution_count": 35,
   "metadata": {},
   "outputs": [
    {
     "data": {
      "image/png": "[encoded data removed]",
      "text/plain": [
       "<Figure size 864x504 with 2 Axes>"
      ]
     },
     "metadata": {},
     "output_type": "display_data"
    }
   ],
   "source": [
    "horizons[-1].show()"
   ]
  },
  {
   "cell_type": "markdown",
   "metadata": {},
   "source": [
    "<a id='conclusion'></a>\n",
    "# Conclusion\n",
    "\n",
    "We presented detailed benchmarks for various parts of **seismiQB**, as well as showcased multiple interfaces to do data loading and model training. The timings of each approach are roughly the same, so the real difference is API.\n",
    "\n",
    "This notebook is assumed to be run from time to time to monitor progress and speed-ups with following table to log them:\n",
    "\n",
    "| date, DD.MM.YYYY | load + augmentations, s | load + augmentations + train, s | inference, s |\n",
    "| --- | --- | --- | --- |\n",
    "| 01.06.2019 | ~1600 | ~3600 | ~10000 |\n",
    "| 01.06.2020 | 50 | 115 | 55 |"
   ]
  }
 ],
 "metadata": {
  "kernelspec": {
   "display_name": "Python 3",
   "language": "python",
   "name": "python3"
  },
  "language_info": {
   "codemirror_mode": {
    "name": "ipython",
    "version": 3
   },
   "file_extension": ".py",
   "mimetype": "text/x-python",
   "name": "python",
   "nbconvert_exporter": "python",
   "pygments_lexer": "ipython3",
   "version": "3.6.9"
  }
 },
 "nbformat": 4,
 "nbformat_minor": 4
}
