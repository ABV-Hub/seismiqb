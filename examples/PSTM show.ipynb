{
 "cells": [
  {
   "cell_type": "code",
   "execution_count": 1,
   "metadata": {},
   "outputs": [],
   "source": [
    "%load_ext autoreload\n",
    "%autoreload 2\n",
    "\n",
    "import os\n",
    "import sys\n",
    "import warnings\n",
    "\n",
    "import numpy as np\n",
    "import tensorflow as tf\n",
    "import matplotlib.pyplot as plt\n",
    "import dill\n",
    "\n",
    "sys.path.append('..')\n",
    "from seismiqb.batchflow import Dataset, Pipeline, B, V, C, L, F, D, DatasetIndex\n",
    "from seismiqb.batchflow.models.tf import UNet, TFModel\n",
    "from seismiqb import SeismicCropBatch, Geometry, parse_labels, make_histosampler\n",
    "from seismiqb import make_geometries, make_labels, make_samplers\n",
    "\n",
    "from tqdm import tqdm_notebook\n",
    "warnings.filterwarnings(\"ignore\")\n",
    "os.environ['TF_CPP_MIN_LOG_LEVEL'] = '3' "
   ]
  },
  {
   "cell_type": "code",
   "execution_count": 2,
   "metadata": {},
   "outputs": [],
   "source": [
    "path_data = '../../data/Facies/PSTM_no_stat.sgy'"
   ]
  },
  {
   "cell_type": "code",
   "execution_count": 3,
   "metadata": {},
   "outputs": [
    {
     "data": {
      "application/vnd.jupyter.widget-view+json": {
       "model_id": "cb30a6d6a8e74ca28dbfa61d28546182",
       "version_major": 2,
       "version_minor": 0
      },
      "text/plain": [
       "HBox(children=(IntProgress(value=0, max=4043048), HTML(value='')))"
      ]
     },
     "metadata": {},
     "output_type": "display_data"
    },
    {
     "name": "stdout",
     "output_type": "stream",
     "text": [
      "\n",
      "File header:  {JobID: 0, LineNumber: 3, ReelNumber: 1, Traces: 1, AuxTraces: 0, Interval: 2000, IntervalOriginal: 0, Samples: 1500, SamplesOriginal: 0, Format: 1, EnsembleFold: 1, SortingCode: 2, VerticalSum: 0, SweepFrequencyStart: 0, SweepFrequencyEnd: 0, SweepLength: 0, Sweep: 0, SweepChannel: 0, SweepTaperStart: 0, SweepTaperEnd: 0, Taper: 0, CorrelatedTraces: 0, BinaryGainRecovery: 0, AmplitudeRecovery: 0, MeasurementSystem: 1, ImpulseSignalPolarity: 0, VibratoryPolarity: 0, SEGYRevision: 0, TraceFlag: 0, ExtendedHeaders: 0}\n",
      "\n",
      "\n",
      "Trace header:  {TRACE_SEQUENCE_LINE: 1, TRACE_SEQUENCE_FILE: 1, FieldRecord: 0, TraceNumber: 0, EnergySourcePoint: 0, CDP: 1030, CDP_TRACE: 1, TraceIdentificationCode: 1, NSummedTraces: 0, NStackedTraces: 0, DataUse: 0, offset: 0, ReceiverGroupElevation: 0, SourceSurfaceElevation: 0, SourceDepth: 0, ReceiverDatumElevation: 0, SourceDatumElevation: 0, SourceWaterDepth: 0, GroupWaterDepth: 0, ElevationScalar: 0, SourceGroupScalar: 0, SourceX: 0, SourceY: 0, GroupX: 0, GroupY: 0, CoordinateUnits: 0, WeatheringVelocity: 0, SubWeatheringVelocity: 0, SourceUpholeTime: 0, GroupUpholeTime: 0, SourceStaticCorrection: 0, GroupStaticCorrection: 0, TotalStaticApplied: 0, LagTimeA: 0, LagTimeB: 0, DelayRecordingTime: 0, MuteTimeStart: 0, MuteTimeEND: 0, TRACE_SAMPLE_COUNT: 1500, TRACE_SAMPLE_INTERVAL: 2000, GainType: 0, InstrumentGainConstant: 0, InstrumentInitialGain: 0, Correlated: 0, SweepFrequencyStart: 0, SweepFrequencyEnd: 0, SweepLength: 0, SweepType: 0, SweepTraceTaperLengthStart: 0, SweepTraceTaperLengthEnd: 0, TaperType: 0, AliasFilterFrequency: 0, AliasFilterSlope: 0, NotchFilterFrequency: 0, NotchFilterSlope: 0, LowCutFrequency: 0, HighCutFrequency: 0, LowCutSlope: 0, HighCutSlope: 0, YearDataRecorded: 0, DayOfYear: 0, HourOfDay: 0, MinuteOfHour: 0, SecondOfMinute: 0, TimeBaseCode: 0, TraceWeightingFactor: 0, GeophoneGroupNumberRoll1: 0, GeophoneGroupNumberFirstTraceOrigField: 0, GeophoneGroupNumberLastTraceOrigField: 0, GapSize: 0, OverTravel: 0, CDP_X: 488794, CDP_Y: 6709473, INLINE_3D: 196, CROSSLINE_3D: 1110, ShotPoint: 0, ShotPointScalar: 0, TraceValueMeasurementUnit: 0, TransductionConstantMantissa: 0, TransductionConstantPower: 0, TransductionUnit: 0, TraceIdentifier: 0, ScalarTraceHeader: 0, SourceType: 0, SourceEnergyDirectionMantissa: 0, SourceEnergyDirectionExponent: 0, SourceMeasurementMantissa: 0, SourceMeasurementExponent: 0, SourceMeasurementUnit: 0}\n",
      "\n",
      "Depth of one trace is: 1500\n",
      "Number of ILINES: 3120\n",
      "Number of XLINES: 2698\n",
      "ILINES range from 196 to 3315\n",
      "XLINES range from 81 to 2778\n",
      "CDP_X range from 463079 to 530477\n",
      "CDP_Y range from 6709473 to 6787418\n"
     ]
    }
   ],
   "source": [
    "geom = Geometry(path_data, verbose=True)"
   ]
  },
  {
   "cell_type": "code",
   "execution_count": 4,
   "metadata": {},
   "outputs": [
    {
     "data": {
      "application/vnd.jupyter.widget-view+json": {
       "model_id": "e383a51273b4467494efcf40f24ba5ca",
       "version_major": 2,
       "version_minor": 0
      },
      "text/plain": [
       "HBox(children=(IntProgress(value=0, max=4043048), HTML(value='')))"
      ]
     },
     "metadata": {},
     "output_type": "display_data"
    },
    {
     "name": "stdout",
     "output_type": "stream",
     "text": [
      "\n",
      "Number of duplicates: 0\n",
      "Number of points missing:  4374712\n"
     ]
    },
    {
     "data": {
      "application/vnd.jupyter.widget-view+json": {
       "model_id": "0278328f14054f95abf778ea628c0910",
       "version_major": 2,
       "version_minor": 0
      },
      "text/plain": [
       "HBox(children=(IntProgress(value=0, max=8417760), HTML(value='')))"
      ]
     },
     "metadata": {},
     "output_type": "display_data"
    },
    {
     "name": "stdout",
     "output_type": "stream",
     "text": [
      "\n"
     ]
    },
    {
     "data": {
      "image/png": "[encoded data removed]",
      "text/plain": [
       "<Figure size 864x504 with 1 Axes>"
      ]
     },
     "metadata": {
      "needs_background": "light"
     },
     "output_type": "display_data"
    }
   ],
   "source": [
    "# Check some stats and draw cube from above\n",
    "dupl, dupl_count = {}, 0\n",
    "for k, v in tqdm_notebook(geom.il_xl_trace.items()):\n",
    "    if dupl.get(k) is not None:\n",
    "        dupl[k] += 1\n",
    "        dupl_count += 1\n",
    "    else:\n",
    "        dupl[k] =1\n",
    "    \n",
    "print('Number of duplicates:', dupl_count)\n",
    "\n",
    "possible_coordinates = [(i, x) for i in geom.ilines for x in geom.xlines]\n",
    "missing_points = list(set(possible_coordinates) - set(geom.il_xl_trace.keys()))    \n",
    "print('Number of points missing: ', len(missing_points))\n",
    "\n",
    "\n",
    "m = np.zeros((geom.ilines_len, geom.xlines_len))\n",
    "for point in tqdm_notebook(possible_coordinates):\n",
    "    if point in geom.il_xl_trace.keys():\n",
    "        m[point[0] - geom.ilines_offset, point[1] - geom.xlines_offset] += 1\n",
    "        \n",
    "\n",
    "fig, ax = plt.subplots(figsize=(12, 7))\n",
    "ax.imshow(m)\n",
    "ax.set_title('Known traces in cube (yellow is known)', fontdict={'fontsize': 20})\n",
    "plt.xlabel('XLINES', fontdict={'fontsize': 20})\n",
    "plt.ylabel('ILINES', fontdict={'fontsize': 20})\n",
    "plt.show()"
   ]
  },
  {
   "cell_type": "code",
   "execution_count": 5,
   "metadata": {},
   "outputs": [
    {
     "name": "stdout",
     "output_type": "stream",
     "text": [
      "Parsing labels from../../data/Facies/Hor_J1_T0.txt\n"
     ]
    },
    {
     "data": {
      "application/vnd.jupyter.widget-view+json": {
       "model_id": "72ec9b740382485caf56af291ff69067",
       "version_major": 2,
       "version_minor": 0
      },
      "text/plain": [
       "HBox(children=(IntProgress(value=1, bar_style='info', max=1), HTML(value='')))"
      ]
     },
     "metadata": {},
     "output_type": "display_data"
    },
    {
     "name": "stdout",
     "output_type": "stream",
     "text": [
      "\n"
     ]
    }
   ],
   "source": [
    "path_labels_txt = ['../../data/Facies/Hor_J1_T0.txt']\n",
    "labels = parse_labels(path_labels_txt, geom, sample_rate=2, delay=0)"
   ]
  },
  {
   "cell_type": "code",
   "execution_count": 6,
   "metadata": {},
   "outputs": [
    {
     "data": {
      "application/vnd.jupyter.widget-view+json": {
       "model_id": "dcf0e5515d304a3c98fbb27cbd863787",
       "version_major": 2,
       "version_minor": 0
      },
      "text/plain": [
       "HBox(children=(IntProgress(value=0, max=8417760), HTML(value='')))"
      ]
     },
     "metadata": {},
     "output_type": "display_data"
    },
    {
     "name": "stdout",
     "output_type": "stream",
     "text": [
      "\n"
     ]
    },
    {
     "data": {
      "image/png": "[encoded data removed]",
      "text/plain": [
       "<Figure size 864x504 with 1 Axes>"
      ]
     },
     "metadata": {
      "needs_background": "light"
     },
     "output_type": "display_data"
    }
   ],
   "source": [
    "m = np.zeros((geom.ilines_len, geom.xlines_len))\n",
    "for point in tqdm_notebook(possible_coordinates):\n",
    "    if point in labels.keys():\n",
    "        m[point[0] - geom.ilines_offset, point[1] - geom.xlines_offset] += len(labels[point])\n",
    "\n",
    "fig, ax = plt.subplots(figsize=(12, 7))\n",
    "ax.imshow(m)\n",
    "ax.set_title('Known labels for cube (yellow is known)', fontdict={'fontsize': 20})\n",
    "plt.xlabel('XLINES', fontdict={'fontsize': 20})\n",
    "plt.ylabel('ILINES', fontdict={'fontsize': 20})\n",
    "plt.show() "
   ]
  },
  {
   "cell_type": "code",
   "execution_count": null,
   "metadata": {},
   "outputs": [],
   "source": []
  }
 ],
 "metadata": {
  "kernelspec": {
   "display_name": "Python 3",
   "language": "python",
   "name": "python3"
  },
  "language_info": {
   "codemirror_mode": {
    "name": "ipython",
    "version": 3
   },
   "file_extension": ".py",
   "mimetype": "text/x-python",
   "name": "python",
   "nbconvert_exporter": "python",
   "pygments_lexer": "ipython3",
   "version": "3.7.1"
  }
 },
 "nbformat": 4,
 "nbformat_minor": 2
}
