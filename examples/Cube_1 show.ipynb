{
 "cells": [
  {
   "cell_type": "code",
   "execution_count": 1,
   "metadata": {},
   "outputs": [],
   "source": [
    "%load_ext autoreload\n",
    "%autoreload 2\n",
    "\n",
    "import os\n",
    "import sys\n",
    "import warnings\n",
    "\n",
    "import numpy as np\n",
    "import tensorflow as tf\n",
    "import matplotlib.pyplot as plt\n",
    "import dill\n",
    "\n",
    "sys.path.append('..')\n",
    "from seismiqb.batchflow import Dataset, Pipeline, B, V, C, L, F, D, DatasetIndex\n",
    "from seismiqb.batchflow.models.tf import UNet, TFModel\n",
    "from seismiqb import SeismicCropBatch, Geometry, parse_labels, make_histosampler\n",
    "from seismiqb import make_geometries, make_labels, make_samplers, repair\n",
    "\n",
    "from tqdm import tqdm_notebook\n",
    "warnings.filterwarnings(\"ignore\")\n",
    "os.environ['TF_CPP_MIN_LOG_LEVEL'] = '3' "
   ]
  },
  {
   "cell_type": "code",
   "execution_count": 2,
   "metadata": {},
   "outputs": [],
   "source": [
    "path_data = '../../data/cubes/cube1/E_anon.sgy'"
   ]
  },
  {
   "cell_type": "code",
   "execution_count": 3,
   "metadata": {},
   "outputs": [
    {
     "data": {
      "application/vnd.jupyter.widget-view+json": {
       "model_id": "3ea7a6242a90428db1a75754113e58f6",
       "version_major": 2,
       "version_minor": 0
      },
      "text/plain": [
       "HBox(children=(IntProgress(value=0, max=3611267), HTML(value='')))"
      ]
     },
     "metadata": {},
     "output_type": "display_data"
    },
    {
     "name": "stdout",
     "output_type": "stream",
     "text": [
      "\n",
      "File header:  {JobID: 1, LineNumber: 1, ReelNumber: 1, Traces: 1, AuxTraces: 0, Interval: 2000, IntervalOriginal: 0, Samples: 1501, SamplesOriginal: 0, Format: 5, EnsembleFold: 1, SortingCode: 4, VerticalSum: 1, SweepFrequencyStart: 0, SweepFrequencyEnd: 0, SweepLength: 0, Sweep: 0, SweepChannel: 0, SweepTaperStart: 0, SweepTaperEnd: 0, Taper: 0, CorrelatedTraces: 0, BinaryGainRecovery: 0, AmplitudeRecovery: 0, MeasurementSystem: 1, ImpulseSignalPolarity: 1, VibratoryPolarity: 0, SEGYRevision: 0, TraceFlag: 0, ExtendedHeaders: 0}\n",
      "\n",
      "\n",
      "Trace header:  {TRACE_SEQUENCE_LINE: 1, TRACE_SEQUENCE_FILE: 24, FieldRecord: 24, TraceNumber: 1, EnergySourcePoint: 0, CDP: 19, CDP_TRACE: 1, TraceIdentificationCode: 1, NSummedTraces: 0, NStackedTraces: 0, DataUse: 1, offset: 0, ReceiverGroupElevation: 0, SourceSurfaceElevation: 0, SourceDepth: 0, ReceiverDatumElevation: 0, SourceDatumElevation: 0, SourceWaterDepth: 0, GroupWaterDepth: 0, ElevationScalar: 1, SourceGroupScalar: -1, SourceX: 717115, SourceY: 7150315, GroupX: 0, GroupY: 0, CoordinateUnits: 1, WeatheringVelocity: 0, SubWeatheringVelocity: 0, SourceUpholeTime: 0, GroupUpholeTime: 0, SourceStaticCorrection: 0, GroupStaticCorrection: 0, TotalStaticApplied: 0, LagTimeA: 50, LagTimeB: 0, DelayRecordingTime: 50, MuteTimeStart: 0, MuteTimeEND: 0, TRACE_SAMPLE_COUNT: 1501, TRACE_SAMPLE_INTERVAL: 2000, GainType: 0, InstrumentGainConstant: 0, InstrumentInitialGain: 0, Correlated: 1, SweepFrequencyStart: 0, SweepFrequencyEnd: 0, SweepLength: 0, SweepType: 1, SweepTraceTaperLengthStart: 0, SweepTraceTaperLengthEnd: 0, TaperType: 1, AliasFilterFrequency: 0, AliasFilterSlope: 0, NotchFilterFrequency: 0, NotchFilterSlope: 0, LowCutFrequency: 0, HighCutFrequency: 0, LowCutSlope: 0, HighCutSlope: 0, YearDataRecorded: 0, DayOfYear: 0, HourOfDay: 0, MinuteOfHour: 0, SecondOfMinute: 0, TimeBaseCode: 1, TraceWeightingFactor: 0, GeophoneGroupNumberRoll1: 0, GeophoneGroupNumberFirstTraceOrigField: 0, GeophoneGroupNumberLastTraceOrigField: 0, GapSize: 0, OverTravel: 0, CDP_X: 717115, CDP_Y: 7150315, INLINE_3D: 24, CROSSLINE_3D: 19, ShotPoint: 0, ShotPointScalar: 0, TraceValueMeasurementUnit: 0, TransductionConstantMantissa: 0, TransductionConstantPower: 0, TransductionUnit: 0, TraceIdentifier: 0, ScalarTraceHeader: 0, SourceType: 0, SourceEnergyDirectionMantissa: 0, SourceEnergyDirectionExponent: 0, SourceMeasurementMantissa: 0, SourceMeasurementExponent: 0, SourceMeasurementUnit: 0}\n",
      "\n",
      "Depth of one trace is: 1501\n",
      "Number of ILINES: 2563\n",
      "Number of XLINES: 1409\n",
      "ILINES range from 24 to 2586\n",
      "XLINES range from 19 to 1427\n",
      "CDP_X range from 717115 to 752315\n",
      "CDP_Y range from 7150315 to 7214365\n"
     ]
    }
   ],
   "source": [
    "geom = Geometry(path_data, verbose=True)"
   ]
  },
  {
   "cell_type": "code",
   "execution_count": 9,
   "metadata": {},
   "outputs": [
    {
     "data": {
      "application/vnd.jupyter.widget-view+json": {
       "model_id": "64e5117c329c4fa992a5ce58dec45816",
       "version_major": 2,
       "version_minor": 0
      },
      "text/plain": [
       "HBox(children=(IntProgress(value=0, max=3611267), HTML(value='')))"
      ]
     },
     "metadata": {},
     "output_type": "display_data"
    },
    {
     "name": "stdout",
     "output_type": "stream",
     "text": [
      "\n",
      "Number of duplicates: 0\n",
      "Number of points missing:  0\n"
     ]
    },
    {
     "data": {
      "application/vnd.jupyter.widget-view+json": {
       "model_id": "0df4cddf13824c379c0688c84feb0217",
       "version_major": 2,
       "version_minor": 0
      },
      "text/plain": [
       "HBox(children=(IntProgress(value=0, max=3611267), HTML(value='')))"
      ]
     },
     "metadata": {},
     "output_type": "display_data"
    },
    {
     "name": "stdout",
     "output_type": "stream",
     "text": [
      "\n"
     ]
    },
    {
     "data": {
      "image/png": "[encoded data removed]",
      "text/plain": [
       "<Figure size 864x504 with 1 Axes>"
      ]
     },
     "metadata": {
      "needs_background": "light"
     },
     "output_type": "display_data"
    }
   ],
   "source": [
    "# Check some stats and draw cube from above\n",
    "dupl, dupl_count = {}, 0\n",
    "for k, v in tqdm_notebook(geom.il_xl_trace.items()):\n",
    "    if dupl.get(k) is not None:\n",
    "        dupl[k] += 1\n",
    "        dupl_count += 1\n",
    "    else:\n",
    "        dupl[k] =1\n",
    "    \n",
    "print('Number of duplicates:', dupl_count)\n",
    "\n",
    "possible_coordinates = [(i, x) for i in geom.ilines for x in geom.xlines]\n",
    "missing_points = list(set(possible_coordinates) - set(geom.il_xl_trace.keys()))    \n",
    "print('Number of points missing: ', len(missing_points))\n",
    "\n",
    "\n",
    "m = np.zeros((geom.ilines_len, geom.xlines_len))\n",
    "for point in tqdm_notebook(possible_coordinates):\n",
    "    if point in geom.il_xl_trace.keys():\n",
    "        m[point[0] - geom.ilines_offset, point[1] - geom.xlines_offset] += 1\n",
    "        \n",
    "m[0, 0] = 0\n",
    "fig, ax = plt.subplots(figsize=(12, 7))\n",
    "ax.imshow(m)\n",
    "ax.set_title('Known traces in cube (yellow is known)', fontdict={'fontsize': 20})\n",
    "plt.xlabel('XLINES', fontdict={'fontsize': 20})\n",
    "plt.ylabel('ILINES', fontdict={'fontsize': 20})\n",
    "plt.show()"
   ]
  },
  {
   "cell_type": "code",
   "execution_count": 6,
   "metadata": {},
   "outputs": [
    {
     "name": "stdout",
     "output_type": "stream",
     "text": [
      "Cube can be opened in `strict` mode now. \n"
     ]
    }
   ],
   "source": [
    "import segyio\n",
    "with segyio.open(path_data, 'r', strict=True) as segyfile:\n",
    "    segyfile.mmap()\n",
    "    print('Cube can be opened in `strict` mode. ')"
   ]
  },
  {
   "cell_type": "code",
   "execution_count": null,
   "metadata": {},
   "outputs": [],
   "source": []
  }
 ],
 "metadata": {
  "kernelspec": {
   "display_name": "Python 3",
   "language": "python",
   "name": "python3"
  },
  "language_info": {
   "codemirror_mode": {
    "name": "ipython",
    "version": 3
   },
   "file_extension": ".py",
   "mimetype": "text/x-python",
   "name": "python",
   "nbconvert_exporter": "python",
   "pygments_lexer": "ipython3",
   "version": "3.7.1"
  }
 },
 "nbformat": 4,
 "nbformat_minor": 2
}
