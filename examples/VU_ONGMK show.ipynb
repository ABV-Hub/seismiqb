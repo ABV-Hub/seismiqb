{
 "cells": [
  {
   "cell_type": "code",
   "execution_count": 2,
   "metadata": {},
   "outputs": [
    {
     "name": "stdout",
     "output_type": "stream",
     "text": [
      "The autoreload extension is already loaded. To reload it, use:\n",
      "  %reload_ext autoreload\n"
     ]
    }
   ],
   "source": [
    "%load_ext autoreload\n",
    "%autoreload 2\n",
    "\n",
    "import os\n",
    "import sys\n",
    "import warnings\n",
    "\n",
    "import numpy as np\n",
    "import tensorflow as tf\n",
    "import matplotlib.pyplot as plt\n",
    "import dill\n",
    "\n",
    "sys.path.append('..')\n",
    "from seismiqb.batchflow import Dataset, Pipeline, B, V, C, L, F, D, DatasetIndex\n",
    "from seismiqb.batchflow.models.tf import UNet, TFModel\n",
    "from seismiqb import SeismicCropBatch, Geometry, parse_labels, make_histosampler\n",
    "from seismiqb import make_geometries, make_labels, make_samplers\n",
    "from seismiqb import repair\n",
    "\n",
    "\n",
    "from tqdm import tqdm_notebook\n",
    "warnings.filterwarnings(\"ignore\")\n",
    "os.environ['TF_CPP_MIN_LOG_LEVEL'] = '3' "
   ]
  },
  {
   "cell_type": "code",
   "execution_count": 3,
   "metadata": {},
   "outputs": [],
   "source": [
    "path_data = '../../data/Facies/VU_ONGMK/3003_ES360_Ref_Stk_Ang_10_35_Depth.sgy'"
   ]
  },
  {
   "cell_type": "code",
   "execution_count": 4,
   "metadata": {},
   "outputs": [
    {
     "data": {
      "application/vnd.jupyter.widget-view+json": {
       "model_id": "bae05865a9f74d1686c368779288cfb8",
       "version_major": 2,
       "version_minor": 0
      },
      "text/plain": [
       "HBox(children=(IntProgress(value=0, max=2035596), HTML(value='')))"
      ]
     },
     "metadata": {},
     "output_type": "display_data"
    },
    {
     "name": "stdout",
     "output_type": "stream",
     "text": [
      "\n",
      "File header:  {JobID: 0, LineNumber: 0, ReelNumber: 0, Traces: 0, AuxTraces: 0, Interval: 4000, IntervalOriginal: 0, Samples: 1071, SamplesOriginal: 0, Format: 1, EnsembleFold: 0, SortingCode: 0, VerticalSum: 0, SweepFrequencyStart: 0, SweepFrequencyEnd: 0, SweepLength: 0, Sweep: 0, SweepChannel: 0, SweepTaperStart: 0, SweepTaperEnd: 0, Taper: 0, CorrelatedTraces: 0, BinaryGainRecovery: 0, AmplitudeRecovery: 0, MeasurementSystem: 1, ImpulseSignalPolarity: 0, VibratoryPolarity: 0, SEGYRevision: 0, TraceFlag: 1, ExtendedHeaders: 0}\n",
      "\n",
      "\n",
      "Trace header:  {TRACE_SEQUENCE_LINE: 1, TRACE_SEQUENCE_FILE: 0, FieldRecord: 0, TraceNumber: 0, EnergySourcePoint: 0, CDP: 0, CDP_TRACE: 1, TraceIdentificationCode: 1, NSummedTraces: 0, NStackedTraces: 0, DataUse: 0, offset: 0, ReceiverGroupElevation: 0, SourceSurfaceElevation: 0, SourceDepth: 0, ReceiverDatumElevation: 0, SourceDatumElevation: 0, SourceWaterDepth: 0, GroupWaterDepth: 0, ElevationScalar: 0, SourceGroupScalar: 1, SourceX: 0, SourceY: 0, GroupX: 0, GroupY: 0, CoordinateUnits: 1, WeatheringVelocity: 0, SubWeatheringVelocity: 0, SourceUpholeTime: 0, GroupUpholeTime: 0, SourceStaticCorrection: 0, GroupStaticCorrection: 0, TotalStaticApplied: 0, LagTimeA: 0, LagTimeB: 0, DelayRecordingTime: -280, MuteTimeStart: 0, MuteTimeEND: 0, TRACE_SAMPLE_COUNT: 1071, TRACE_SAMPLE_INTERVAL: 4000, GainType: 0, InstrumentGainConstant: 0, InstrumentInitialGain: 0, Correlated: 0, SweepFrequencyStart: 0, SweepFrequencyEnd: 0, SweepLength: 0, SweepType: 0, SweepTraceTaperLengthStart: 0, SweepTraceTaperLengthEnd: 0, TaperType: 0, AliasFilterFrequency: 0, AliasFilterSlope: 0, NotchFilterFrequency: 0, NotchFilterSlope: 0, LowCutFrequency: 0, HighCutFrequency: 0, LowCutSlope: 0, HighCutSlope: 0, YearDataRecorded: 0, DayOfYear: 0, HourOfDay: 0, MinuteOfHour: 0, SecondOfMinute: 0, TimeBaseCode: 0, TraceWeightingFactor: 0, GeophoneGroupNumberRoll1: 0, GeophoneGroupNumberFirstTraceOrigField: 0, GeophoneGroupNumberLastTraceOrigField: 0, GapSize: 0, OverTravel: 0, CDP_X: 370563, CDP_Y: 5712742, INLINE_3D: 1001, CROSSLINE_3D: 5001, ShotPoint: 0, ShotPointScalar: 0, TraceValueMeasurementUnit: 0, TransductionConstantMantissa: 0, TransductionConstantPower: 0, TransductionUnit: 0, TraceIdentifier: 0, ScalarTraceHeader: 0, SourceType: 0, SourceEnergyDirectionMantissa: 0, SourceEnergyDirectionExponent: 0, SourceMeasurementMantissa: 0, SourceMeasurementExponent: 0, SourceMeasurementUnit: 0}\n",
      "\n",
      "Depth of one trace is: 1071\n",
      "Number of ILINES: 1474\n",
      "Number of XLINES: 1382\n",
      "ILINES range from 1001 to 2474\n",
      "XLINES range from 5001 to 6382\n",
      "CDP_X range from 370563 to 405088\n",
      "CDP_Y range from 5712742 to 5731154\n"
     ]
    }
   ],
   "source": [
    "geom = Geometry(path_data, verbose=True)"
   ]
  },
  {
   "cell_type": "code",
   "execution_count": 5,
   "metadata": {},
   "outputs": [
    {
     "data": {
      "application/vnd.jupyter.widget-view+json": {
       "model_id": "2da1d294670747f7968558ef19f1afea",
       "version_major": 2,
       "version_minor": 0
      },
      "text/plain": [
       "HBox(children=(IntProgress(value=0, max=2035596), HTML(value='')))"
      ]
     },
     "metadata": {},
     "output_type": "display_data"
    },
    {
     "name": "stdout",
     "output_type": "stream",
     "text": [
      "\n",
      "Number of duplicates: 0\n",
      "Number of points missing:  1472\n"
     ]
    },
    {
     "data": {
      "application/vnd.jupyter.widget-view+json": {
       "model_id": "34bbdefb278746cd932d85dc70a9d464",
       "version_major": 2,
       "version_minor": 0
      },
      "text/plain": [
       "HBox(children=(IntProgress(value=0, max=2037068), HTML(value='')))"
      ]
     },
     "metadata": {},
     "output_type": "display_data"
    },
    {
     "name": "stdout",
     "output_type": "stream",
     "text": [
      "\n"
     ]
    },
    {
     "data": {
      "image/png": "[encoded data removed]",
      "text/plain": [
       "<Figure size 864x504 with 1 Axes>"
      ]
     },
     "metadata": {
      "needs_background": "light"
     },
     "output_type": "display_data"
    }
   ],
   "source": [
    "# Check some stats and draw cube from above\n",
    "dupl, dupl_count = {}, 0\n",
    "for k, v in tqdm_notebook(geom.il_xl_trace.items()):\n",
    "    if dupl.get(k) is not None:\n",
    "        dupl[k] += 1\n",
    "        dupl_count += 1\n",
    "    else:\n",
    "        dupl[k] =1\n",
    "    \n",
    "print('Number of duplicates:', dupl_count)\n",
    "\n",
    "possible_coordinates = [(i, x) for i in geom.ilines for x in geom.xlines]\n",
    "missing_points = list(set(possible_coordinates) - set(geom.il_xl_trace.keys()))    \n",
    "print('Number of points missing: ', len(missing_points))\n",
    "\n",
    "\n",
    "m = np.zeros((geom.ilines_len, geom.xlines_len))\n",
    "for point in tqdm_notebook(possible_coordinates):\n",
    "    if point in geom.il_xl_trace.keys():\n",
    "        m[point[0] - geom.ilines_offset, point[1] - geom.xlines_offset] += 1\n",
    "        \n",
    "\n",
    "fig, ax = plt.subplots(figsize=(12, 7))\n",
    "ax.imshow(m)\n",
    "ax.set_title('Known traces in cube (yellow is known)', fontdict={'fontsize': 20})\n",
    "plt.xlabel('XLINES', fontdict={'fontsize': 20})\n",
    "plt.ylabel('ILINES', fontdict={'fontsize': 20})\n",
    "plt.show()"
   ]
  },
  {
   "cell_type": "code",
   "execution_count": 6,
   "metadata": {
    "scrolled": true
   },
   "outputs": [
    {
     "name": "stdout",
     "output_type": "stream",
     "text": [
      "Parsing labels from../../data/Facies/VU_ONGMK/H_Kn_Kn2/H_Kn.txt\n"
     ]
    },
    {
     "data": {
      "application/vnd.jupyter.widget-view+json": {
       "model_id": "7a6f7e0ba2e747fa8c8fd5d411149ec0",
       "version_major": 2,
       "version_minor": 0
      },
      "text/plain": [
       "HBox(children=(IntProgress(value=1, bar_style='info', max=1), HTML(value='')))"
      ]
     },
     "metadata": {},
     "output_type": "display_data"
    },
    {
     "name": "stdout",
     "output_type": "stream",
     "text": [
      "\n",
      "Parsing labels from../../data/Facies/VU_ONGMK/H_Kn_Kn2/H_Kn2.txt\n"
     ]
    },
    {
     "data": {
      "application/vnd.jupyter.widget-view+json": {
       "model_id": "50fdd36088a543dea0628db7dd3e9ce7",
       "version_major": 2,
       "version_minor": 0
      },
      "text/plain": [
       "HBox(children=(IntProgress(value=1, bar_style='info', max=1), HTML(value='')))"
      ]
     },
     "metadata": {},
     "output_type": "display_data"
    },
    {
     "name": "stdout",
     "output_type": "stream",
     "text": [
      "\n",
      "Parsing labels from../../data/Facies/VU_ONGMK/H_P1art_P6/H_P1art.txt\n"
     ]
    },
    {
     "data": {
      "application/vnd.jupyter.widget-view+json": {
       "model_id": "c702aa1612fd42d6967f59af19ae0851",
       "version_major": 2,
       "version_minor": 0
      },
      "text/plain": [
       "HBox(children=(IntProgress(value=1, bar_style='info', max=1), HTML(value='')))"
      ]
     },
     "metadata": {},
     "output_type": "display_data"
    },
    {
     "name": "stdout",
     "output_type": "stream",
     "text": [
      "\n",
      "Parsing labels from../../data/Facies/VU_ONGMK/H_P1art_P6/H_P6.txt\n"
     ]
    },
    {
     "data": {
      "application/vnd.jupyter.widget-view+json": {
       "model_id": "6e8c832ee9fb4490a36c4b5ecd45e62a",
       "version_major": 2,
       "version_minor": 0
      },
      "text/plain": [
       "HBox(children=(IntProgress(value=1, bar_style='info', max=1), HTML(value='')))"
      ]
     },
     "metadata": {},
     "output_type": "display_data"
    },
    {
     "name": "stdout",
     "output_type": "stream",
     "text": [
      "\n",
      "Parsing labels from../../data/Facies/VU_ONGMK/H_P7_B/H_B.txt\n"
     ]
    },
    {
     "data": {
      "application/vnd.jupyter.widget-view+json": {
       "model_id": "c6296e04bf8f4bb38d8adb55cd553d20",
       "version_major": 2,
       "version_minor": 0
      },
      "text/plain": [
       "HBox(children=(IntProgress(value=1, bar_style='info', max=1), HTML(value='')))"
      ]
     },
     "metadata": {},
     "output_type": "display_data"
    },
    {
     "name": "stdout",
     "output_type": "stream",
     "text": [
      "\n",
      "Parsing labels from../../data/Facies/VU_ONGMK/H_P7_B/H_P7.txt\n"
     ]
    },
    {
     "data": {
      "application/vnd.jupyter.widget-view+json": {
       "model_id": "ecc0cab69c284d43ba7168adf68da7c1",
       "version_major": 2,
       "version_minor": 0
      },
      "text/plain": [
       "HBox(children=(IntProgress(value=1, bar_style='info', max=1), HTML(value='')))"
      ]
     },
     "metadata": {},
     "output_type": "display_data"
    },
    {
     "name": "stdout",
     "output_type": "stream",
     "text": [
      "\n",
      "Parsing labels from../../data/Facies/VU_ONGMK/H_U_O/H_O.txt\n"
     ]
    },
    {
     "data": {
      "application/vnd.jupyter.widget-view+json": {
       "model_id": "932ea84b63b1424991149a37259381fa",
       "version_major": 2,
       "version_minor": 0
      },
      "text/plain": [
       "HBox(children=(IntProgress(value=1, bar_style='info', max=1), HTML(value='')))"
      ]
     },
     "metadata": {},
     "output_type": "display_data"
    },
    {
     "name": "stdout",
     "output_type": "stream",
     "text": [
      "\n",
      "Parsing labels from../../data/Facies/VU_ONGMK/H_U_O/H_U.txt\n"
     ]
    },
    {
     "data": {
      "application/vnd.jupyter.widget-view+json": {
       "model_id": "86b68505964e4d61922d400504d373ef",
       "version_major": 2,
       "version_minor": 0
      },
      "text/plain": [
       "HBox(children=(IntProgress(value=1, bar_style='info', max=1), HTML(value='')))"
      ]
     },
     "metadata": {},
     "output_type": "display_data"
    },
    {
     "name": "stdout",
     "output_type": "stream",
     "text": [
      "\n"
     ]
    }
   ],
   "source": [
    "path_labels_txt = ['../../data/Facies/VU_ONGMK/H_Kn_Kn2/H_Kn.txt',\n",
    "                   '../../data/Facies/VU_ONGMK/H_Kn_Kn2/H_Kn2.txt',\n",
    "                   '../../data/Facies/VU_ONGMK/H_P1art_P6/H_P1art.txt',\n",
    "                   '../../data/Facies/VU_ONGMK/H_P1art_P6/H_P6.txt',\n",
    "                   '../../data/Facies/VU_ONGMK/H_P7_B/H_B.txt',\n",
    "                   '../../data/Facies/VU_ONGMK/H_P7_B/H_P7.txt',\n",
    "                   '../../data/Facies/VU_ONGMK/H_U_O/H_O.txt',\n",
    "                   '../../data/Facies/VU_ONGMK/H_U_O/H_U.txt']\n",
    "\n",
    "labels = parse_labels(path_labels_txt, geom)"
   ]
  },
  {
   "cell_type": "code",
   "execution_count": 7,
   "metadata": {},
   "outputs": [
    {
     "data": {
      "application/vnd.jupyter.widget-view+json": {
       "model_id": "8ce19d5ffc28436fbabbb17f37219633",
       "version_major": 2,
       "version_minor": 0
      },
      "text/plain": [
       "HBox(children=(IntProgress(value=0, max=2037068), HTML(value='')))"
      ]
     },
     "metadata": {},
     "output_type": "display_data"
    },
    {
     "name": "stdout",
     "output_type": "stream",
     "text": [
      "\n"
     ]
    },
    {
     "data": {
      "image/png": "[encoded data removed]",
      "text/plain": [
       "<Figure size 864x504 with 1 Axes>"
      ]
     },
     "metadata": {
      "needs_background": "light"
     },
     "output_type": "display_data"
    }
   ],
   "source": [
    "m = np.zeros((geom.ilines_len, geom.xlines_len))\n",
    "for point in tqdm_notebook(possible_coordinates):\n",
    "    if point in labels.keys():\n",
    "        m[point[0] - geom.ilines_offset, point[1] - geom.xlines_offset] += len(labels[point])\n",
    "\n",
    "fig, ax = plt.subplots(figsize=(12, 7))\n",
    "ax.imshow(m)\n",
    "ax.set_title('Known labels for cube (yellow is known)', fontdict={'fontsize': 20})\n",
    "plt.xlabel('XLINES', fontdict={'fontsize': 20})\n",
    "plt.ylabel('ILINES', fontdict={'fontsize': 20})\n",
    "plt.show() "
   ]
  },
  {
   "cell_type": "code",
   "execution_count": null,
   "metadata": {},
   "outputs": [],
   "source": [
    "path_save = '../../data/Facies/VU_ONGMK/Repaired_new.sgy'\n",
    "repair(path_data, geom, path_save)"
   ]
  },
  {
   "cell_type": "code",
   "execution_count": null,
   "metadata": {},
   "outputs": [],
   "source": []
  }
 ],
 "metadata": {
  "kernelspec": {
   "display_name": "Python 3",
   "language": "python",
   "name": "python3"
  },
  "language_info": {
   "codemirror_mode": {
    "name": "ipython",
    "version": 3
   },
   "file_extension": ".py",
   "mimetype": "text/x-python",
   "name": "python",
   "nbconvert_exporter": "python",
   "pygments_lexer": "ipython3",
   "version": "3.7.1"
  }
 },
 "nbformat": 4,
 "nbformat_minor": 2
}
